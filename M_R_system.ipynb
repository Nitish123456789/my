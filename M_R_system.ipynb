{
  "nbformat": 4,
  "nbformat_minor": 0,
  "metadata": {
    "colab": {
      "provenance": [],
      "gpuType": "T4",
      "authorship_tag": "ABX9TyPS5Nc5da2WdQxwjPZjyalb",
      "include_colab_link": true
    },
    "kernelspec": {
      "name": "python3",
      "display_name": "Python 3"
    },
    "language_info": {
      "name": "python"
    },
    "accelerator": "GPU"
  },
  "cells": [
    {
      "cell_type": "markdown",
      "metadata": {
        "id": "view-in-github",
        "colab_type": "text"
      },
      "source": [
        "<a href=\"https://colab.research.google.com/github/Nitish123456789/my/blob/main/M_R_system.ipynb\" target=\"_parent\"><img src=\"https://colab.research.google.com/assets/colab-badge.svg\" alt=\"Open In Colab\"/></a>"
      ]
    },
    {
      "cell_type": "code",
      "execution_count": null,
      "metadata": {
        "id": "9-a6Uzu1Qy4t"
      },
      "outputs": [],
      "source": [
        "import pandas as pd"
      ]
    },
    {
      "cell_type": "code",
      "source": [
        "import numpy as np"
      ],
      "metadata": {
        "id": "-peaAhMuRL0e"
      },
      "execution_count": null,
      "outputs": []
    },
    {
      "cell_type": "code",
      "source": [
        "df=pd.read_csv('https://github.com/YBIFoundation/Dataset/raw/main/Movies%20Recommendation.csv')"
      ],
      "metadata": {
        "id": "rYo8SWstRQNj"
      },
      "execution_count": null,
      "outputs": []
    },
    {
      "cell_type": "code",
      "source": [
        "df"
      ],
      "metadata": {
        "colab": {
          "base_uri": "https://localhost:8080/",
          "height": 1000
        },
        "id": "4amzaFQYT1YH",
        "outputId": "56fe0d4c-5a09-4f80-9bd2-9ae8ab116728"
      },
      "execution_count": null,
      "outputs": [
        {
          "output_type": "execute_result",
          "data": {
            "text/plain": [
              "      Movie_ID                  Movie_Title                       Movie_Genre  \\\n",
              "0            1                   Four Rooms                      Crime Comedy   \n",
              "1            2                    Star Wars  Adventure Action Science Fiction   \n",
              "2            3                 Finding Nemo                  Animation Family   \n",
              "3            4                 Forrest Gump              Comedy Drama Romance   \n",
              "4            5              American Beauty                             Drama   \n",
              "...        ...                          ...                               ...   \n",
              "4755      4784             Midnight Cabaret                            Horror   \n",
              "4756      4785             Growing Up Smith               Comedy Family Drama   \n",
              "4757      4786                       8 Days                    Thriller Drama   \n",
              "4758      4787              Running Forever                            Family   \n",
              "4759      4788  To Be Frank, Sinatra at 100                       Documentary   \n",
              "\n",
              "     Movie_Language  Movie_Budget  Movie_Popularity Movie_Release_Date  \\\n",
              "0                en       4000000         22.876230         09-12-1995   \n",
              "1                en      11000000        126.393695         25-05-1977   \n",
              "2                en      94000000         85.688789         30-05-2003   \n",
              "3                en      55000000        138.133331         06-07-1994   \n",
              "4                en      15000000         80.878605         15-09-1999   \n",
              "...             ...           ...               ...                ...   \n",
              "4755             en             0          0.001389         01-01-1990   \n",
              "4756             en             0          0.710870         03-02-2017   \n",
              "4757             en             0          0.015295         15-06-2014   \n",
              "4758             en             0          0.028756         27-10-2015   \n",
              "4759             en             2          0.050625         12-12-2015   \n",
              "\n",
              "      Movie_Revenue  Movie_Runtime  Movie_Vote  ...  \\\n",
              "0           4300000           98.0         6.5  ...   \n",
              "1         775398007          121.0         8.1  ...   \n",
              "2         940335536          100.0         7.6  ...   \n",
              "3         677945399          142.0         8.2  ...   \n",
              "4         356296601          122.0         7.9  ...   \n",
              "...             ...            ...         ...  ...   \n",
              "4755              0           94.0         0.0  ...   \n",
              "4756              0          102.0         7.4  ...   \n",
              "4757              0           90.0         0.0  ...   \n",
              "4758              0           88.0         0.0  ...   \n",
              "4759              0            NaN         0.0  ...   \n",
              "\n",
              "                                         Movie_Homepage  \\\n",
              "0                                                   NaN   \n",
              "1     http://www.starwars.com/films/star-wars-episod...   \n",
              "2                 http://movies.disney.com/finding-nemo   \n",
              "3                                                   NaN   \n",
              "4                         http://www.dreamworks.com/ab/   \n",
              "...                                                 ...   \n",
              "4755                                                NaN   \n",
              "4756                 http://www.growingupsmithmovie.com   \n",
              "4757                                                NaN   \n",
              "4758                                                NaN   \n",
              "4759                                                NaN   \n",
              "\n",
              "                                         Movie_Keywords  \\\n",
              "0             hotel new year's eve witch bet hotel room   \n",
              "1           android galaxy hermit death star lightsaber   \n",
              "2     father son relationship harbor underwater fish...   \n",
              "3     vietnam veteran hippie mentally disabled runni...   \n",
              "4     male nudity female nudity adultery midlife cri...   \n",
              "...                                                 ...   \n",
              "4755                                                NaN   \n",
              "4756                                                NaN   \n",
              "4757                     christian film sex trafficking   \n",
              "4758                                                NaN   \n",
              "4759  music actors legendary perfomer classic hollyw...   \n",
              "\n",
              "                                         Movie_Overview  \\\n",
              "0     It's Ted the Bellhop's first night on the job....   \n",
              "1     Princess Leia is captured and held hostage by ...   \n",
              "2     Nemo, an adventurous young clownfish, is unexp...   \n",
              "3     A man with a low IQ has accomplished great thi...   \n",
              "4     Lester Burnham, a depressed suburban father in...   \n",
              "...                                                 ...   \n",
              "4755  A Broadway producer puts on a play with a Devi...   \n",
              "4756  In 1979, an Indian family moves to America wit...   \n",
              "4757  After sneaking to a party with her friends, 16...   \n",
              "4758  After being estranged since her mother's death...   \n",
              "4759                                                NaN   \n",
              "\n",
              "                                 Movie_Production_House  \\\n",
              "0     [{\"name\": \"Miramax Films\", \"id\": 14}, {\"name\":...   \n",
              "1     [{\"name\": \"Lucasfilm\", \"id\": 1}, {\"name\": \"Twe...   \n",
              "2        [{\"name\": \"Pixar Animation Studios\", \"id\": 3}]   \n",
              "3             [{\"name\": \"Paramount Pictures\", \"id\": 4}]   \n",
              "4     [{\"name\": \"DreamWorks SKG\", \"id\": 27}, {\"name\"...   \n",
              "...                                                 ...   \n",
              "4755                                                 []   \n",
              "4756                                                 []   \n",
              "4757     [{\"name\": \"After Eden Pictures\", \"id\": 85248}]   \n",
              "4758    [{\"name\": \"New Kingdom Pictures\", \"id\": 41671}]   \n",
              "4759   [{\"name\": \"Eyeline Entertainment\", \"id\": 60343}]   \n",
              "\n",
              "                               Movie_Production_Country  \\\n",
              "0     [{\"iso_3166_1\": \"US\", \"name\": \"United States o...   \n",
              "1     [{\"iso_3166_1\": \"US\", \"name\": \"United States o...   \n",
              "2     [{\"iso_3166_1\": \"US\", \"name\": \"United States o...   \n",
              "3     [{\"iso_3166_1\": \"US\", \"name\": \"United States o...   \n",
              "4     [{\"iso_3166_1\": \"US\", \"name\": \"United States o...   \n",
              "...                                                 ...   \n",
              "4755                                                 []   \n",
              "4756                                                 []   \n",
              "4757  [{\"iso_3166_1\": \"US\", \"name\": \"United States o...   \n",
              "4758  [{\"iso_3166_1\": \"US\", \"name\": \"United States o...   \n",
              "4759   [{\"iso_3166_1\": \"GB\", \"name\": \"United Kingdom\"}]   \n",
              "\n",
              "                         Movie_Spoken_Language  \\\n",
              "0     [{\"iso_639_1\": \"en\", \"name\": \"English\"}]   \n",
              "1     [{\"iso_639_1\": \"en\", \"name\": \"English\"}]   \n",
              "2     [{\"iso_639_1\": \"en\", \"name\": \"English\"}]   \n",
              "3     [{\"iso_639_1\": \"en\", \"name\": \"English\"}]   \n",
              "4     [{\"iso_639_1\": \"en\", \"name\": \"English\"}]   \n",
              "...                                        ...   \n",
              "4755  [{\"iso_639_1\": \"en\", \"name\": \"English\"}]   \n",
              "4756  [{\"iso_639_1\": \"en\", \"name\": \"English\"}]   \n",
              "4757  [{\"iso_639_1\": \"en\", \"name\": \"English\"}]   \n",
              "4758                                        []   \n",
              "4759                                        []   \n",
              "\n",
              "                                          Movie_Tagline  \\\n",
              "0     Twelve outrageous guests. Four scandalous requ...   \n",
              "1          A long time ago in a galaxy far, far away...   \n",
              "2     There are 3.7 trillion fish in the ocean, they...   \n",
              "3     The world will never be the same, once you've ...   \n",
              "4                                          Look closer.   \n",
              "...                                                 ...   \n",
              "4755                The hot spot where Satan's waitin'.   \n",
              "4756           It’s better to stand out than to fit in.   \n",
              "4757           She never knew it could happen to her...   \n",
              "4758                                                NaN   \n",
              "4759                                                NaN   \n",
              "\n",
              "                                             Movie_Cast  \\\n",
              "0     Tim Roth Antonio Banderas Jennifer Beals Madon...   \n",
              "1     Mark Hamill Harrison Ford Carrie Fisher Peter ...   \n",
              "2     Albert Brooks Ellen DeGeneres Alexander Gould ...   \n",
              "3     Tom Hanks Robin Wright Gary Sinise Mykelti Wil...   \n",
              "4     Kevin Spacey Annette Bening Thora Birch Wes Be...   \n",
              "...                                                 ...   \n",
              "4755  Lisa Hart Carroll Michael Des Barres Paul Drak...   \n",
              "4756  Roni Akurati Brighton Sharbino Jason Lee Anjul...   \n",
              "4757  Nicole Smolen Kim Baldwin Ariana Stephens Brys...   \n",
              "4758                                                NaN   \n",
              "4759                                    Tony Oppedisano   \n",
              "\n",
              "                                             Movie_Crew     Movie_Director  \n",
              "0     [{'name': 'Allison Anders', 'gender': 1, 'depa...     Allison Anders  \n",
              "1     [{'name': 'George Lucas', 'gender': 2, 'depart...       George Lucas  \n",
              "2     [{'name': 'Andrew Stanton', 'gender': 2, 'depa...     Andrew Stanton  \n",
              "3     [{'name': 'Alan Silvestri', 'gender': 2, 'depa...    Robert Zemeckis  \n",
              "4     [{'name': 'Thomas Newman', 'gender': 2, 'depar...         Sam Mendes  \n",
              "...                                                 ...                ...  \n",
              "4755  [{'name': 'Pece Dingo', 'gender': 0, 'departme...         Pece Dingo  \n",
              "4756  [{'name': 'Frank Lotito', 'gender': 0, 'depart...       Frank Lotito  \n",
              "4757  [{'name': 'Jaco Booyens', 'gender': 0, 'depart...       Jaco Booyens  \n",
              "4758                                                 []                NaN  \n",
              "4759  [{'name': 'Simon Napier-Bell', 'gender': 0, 'd...  Simon Napier-Bell  \n",
              "\n",
              "[4760 rows x 21 columns]"
            ],
            "text/html": [
              "\n",
              "  <div id=\"df-606069db-d345-4b3d-88ac-91e270b12a8c\" class=\"colab-df-container\">\n",
              "    <div>\n",
              "<style scoped>\n",
              "    .dataframe tbody tr th:only-of-type {\n",
              "        vertical-align: middle;\n",
              "    }\n",
              "\n",
              "    .dataframe tbody tr th {\n",
              "        vertical-align: top;\n",
              "    }\n",
              "\n",
              "    .dataframe thead th {\n",
              "        text-align: right;\n",
              "    }\n",
              "</style>\n",
              "<table border=\"1\" class=\"dataframe\">\n",
              "  <thead>\n",
              "    <tr style=\"text-align: right;\">\n",
              "      <th></th>\n",
              "      <th>Movie_ID</th>\n",
              "      <th>Movie_Title</th>\n",
              "      <th>Movie_Genre</th>\n",
              "      <th>Movie_Language</th>\n",
              "      <th>Movie_Budget</th>\n",
              "      <th>Movie_Popularity</th>\n",
              "      <th>Movie_Release_Date</th>\n",
              "      <th>Movie_Revenue</th>\n",
              "      <th>Movie_Runtime</th>\n",
              "      <th>Movie_Vote</th>\n",
              "      <th>...</th>\n",
              "      <th>Movie_Homepage</th>\n",
              "      <th>Movie_Keywords</th>\n",
              "      <th>Movie_Overview</th>\n",
              "      <th>Movie_Production_House</th>\n",
              "      <th>Movie_Production_Country</th>\n",
              "      <th>Movie_Spoken_Language</th>\n",
              "      <th>Movie_Tagline</th>\n",
              "      <th>Movie_Cast</th>\n",
              "      <th>Movie_Crew</th>\n",
              "      <th>Movie_Director</th>\n",
              "    </tr>\n",
              "  </thead>\n",
              "  <tbody>\n",
              "    <tr>\n",
              "      <th>0</th>\n",
              "      <td>1</td>\n",
              "      <td>Four Rooms</td>\n",
              "      <td>Crime Comedy</td>\n",
              "      <td>en</td>\n",
              "      <td>4000000</td>\n",
              "      <td>22.876230</td>\n",
              "      <td>09-12-1995</td>\n",
              "      <td>4300000</td>\n",
              "      <td>98.0</td>\n",
              "      <td>6.5</td>\n",
              "      <td>...</td>\n",
              "      <td>NaN</td>\n",
              "      <td>hotel new year's eve witch bet hotel room</td>\n",
              "      <td>It's Ted the Bellhop's first night on the job....</td>\n",
              "      <td>[{\"name\": \"Miramax Films\", \"id\": 14}, {\"name\":...</td>\n",
              "      <td>[{\"iso_3166_1\": \"US\", \"name\": \"United States o...</td>\n",
              "      <td>[{\"iso_639_1\": \"en\", \"name\": \"English\"}]</td>\n",
              "      <td>Twelve outrageous guests. Four scandalous requ...</td>\n",
              "      <td>Tim Roth Antonio Banderas Jennifer Beals Madon...</td>\n",
              "      <td>[{'name': 'Allison Anders', 'gender': 1, 'depa...</td>\n",
              "      <td>Allison Anders</td>\n",
              "    </tr>\n",
              "    <tr>\n",
              "      <th>1</th>\n",
              "      <td>2</td>\n",
              "      <td>Star Wars</td>\n",
              "      <td>Adventure Action Science Fiction</td>\n",
              "      <td>en</td>\n",
              "      <td>11000000</td>\n",
              "      <td>126.393695</td>\n",
              "      <td>25-05-1977</td>\n",
              "      <td>775398007</td>\n",
              "      <td>121.0</td>\n",
              "      <td>8.1</td>\n",
              "      <td>...</td>\n",
              "      <td>http://www.starwars.com/films/star-wars-episod...</td>\n",
              "      <td>android galaxy hermit death star lightsaber</td>\n",
              "      <td>Princess Leia is captured and held hostage by ...</td>\n",
              "      <td>[{\"name\": \"Lucasfilm\", \"id\": 1}, {\"name\": \"Twe...</td>\n",
              "      <td>[{\"iso_3166_1\": \"US\", \"name\": \"United States o...</td>\n",
              "      <td>[{\"iso_639_1\": \"en\", \"name\": \"English\"}]</td>\n",
              "      <td>A long time ago in a galaxy far, far away...</td>\n",
              "      <td>Mark Hamill Harrison Ford Carrie Fisher Peter ...</td>\n",
              "      <td>[{'name': 'George Lucas', 'gender': 2, 'depart...</td>\n",
              "      <td>George Lucas</td>\n",
              "    </tr>\n",
              "    <tr>\n",
              "      <th>2</th>\n",
              "      <td>3</td>\n",
              "      <td>Finding Nemo</td>\n",
              "      <td>Animation Family</td>\n",
              "      <td>en</td>\n",
              "      <td>94000000</td>\n",
              "      <td>85.688789</td>\n",
              "      <td>30-05-2003</td>\n",
              "      <td>940335536</td>\n",
              "      <td>100.0</td>\n",
              "      <td>7.6</td>\n",
              "      <td>...</td>\n",
              "      <td>http://movies.disney.com/finding-nemo</td>\n",
              "      <td>father son relationship harbor underwater fish...</td>\n",
              "      <td>Nemo, an adventurous young clownfish, is unexp...</td>\n",
              "      <td>[{\"name\": \"Pixar Animation Studios\", \"id\": 3}]</td>\n",
              "      <td>[{\"iso_3166_1\": \"US\", \"name\": \"United States o...</td>\n",
              "      <td>[{\"iso_639_1\": \"en\", \"name\": \"English\"}]</td>\n",
              "      <td>There are 3.7 trillion fish in the ocean, they...</td>\n",
              "      <td>Albert Brooks Ellen DeGeneres Alexander Gould ...</td>\n",
              "      <td>[{'name': 'Andrew Stanton', 'gender': 2, 'depa...</td>\n",
              "      <td>Andrew Stanton</td>\n",
              "    </tr>\n",
              "    <tr>\n",
              "      <th>3</th>\n",
              "      <td>4</td>\n",
              "      <td>Forrest Gump</td>\n",
              "      <td>Comedy Drama Romance</td>\n",
              "      <td>en</td>\n",
              "      <td>55000000</td>\n",
              "      <td>138.133331</td>\n",
              "      <td>06-07-1994</td>\n",
              "      <td>677945399</td>\n",
              "      <td>142.0</td>\n",
              "      <td>8.2</td>\n",
              "      <td>...</td>\n",
              "      <td>NaN</td>\n",
              "      <td>vietnam veteran hippie mentally disabled runni...</td>\n",
              "      <td>A man with a low IQ has accomplished great thi...</td>\n",
              "      <td>[{\"name\": \"Paramount Pictures\", \"id\": 4}]</td>\n",
              "      <td>[{\"iso_3166_1\": \"US\", \"name\": \"United States o...</td>\n",
              "      <td>[{\"iso_639_1\": \"en\", \"name\": \"English\"}]</td>\n",
              "      <td>The world will never be the same, once you've ...</td>\n",
              "      <td>Tom Hanks Robin Wright Gary Sinise Mykelti Wil...</td>\n",
              "      <td>[{'name': 'Alan Silvestri', 'gender': 2, 'depa...</td>\n",
              "      <td>Robert Zemeckis</td>\n",
              "    </tr>\n",
              "    <tr>\n",
              "      <th>4</th>\n",
              "      <td>5</td>\n",
              "      <td>American Beauty</td>\n",
              "      <td>Drama</td>\n",
              "      <td>en</td>\n",
              "      <td>15000000</td>\n",
              "      <td>80.878605</td>\n",
              "      <td>15-09-1999</td>\n",
              "      <td>356296601</td>\n",
              "      <td>122.0</td>\n",
              "      <td>7.9</td>\n",
              "      <td>...</td>\n",
              "      <td>http://www.dreamworks.com/ab/</td>\n",
              "      <td>male nudity female nudity adultery midlife cri...</td>\n",
              "      <td>Lester Burnham, a depressed suburban father in...</td>\n",
              "      <td>[{\"name\": \"DreamWorks SKG\", \"id\": 27}, {\"name\"...</td>\n",
              "      <td>[{\"iso_3166_1\": \"US\", \"name\": \"United States o...</td>\n",
              "      <td>[{\"iso_639_1\": \"en\", \"name\": \"English\"}]</td>\n",
              "      <td>Look closer.</td>\n",
              "      <td>Kevin Spacey Annette Bening Thora Birch Wes Be...</td>\n",
              "      <td>[{'name': 'Thomas Newman', 'gender': 2, 'depar...</td>\n",
              "      <td>Sam Mendes</td>\n",
              "    </tr>\n",
              "    <tr>\n",
              "      <th>...</th>\n",
              "      <td>...</td>\n",
              "      <td>...</td>\n",
              "      <td>...</td>\n",
              "      <td>...</td>\n",
              "      <td>...</td>\n",
              "      <td>...</td>\n",
              "      <td>...</td>\n",
              "      <td>...</td>\n",
              "      <td>...</td>\n",
              "      <td>...</td>\n",
              "      <td>...</td>\n",
              "      <td>...</td>\n",
              "      <td>...</td>\n",
              "      <td>...</td>\n",
              "      <td>...</td>\n",
              "      <td>...</td>\n",
              "      <td>...</td>\n",
              "      <td>...</td>\n",
              "      <td>...</td>\n",
              "      <td>...</td>\n",
              "      <td>...</td>\n",
              "    </tr>\n",
              "    <tr>\n",
              "      <th>4755</th>\n",
              "      <td>4784</td>\n",
              "      <td>Midnight Cabaret</td>\n",
              "      <td>Horror</td>\n",
              "      <td>en</td>\n",
              "      <td>0</td>\n",
              "      <td>0.001389</td>\n",
              "      <td>01-01-1990</td>\n",
              "      <td>0</td>\n",
              "      <td>94.0</td>\n",
              "      <td>0.0</td>\n",
              "      <td>...</td>\n",
              "      <td>NaN</td>\n",
              "      <td>NaN</td>\n",
              "      <td>A Broadway producer puts on a play with a Devi...</td>\n",
              "      <td>[]</td>\n",
              "      <td>[]</td>\n",
              "      <td>[{\"iso_639_1\": \"en\", \"name\": \"English\"}]</td>\n",
              "      <td>The hot spot where Satan's waitin'.</td>\n",
              "      <td>Lisa Hart Carroll Michael Des Barres Paul Drak...</td>\n",
              "      <td>[{'name': 'Pece Dingo', 'gender': 0, 'departme...</td>\n",
              "      <td>Pece Dingo</td>\n",
              "    </tr>\n",
              "    <tr>\n",
              "      <th>4756</th>\n",
              "      <td>4785</td>\n",
              "      <td>Growing Up Smith</td>\n",
              "      <td>Comedy Family Drama</td>\n",
              "      <td>en</td>\n",
              "      <td>0</td>\n",
              "      <td>0.710870</td>\n",
              "      <td>03-02-2017</td>\n",
              "      <td>0</td>\n",
              "      <td>102.0</td>\n",
              "      <td>7.4</td>\n",
              "      <td>...</td>\n",
              "      <td>http://www.growingupsmithmovie.com</td>\n",
              "      <td>NaN</td>\n",
              "      <td>In 1979, an Indian family moves to America wit...</td>\n",
              "      <td>[]</td>\n",
              "      <td>[]</td>\n",
              "      <td>[{\"iso_639_1\": \"en\", \"name\": \"English\"}]</td>\n",
              "      <td>It’s better to stand out than to fit in.</td>\n",
              "      <td>Roni Akurati Brighton Sharbino Jason Lee Anjul...</td>\n",
              "      <td>[{'name': 'Frank Lotito', 'gender': 0, 'depart...</td>\n",
              "      <td>Frank Lotito</td>\n",
              "    </tr>\n",
              "    <tr>\n",
              "      <th>4757</th>\n",
              "      <td>4786</td>\n",
              "      <td>8 Days</td>\n",
              "      <td>Thriller Drama</td>\n",
              "      <td>en</td>\n",
              "      <td>0</td>\n",
              "      <td>0.015295</td>\n",
              "      <td>15-06-2014</td>\n",
              "      <td>0</td>\n",
              "      <td>90.0</td>\n",
              "      <td>0.0</td>\n",
              "      <td>...</td>\n",
              "      <td>NaN</td>\n",
              "      <td>christian film sex trafficking</td>\n",
              "      <td>After sneaking to a party with her friends, 16...</td>\n",
              "      <td>[{\"name\": \"After Eden Pictures\", \"id\": 85248}]</td>\n",
              "      <td>[{\"iso_3166_1\": \"US\", \"name\": \"United States o...</td>\n",
              "      <td>[{\"iso_639_1\": \"en\", \"name\": \"English\"}]</td>\n",
              "      <td>She never knew it could happen to her...</td>\n",
              "      <td>Nicole Smolen Kim Baldwin Ariana Stephens Brys...</td>\n",
              "      <td>[{'name': 'Jaco Booyens', 'gender': 0, 'depart...</td>\n",
              "      <td>Jaco Booyens</td>\n",
              "    </tr>\n",
              "    <tr>\n",
              "      <th>4758</th>\n",
              "      <td>4787</td>\n",
              "      <td>Running Forever</td>\n",
              "      <td>Family</td>\n",
              "      <td>en</td>\n",
              "      <td>0</td>\n",
              "      <td>0.028756</td>\n",
              "      <td>27-10-2015</td>\n",
              "      <td>0</td>\n",
              "      <td>88.0</td>\n",
              "      <td>0.0</td>\n",
              "      <td>...</td>\n",
              "      <td>NaN</td>\n",
              "      <td>NaN</td>\n",
              "      <td>After being estranged since her mother's death...</td>\n",
              "      <td>[{\"name\": \"New Kingdom Pictures\", \"id\": 41671}]</td>\n",
              "      <td>[{\"iso_3166_1\": \"US\", \"name\": \"United States o...</td>\n",
              "      <td>[]</td>\n",
              "      <td>NaN</td>\n",
              "      <td>NaN</td>\n",
              "      <td>[]</td>\n",
              "      <td>NaN</td>\n",
              "    </tr>\n",
              "    <tr>\n",
              "      <th>4759</th>\n",
              "      <td>4788</td>\n",
              "      <td>To Be Frank, Sinatra at 100</td>\n",
              "      <td>Documentary</td>\n",
              "      <td>en</td>\n",
              "      <td>2</td>\n",
              "      <td>0.050625</td>\n",
              "      <td>12-12-2015</td>\n",
              "      <td>0</td>\n",
              "      <td>NaN</td>\n",
              "      <td>0.0</td>\n",
              "      <td>...</td>\n",
              "      <td>NaN</td>\n",
              "      <td>music actors legendary perfomer classic hollyw...</td>\n",
              "      <td>NaN</td>\n",
              "      <td>[{\"name\": \"Eyeline Entertainment\", \"id\": 60343}]</td>\n",
              "      <td>[{\"iso_3166_1\": \"GB\", \"name\": \"United Kingdom\"}]</td>\n",
              "      <td>[]</td>\n",
              "      <td>NaN</td>\n",
              "      <td>Tony Oppedisano</td>\n",
              "      <td>[{'name': 'Simon Napier-Bell', 'gender': 0, 'd...</td>\n",
              "      <td>Simon Napier-Bell</td>\n",
              "    </tr>\n",
              "  </tbody>\n",
              "</table>\n",
              "<p>4760 rows × 21 columns</p>\n",
              "</div>\n",
              "    <div class=\"colab-df-buttons\">\n",
              "\n",
              "  <div class=\"colab-df-container\">\n",
              "    <button class=\"colab-df-convert\" onclick=\"convertToInteractive('df-606069db-d345-4b3d-88ac-91e270b12a8c')\"\n",
              "            title=\"Convert this dataframe to an interactive table.\"\n",
              "            style=\"display:none;\">\n",
              "\n",
              "  <svg xmlns=\"http://www.w3.org/2000/svg\" height=\"24px\" viewBox=\"0 -960 960 960\">\n",
              "    <path d=\"M120-120v-720h720v720H120Zm60-500h600v-160H180v160Zm220 220h160v-160H400v160Zm0 220h160v-160H400v160ZM180-400h160v-160H180v160Zm440 0h160v-160H620v160ZM180-180h160v-160H180v160Zm440 0h160v-160H620v160Z\"/>\n",
              "  </svg>\n",
              "    </button>\n",
              "\n",
              "  <style>\n",
              "    .colab-df-container {\n",
              "      display:flex;\n",
              "      gap: 12px;\n",
              "    }\n",
              "\n",
              "    .colab-df-convert {\n",
              "      background-color: #E8F0FE;\n",
              "      border: none;\n",
              "      border-radius: 50%;\n",
              "      cursor: pointer;\n",
              "      display: none;\n",
              "      fill: #1967D2;\n",
              "      height: 32px;\n",
              "      padding: 0 0 0 0;\n",
              "      width: 32px;\n",
              "    }\n",
              "\n",
              "    .colab-df-convert:hover {\n",
              "      background-color: #E2EBFA;\n",
              "      box-shadow: 0px 1px 2px rgba(60, 64, 67, 0.3), 0px 1px 3px 1px rgba(60, 64, 67, 0.15);\n",
              "      fill: #174EA6;\n",
              "    }\n",
              "\n",
              "    .colab-df-buttons div {\n",
              "      margin-bottom: 4px;\n",
              "    }\n",
              "\n",
              "    [theme=dark] .colab-df-convert {\n",
              "      background-color: #3B4455;\n",
              "      fill: #D2E3FC;\n",
              "    }\n",
              "\n",
              "    [theme=dark] .colab-df-convert:hover {\n",
              "      background-color: #434B5C;\n",
              "      box-shadow: 0px 1px 3px 1px rgba(0, 0, 0, 0.15);\n",
              "      filter: drop-shadow(0px 1px 2px rgba(0, 0, 0, 0.3));\n",
              "      fill: #FFFFFF;\n",
              "    }\n",
              "  </style>\n",
              "\n",
              "    <script>\n",
              "      const buttonEl =\n",
              "        document.querySelector('#df-606069db-d345-4b3d-88ac-91e270b12a8c button.colab-df-convert');\n",
              "      buttonEl.style.display =\n",
              "        google.colab.kernel.accessAllowed ? 'block' : 'none';\n",
              "\n",
              "      async function convertToInteractive(key) {\n",
              "        const element = document.querySelector('#df-606069db-d345-4b3d-88ac-91e270b12a8c');\n",
              "        const dataTable =\n",
              "          await google.colab.kernel.invokeFunction('convertToInteractive',\n",
              "                                                    [key], {});\n",
              "        if (!dataTable) return;\n",
              "\n",
              "        const docLinkHtml = 'Like what you see? Visit the ' +\n",
              "          '<a target=\"_blank\" href=https://colab.research.google.com/notebooks/data_table.ipynb>data table notebook</a>'\n",
              "          + ' to learn more about interactive tables.';\n",
              "        element.innerHTML = '';\n",
              "        dataTable['output_type'] = 'display_data';\n",
              "        await google.colab.output.renderOutput(dataTable, element);\n",
              "        const docLink = document.createElement('div');\n",
              "        docLink.innerHTML = docLinkHtml;\n",
              "        element.appendChild(docLink);\n",
              "      }\n",
              "    </script>\n",
              "  </div>\n",
              "\n",
              "\n",
              "<div id=\"df-6718fb36-a45c-4372-aa1e-6a572cf4ce3a\">\n",
              "  <button class=\"colab-df-quickchart\" onclick=\"quickchart('df-6718fb36-a45c-4372-aa1e-6a572cf4ce3a')\"\n",
              "            title=\"Suggest charts\"\n",
              "            style=\"display:none;\">\n",
              "\n",
              "<svg xmlns=\"http://www.w3.org/2000/svg\" height=\"24px\"viewBox=\"0 0 24 24\"\n",
              "     width=\"24px\">\n",
              "    <g>\n",
              "        <path d=\"M19 3H5c-1.1 0-2 .9-2 2v14c0 1.1.9 2 2 2h14c1.1 0 2-.9 2-2V5c0-1.1-.9-2-2-2zM9 17H7v-7h2v7zm4 0h-2V7h2v10zm4 0h-2v-4h2v4z\"/>\n",
              "    </g>\n",
              "</svg>\n",
              "  </button>\n",
              "\n",
              "<style>\n",
              "  .colab-df-quickchart {\n",
              "      --bg-color: #E8F0FE;\n",
              "      --fill-color: #1967D2;\n",
              "      --hover-bg-color: #E2EBFA;\n",
              "      --hover-fill-color: #174EA6;\n",
              "      --disabled-fill-color: #AAA;\n",
              "      --disabled-bg-color: #DDD;\n",
              "  }\n",
              "\n",
              "  [theme=dark] .colab-df-quickchart {\n",
              "      --bg-color: #3B4455;\n",
              "      --fill-color: #D2E3FC;\n",
              "      --hover-bg-color: #434B5C;\n",
              "      --hover-fill-color: #FFFFFF;\n",
              "      --disabled-bg-color: #3B4455;\n",
              "      --disabled-fill-color: #666;\n",
              "  }\n",
              "\n",
              "  .colab-df-quickchart {\n",
              "    background-color: var(--bg-color);\n",
              "    border: none;\n",
              "    border-radius: 50%;\n",
              "    cursor: pointer;\n",
              "    display: none;\n",
              "    fill: var(--fill-color);\n",
              "    height: 32px;\n",
              "    padding: 0;\n",
              "    width: 32px;\n",
              "  }\n",
              "\n",
              "  .colab-df-quickchart:hover {\n",
              "    background-color: var(--hover-bg-color);\n",
              "    box-shadow: 0 1px 2px rgba(60, 64, 67, 0.3), 0 1px 3px 1px rgba(60, 64, 67, 0.15);\n",
              "    fill: var(--button-hover-fill-color);\n",
              "  }\n",
              "\n",
              "  .colab-df-quickchart-complete:disabled,\n",
              "  .colab-df-quickchart-complete:disabled:hover {\n",
              "    background-color: var(--disabled-bg-color);\n",
              "    fill: var(--disabled-fill-color);\n",
              "    box-shadow: none;\n",
              "  }\n",
              "\n",
              "  .colab-df-spinner {\n",
              "    border: 2px solid var(--fill-color);\n",
              "    border-color: transparent;\n",
              "    border-bottom-color: var(--fill-color);\n",
              "    animation:\n",
              "      spin 1s steps(1) infinite;\n",
              "  }\n",
              "\n",
              "  @keyframes spin {\n",
              "    0% {\n",
              "      border-color: transparent;\n",
              "      border-bottom-color: var(--fill-color);\n",
              "      border-left-color: var(--fill-color);\n",
              "    }\n",
              "    20% {\n",
              "      border-color: transparent;\n",
              "      border-left-color: var(--fill-color);\n",
              "      border-top-color: var(--fill-color);\n",
              "    }\n",
              "    30% {\n",
              "      border-color: transparent;\n",
              "      border-left-color: var(--fill-color);\n",
              "      border-top-color: var(--fill-color);\n",
              "      border-right-color: var(--fill-color);\n",
              "    }\n",
              "    40% {\n",
              "      border-color: transparent;\n",
              "      border-right-color: var(--fill-color);\n",
              "      border-top-color: var(--fill-color);\n",
              "    }\n",
              "    60% {\n",
              "      border-color: transparent;\n",
              "      border-right-color: var(--fill-color);\n",
              "    }\n",
              "    80% {\n",
              "      border-color: transparent;\n",
              "      border-right-color: var(--fill-color);\n",
              "      border-bottom-color: var(--fill-color);\n",
              "    }\n",
              "    90% {\n",
              "      border-color: transparent;\n",
              "      border-bottom-color: var(--fill-color);\n",
              "    }\n",
              "  }\n",
              "</style>\n",
              "\n",
              "  <script>\n",
              "    async function quickchart(key) {\n",
              "      const quickchartButtonEl =\n",
              "        document.querySelector('#' + key + ' button');\n",
              "      quickchartButtonEl.disabled = true;  // To prevent multiple clicks.\n",
              "      quickchartButtonEl.classList.add('colab-df-spinner');\n",
              "      try {\n",
              "        const charts = await google.colab.kernel.invokeFunction(\n",
              "            'suggestCharts', [key], {});\n",
              "      } catch (error) {\n",
              "        console.error('Error during call to suggestCharts:', error);\n",
              "      }\n",
              "      quickchartButtonEl.classList.remove('colab-df-spinner');\n",
              "      quickchartButtonEl.classList.add('colab-df-quickchart-complete');\n",
              "    }\n",
              "    (() => {\n",
              "      let quickchartButtonEl =\n",
              "        document.querySelector('#df-6718fb36-a45c-4372-aa1e-6a572cf4ce3a button');\n",
              "      quickchartButtonEl.style.display =\n",
              "        google.colab.kernel.accessAllowed ? 'block' : 'none';\n",
              "    })();\n",
              "  </script>\n",
              "</div>\n",
              "\n",
              "  <div id=\"id_d34295ed-163f-4de4-8e48-f6ddaa184e9c\">\n",
              "    <style>\n",
              "      .colab-df-generate {\n",
              "        background-color: #E8F0FE;\n",
              "        border: none;\n",
              "        border-radius: 50%;\n",
              "        cursor: pointer;\n",
              "        display: none;\n",
              "        fill: #1967D2;\n",
              "        height: 32px;\n",
              "        padding: 0 0 0 0;\n",
              "        width: 32px;\n",
              "      }\n",
              "\n",
              "      .colab-df-generate:hover {\n",
              "        background-color: #E2EBFA;\n",
              "        box-shadow: 0px 1px 2px rgba(60, 64, 67, 0.3), 0px 1px 3px 1px rgba(60, 64, 67, 0.15);\n",
              "        fill: #174EA6;\n",
              "      }\n",
              "\n",
              "      [theme=dark] .colab-df-generate {\n",
              "        background-color: #3B4455;\n",
              "        fill: #D2E3FC;\n",
              "      }\n",
              "\n",
              "      [theme=dark] .colab-df-generate:hover {\n",
              "        background-color: #434B5C;\n",
              "        box-shadow: 0px 1px 3px 1px rgba(0, 0, 0, 0.15);\n",
              "        filter: drop-shadow(0px 1px 2px rgba(0, 0, 0, 0.3));\n",
              "        fill: #FFFFFF;\n",
              "      }\n",
              "    </style>\n",
              "    <button class=\"colab-df-generate\" onclick=\"generateWithVariable('df')\"\n",
              "            title=\"Generate code using this dataframe.\"\n",
              "            style=\"display:none;\">\n",
              "\n",
              "  <svg xmlns=\"http://www.w3.org/2000/svg\" height=\"24px\"viewBox=\"0 0 24 24\"\n",
              "       width=\"24px\">\n",
              "    <path d=\"M7,19H8.4L18.45,9,17,7.55,7,17.6ZM5,21V16.75L18.45,3.32a2,2,0,0,1,2.83,0l1.4,1.43a1.91,1.91,0,0,1,.58,1.4,1.91,1.91,0,0,1-.58,1.4L9.25,21ZM18.45,9,17,7.55Zm-12,3A5.31,5.31,0,0,0,4.9,8.1,5.31,5.31,0,0,0,1,6.5,5.31,5.31,0,0,0,4.9,4.9,5.31,5.31,0,0,0,6.5,1,5.31,5.31,0,0,0,8.1,4.9,5.31,5.31,0,0,0,12,6.5,5.46,5.46,0,0,0,6.5,12Z\"/>\n",
              "  </svg>\n",
              "    </button>\n",
              "    <script>\n",
              "      (() => {\n",
              "      const buttonEl =\n",
              "        document.querySelector('#id_d34295ed-163f-4de4-8e48-f6ddaa184e9c button.colab-df-generate');\n",
              "      buttonEl.style.display =\n",
              "        google.colab.kernel.accessAllowed ? 'block' : 'none';\n",
              "\n",
              "      buttonEl.onclick = () => {\n",
              "        google.colab.notebook.generateWithVariable('df');\n",
              "      }\n",
              "      })();\n",
              "    </script>\n",
              "  </div>\n",
              "\n",
              "    </div>\n",
              "  </div>\n"
            ]
          },
          "metadata": {},
          "execution_count": 59
        }
      ]
    },
    {
      "cell_type": "code",
      "source": [
        "df.info()"
      ],
      "metadata": {
        "colab": {
          "base_uri": "https://localhost:8080/"
        },
        "id": "hPshzLjKXfE0",
        "outputId": "7ad95280-558d-4c00-dcbf-e8053187921a"
      },
      "execution_count": null,
      "outputs": [
        {
          "output_type": "stream",
          "name": "stdout",
          "text": [
            "<class 'pandas.core.frame.DataFrame'>\n",
            "RangeIndex: 4760 entries, 0 to 4759\n",
            "Data columns (total 21 columns):\n",
            " #   Column                    Non-Null Count  Dtype  \n",
            "---  ------                    --------------  -----  \n",
            " 0   Movie_ID                  4760 non-null   int64  \n",
            " 1   Movie_Title               4760 non-null   object \n",
            " 2   Movie_Genre               4760 non-null   object \n",
            " 3   Movie_Language            4760 non-null   object \n",
            " 4   Movie_Budget              4760 non-null   int64  \n",
            " 5   Movie_Popularity          4760 non-null   float64\n",
            " 6   Movie_Release_Date        4760 non-null   object \n",
            " 7   Movie_Revenue             4760 non-null   int64  \n",
            " 8   Movie_Runtime             4758 non-null   float64\n",
            " 9   Movie_Vote                4760 non-null   float64\n",
            " 10  Movie_Vote_Count          4760 non-null   int64  \n",
            " 11  Movie_Homepage            1699 non-null   object \n",
            " 12  Movie_Keywords            4373 non-null   object \n",
            " 13  Movie_Overview            4757 non-null   object \n",
            " 14  Movie_Production_House    4760 non-null   object \n",
            " 15  Movie_Production_Country  4760 non-null   object \n",
            " 16  Movie_Spoken_Language     4760 non-null   object \n",
            " 17  Movie_Tagline             3942 non-null   object \n",
            " 18  Movie_Cast                4733 non-null   object \n",
            " 19  Movie_Crew                4760 non-null   object \n",
            " 20  Movie_Director            4738 non-null   object \n",
            "dtypes: float64(3), int64(4), object(14)\n",
            "memory usage: 781.1+ KB\n"
          ]
        }
      ]
    },
    {
      "cell_type": "code",
      "source": [
        "df.shape"
      ],
      "metadata": {
        "colab": {
          "base_uri": "https://localhost:8080/"
        },
        "id": "3gd-ouDEX2Ig",
        "outputId": "32617a1a-285f-44fd-9c9e-cc28db7da3c7"
      },
      "execution_count": null,
      "outputs": [
        {
          "output_type": "execute_result",
          "data": {
            "text/plain": [
              "(4760, 21)"
            ]
          },
          "metadata": {},
          "execution_count": 8
        }
      ]
    },
    {
      "cell_type": "code",
      "source": [
        "df.columns"
      ],
      "metadata": {
        "colab": {
          "base_uri": "https://localhost:8080/"
        },
        "id": "jFG4McunYCwg",
        "outputId": "84a7cd06-f599-4cf1-9445-b77558f5fb93"
      },
      "execution_count": null,
      "outputs": [
        {
          "output_type": "execute_result",
          "data": {
            "text/plain": [
              "Index(['Movie_ID', 'Movie_Title', 'Movie_Genre', 'Movie_Language',\n",
              "       'Movie_Budget', 'Movie_Popularity', 'Movie_Release_Date',\n",
              "       'Movie_Revenue', 'Movie_Runtime', 'Movie_Vote', 'Movie_Vote_Count',\n",
              "       'Movie_Homepage', 'Movie_Keywords', 'Movie_Overview',\n",
              "       'Movie_Production_House', 'Movie_Production_Country',\n",
              "       'Movie_Spoken_Language', 'Movie_Tagline', 'Movie_Cast', 'Movie_Crew',\n",
              "       'Movie_Director'],\n",
              "      dtype='object')"
            ]
          },
          "metadata": {},
          "execution_count": 9
        }
      ]
    },
    {
      "cell_type": "markdown",
      "source": [
        " GET FEATURES SELECTION"
      ],
      "metadata": {
        "id": "U7sLdEt7YJ-B"
      }
    },
    {
      "cell_type": "code",
      "source": [
        "df_features=df[['Movie_Genre','Movie_Keywords','Movie_Tagline','Movie_Cast','Movie_Director']].fillna('')"
      ],
      "metadata": {
        "id": "89RMCYT6Yrel"
      },
      "execution_count": null,
      "outputs": []
    },
    {
      "cell_type": "code",
      "source": [
        "df_features.shape"
      ],
      "metadata": {
        "colab": {
          "base_uri": "https://localhost:8080/"
        },
        "id": "kxVRvlbNZsnj",
        "outputId": "7dfb740a-a735-4100-9c76-2a29913d52f0"
      },
      "execution_count": null,
      "outputs": [
        {
          "output_type": "execute_result",
          "data": {
            "text/plain": [
              "(4760, 5)"
            ]
          },
          "metadata": {},
          "execution_count": 11
        }
      ]
    },
    {
      "cell_type": "code",
      "source": [
        "df_features"
      ],
      "metadata": {
        "colab": {
          "base_uri": "https://localhost:8080/",
          "height": 580
        },
        "id": "wZmGVVe1Z5Br",
        "outputId": "8f16e5d2-06f3-4c38-9ff5-2889da9f39be"
      },
      "execution_count": null,
      "outputs": [
        {
          "output_type": "execute_result",
          "data": {
            "text/plain": [
              "                           Movie_Genre  \\\n",
              "0                         Crime Comedy   \n",
              "1     Adventure Action Science Fiction   \n",
              "2                     Animation Family   \n",
              "3                 Comedy Drama Romance   \n",
              "4                                Drama   \n",
              "...                                ...   \n",
              "4755                            Horror   \n",
              "4756               Comedy Family Drama   \n",
              "4757                    Thriller Drama   \n",
              "4758                            Family   \n",
              "4759                       Documentary   \n",
              "\n",
              "                                         Movie_Keywords  \\\n",
              "0             hotel new year's eve witch bet hotel room   \n",
              "1           android galaxy hermit death star lightsaber   \n",
              "2     father son relationship harbor underwater fish...   \n",
              "3     vietnam veteran hippie mentally disabled runni...   \n",
              "4     male nudity female nudity adultery midlife cri...   \n",
              "...                                                 ...   \n",
              "4755                                                      \n",
              "4756                                                      \n",
              "4757                     christian film sex trafficking   \n",
              "4758                                                      \n",
              "4759  music actors legendary perfomer classic hollyw...   \n",
              "\n",
              "                                          Movie_Tagline  \\\n",
              "0     Twelve outrageous guests. Four scandalous requ...   \n",
              "1          A long time ago in a galaxy far, far away...   \n",
              "2     There are 3.7 trillion fish in the ocean, they...   \n",
              "3     The world will never be the same, once you've ...   \n",
              "4                                          Look closer.   \n",
              "...                                                 ...   \n",
              "4755                The hot spot where Satan's waitin'.   \n",
              "4756           It’s better to stand out than to fit in.   \n",
              "4757           She never knew it could happen to her...   \n",
              "4758                                                      \n",
              "4759                                                      \n",
              "\n",
              "                                             Movie_Cast     Movie_Director  \n",
              "0     Tim Roth Antonio Banderas Jennifer Beals Madon...     Allison Anders  \n",
              "1     Mark Hamill Harrison Ford Carrie Fisher Peter ...       George Lucas  \n",
              "2     Albert Brooks Ellen DeGeneres Alexander Gould ...     Andrew Stanton  \n",
              "3     Tom Hanks Robin Wright Gary Sinise Mykelti Wil...    Robert Zemeckis  \n",
              "4     Kevin Spacey Annette Bening Thora Birch Wes Be...         Sam Mendes  \n",
              "...                                                 ...                ...  \n",
              "4755  Lisa Hart Carroll Michael Des Barres Paul Drak...         Pece Dingo  \n",
              "4756  Roni Akurati Brighton Sharbino Jason Lee Anjul...       Frank Lotito  \n",
              "4757  Nicole Smolen Kim Baldwin Ariana Stephens Brys...       Jaco Booyens  \n",
              "4758                                                                        \n",
              "4759                                    Tony Oppedisano  Simon Napier-Bell  \n",
              "\n",
              "[4760 rows x 5 columns]"
            ],
            "text/html": [
              "\n",
              "  <div id=\"df-d896309f-e3a1-4063-bf95-b830939f4df6\" class=\"colab-df-container\">\n",
              "    <div>\n",
              "<style scoped>\n",
              "    .dataframe tbody tr th:only-of-type {\n",
              "        vertical-align: middle;\n",
              "    }\n",
              "\n",
              "    .dataframe tbody tr th {\n",
              "        vertical-align: top;\n",
              "    }\n",
              "\n",
              "    .dataframe thead th {\n",
              "        text-align: right;\n",
              "    }\n",
              "</style>\n",
              "<table border=\"1\" class=\"dataframe\">\n",
              "  <thead>\n",
              "    <tr style=\"text-align: right;\">\n",
              "      <th></th>\n",
              "      <th>Movie_Genre</th>\n",
              "      <th>Movie_Keywords</th>\n",
              "      <th>Movie_Tagline</th>\n",
              "      <th>Movie_Cast</th>\n",
              "      <th>Movie_Director</th>\n",
              "    </tr>\n",
              "  </thead>\n",
              "  <tbody>\n",
              "    <tr>\n",
              "      <th>0</th>\n",
              "      <td>Crime Comedy</td>\n",
              "      <td>hotel new year's eve witch bet hotel room</td>\n",
              "      <td>Twelve outrageous guests. Four scandalous requ...</td>\n",
              "      <td>Tim Roth Antonio Banderas Jennifer Beals Madon...</td>\n",
              "      <td>Allison Anders</td>\n",
              "    </tr>\n",
              "    <tr>\n",
              "      <th>1</th>\n",
              "      <td>Adventure Action Science Fiction</td>\n",
              "      <td>android galaxy hermit death star lightsaber</td>\n",
              "      <td>A long time ago in a galaxy far, far away...</td>\n",
              "      <td>Mark Hamill Harrison Ford Carrie Fisher Peter ...</td>\n",
              "      <td>George Lucas</td>\n",
              "    </tr>\n",
              "    <tr>\n",
              "      <th>2</th>\n",
              "      <td>Animation Family</td>\n",
              "      <td>father son relationship harbor underwater fish...</td>\n",
              "      <td>There are 3.7 trillion fish in the ocean, they...</td>\n",
              "      <td>Albert Brooks Ellen DeGeneres Alexander Gould ...</td>\n",
              "      <td>Andrew Stanton</td>\n",
              "    </tr>\n",
              "    <tr>\n",
              "      <th>3</th>\n",
              "      <td>Comedy Drama Romance</td>\n",
              "      <td>vietnam veteran hippie mentally disabled runni...</td>\n",
              "      <td>The world will never be the same, once you've ...</td>\n",
              "      <td>Tom Hanks Robin Wright Gary Sinise Mykelti Wil...</td>\n",
              "      <td>Robert Zemeckis</td>\n",
              "    </tr>\n",
              "    <tr>\n",
              "      <th>4</th>\n",
              "      <td>Drama</td>\n",
              "      <td>male nudity female nudity adultery midlife cri...</td>\n",
              "      <td>Look closer.</td>\n",
              "      <td>Kevin Spacey Annette Bening Thora Birch Wes Be...</td>\n",
              "      <td>Sam Mendes</td>\n",
              "    </tr>\n",
              "    <tr>\n",
              "      <th>...</th>\n",
              "      <td>...</td>\n",
              "      <td>...</td>\n",
              "      <td>...</td>\n",
              "      <td>...</td>\n",
              "      <td>...</td>\n",
              "    </tr>\n",
              "    <tr>\n",
              "      <th>4755</th>\n",
              "      <td>Horror</td>\n",
              "      <td></td>\n",
              "      <td>The hot spot where Satan's waitin'.</td>\n",
              "      <td>Lisa Hart Carroll Michael Des Barres Paul Drak...</td>\n",
              "      <td>Pece Dingo</td>\n",
              "    </tr>\n",
              "    <tr>\n",
              "      <th>4756</th>\n",
              "      <td>Comedy Family Drama</td>\n",
              "      <td></td>\n",
              "      <td>It’s better to stand out than to fit in.</td>\n",
              "      <td>Roni Akurati Brighton Sharbino Jason Lee Anjul...</td>\n",
              "      <td>Frank Lotito</td>\n",
              "    </tr>\n",
              "    <tr>\n",
              "      <th>4757</th>\n",
              "      <td>Thriller Drama</td>\n",
              "      <td>christian film sex trafficking</td>\n",
              "      <td>She never knew it could happen to her...</td>\n",
              "      <td>Nicole Smolen Kim Baldwin Ariana Stephens Brys...</td>\n",
              "      <td>Jaco Booyens</td>\n",
              "    </tr>\n",
              "    <tr>\n",
              "      <th>4758</th>\n",
              "      <td>Family</td>\n",
              "      <td></td>\n",
              "      <td></td>\n",
              "      <td></td>\n",
              "      <td></td>\n",
              "    </tr>\n",
              "    <tr>\n",
              "      <th>4759</th>\n",
              "      <td>Documentary</td>\n",
              "      <td>music actors legendary perfomer classic hollyw...</td>\n",
              "      <td></td>\n",
              "      <td>Tony Oppedisano</td>\n",
              "      <td>Simon Napier-Bell</td>\n",
              "    </tr>\n",
              "  </tbody>\n",
              "</table>\n",
              "<p>4760 rows × 5 columns</p>\n",
              "</div>\n",
              "    <div class=\"colab-df-buttons\">\n",
              "\n",
              "  <div class=\"colab-df-container\">\n",
              "    <button class=\"colab-df-convert\" onclick=\"convertToInteractive('df-d896309f-e3a1-4063-bf95-b830939f4df6')\"\n",
              "            title=\"Convert this dataframe to an interactive table.\"\n",
              "            style=\"display:none;\">\n",
              "\n",
              "  <svg xmlns=\"http://www.w3.org/2000/svg\" height=\"24px\" viewBox=\"0 -960 960 960\">\n",
              "    <path d=\"M120-120v-720h720v720H120Zm60-500h600v-160H180v160Zm220 220h160v-160H400v160Zm0 220h160v-160H400v160ZM180-400h160v-160H180v160Zm440 0h160v-160H620v160ZM180-180h160v-160H180v160Zm440 0h160v-160H620v160Z\"/>\n",
              "  </svg>\n",
              "    </button>\n",
              "\n",
              "  <style>\n",
              "    .colab-df-container {\n",
              "      display:flex;\n",
              "      gap: 12px;\n",
              "    }\n",
              "\n",
              "    .colab-df-convert {\n",
              "      background-color: #E8F0FE;\n",
              "      border: none;\n",
              "      border-radius: 50%;\n",
              "      cursor: pointer;\n",
              "      display: none;\n",
              "      fill: #1967D2;\n",
              "      height: 32px;\n",
              "      padding: 0 0 0 0;\n",
              "      width: 32px;\n",
              "    }\n",
              "\n",
              "    .colab-df-convert:hover {\n",
              "      background-color: #E2EBFA;\n",
              "      box-shadow: 0px 1px 2px rgba(60, 64, 67, 0.3), 0px 1px 3px 1px rgba(60, 64, 67, 0.15);\n",
              "      fill: #174EA6;\n",
              "    }\n",
              "\n",
              "    .colab-df-buttons div {\n",
              "      margin-bottom: 4px;\n",
              "    }\n",
              "\n",
              "    [theme=dark] .colab-df-convert {\n",
              "      background-color: #3B4455;\n",
              "      fill: #D2E3FC;\n",
              "    }\n",
              "\n",
              "    [theme=dark] .colab-df-convert:hover {\n",
              "      background-color: #434B5C;\n",
              "      box-shadow: 0px 1px 3px 1px rgba(0, 0, 0, 0.15);\n",
              "      filter: drop-shadow(0px 1px 2px rgba(0, 0, 0, 0.3));\n",
              "      fill: #FFFFFF;\n",
              "    }\n",
              "  </style>\n",
              "\n",
              "    <script>\n",
              "      const buttonEl =\n",
              "        document.querySelector('#df-d896309f-e3a1-4063-bf95-b830939f4df6 button.colab-df-convert');\n",
              "      buttonEl.style.display =\n",
              "        google.colab.kernel.accessAllowed ? 'block' : 'none';\n",
              "\n",
              "      async function convertToInteractive(key) {\n",
              "        const element = document.querySelector('#df-d896309f-e3a1-4063-bf95-b830939f4df6');\n",
              "        const dataTable =\n",
              "          await google.colab.kernel.invokeFunction('convertToInteractive',\n",
              "                                                    [key], {});\n",
              "        if (!dataTable) return;\n",
              "\n",
              "        const docLinkHtml = 'Like what you see? Visit the ' +\n",
              "          '<a target=\"_blank\" href=https://colab.research.google.com/notebooks/data_table.ipynb>data table notebook</a>'\n",
              "          + ' to learn more about interactive tables.';\n",
              "        element.innerHTML = '';\n",
              "        dataTable['output_type'] = 'display_data';\n",
              "        await google.colab.output.renderOutput(dataTable, element);\n",
              "        const docLink = document.createElement('div');\n",
              "        docLink.innerHTML = docLinkHtml;\n",
              "        element.appendChild(docLink);\n",
              "      }\n",
              "    </script>\n",
              "  </div>\n",
              "\n",
              "\n",
              "<div id=\"df-a44d6177-b43b-489e-af1f-58ea8caafec6\">\n",
              "  <button class=\"colab-df-quickchart\" onclick=\"quickchart('df-a44d6177-b43b-489e-af1f-58ea8caafec6')\"\n",
              "            title=\"Suggest charts\"\n",
              "            style=\"display:none;\">\n",
              "\n",
              "<svg xmlns=\"http://www.w3.org/2000/svg\" height=\"24px\"viewBox=\"0 0 24 24\"\n",
              "     width=\"24px\">\n",
              "    <g>\n",
              "        <path d=\"M19 3H5c-1.1 0-2 .9-2 2v14c0 1.1.9 2 2 2h14c1.1 0 2-.9 2-2V5c0-1.1-.9-2-2-2zM9 17H7v-7h2v7zm4 0h-2V7h2v10zm4 0h-2v-4h2v4z\"/>\n",
              "    </g>\n",
              "</svg>\n",
              "  </button>\n",
              "\n",
              "<style>\n",
              "  .colab-df-quickchart {\n",
              "      --bg-color: #E8F0FE;\n",
              "      --fill-color: #1967D2;\n",
              "      --hover-bg-color: #E2EBFA;\n",
              "      --hover-fill-color: #174EA6;\n",
              "      --disabled-fill-color: #AAA;\n",
              "      --disabled-bg-color: #DDD;\n",
              "  }\n",
              "\n",
              "  [theme=dark] .colab-df-quickchart {\n",
              "      --bg-color: #3B4455;\n",
              "      --fill-color: #D2E3FC;\n",
              "      --hover-bg-color: #434B5C;\n",
              "      --hover-fill-color: #FFFFFF;\n",
              "      --disabled-bg-color: #3B4455;\n",
              "      --disabled-fill-color: #666;\n",
              "  }\n",
              "\n",
              "  .colab-df-quickchart {\n",
              "    background-color: var(--bg-color);\n",
              "    border: none;\n",
              "    border-radius: 50%;\n",
              "    cursor: pointer;\n",
              "    display: none;\n",
              "    fill: var(--fill-color);\n",
              "    height: 32px;\n",
              "    padding: 0;\n",
              "    width: 32px;\n",
              "  }\n",
              "\n",
              "  .colab-df-quickchart:hover {\n",
              "    background-color: var(--hover-bg-color);\n",
              "    box-shadow: 0 1px 2px rgba(60, 64, 67, 0.3), 0 1px 3px 1px rgba(60, 64, 67, 0.15);\n",
              "    fill: var(--button-hover-fill-color);\n",
              "  }\n",
              "\n",
              "  .colab-df-quickchart-complete:disabled,\n",
              "  .colab-df-quickchart-complete:disabled:hover {\n",
              "    background-color: var(--disabled-bg-color);\n",
              "    fill: var(--disabled-fill-color);\n",
              "    box-shadow: none;\n",
              "  }\n",
              "\n",
              "  .colab-df-spinner {\n",
              "    border: 2px solid var(--fill-color);\n",
              "    border-color: transparent;\n",
              "    border-bottom-color: var(--fill-color);\n",
              "    animation:\n",
              "      spin 1s steps(1) infinite;\n",
              "  }\n",
              "\n",
              "  @keyframes spin {\n",
              "    0% {\n",
              "      border-color: transparent;\n",
              "      border-bottom-color: var(--fill-color);\n",
              "      border-left-color: var(--fill-color);\n",
              "    }\n",
              "    20% {\n",
              "      border-color: transparent;\n",
              "      border-left-color: var(--fill-color);\n",
              "      border-top-color: var(--fill-color);\n",
              "    }\n",
              "    30% {\n",
              "      border-color: transparent;\n",
              "      border-left-color: var(--fill-color);\n",
              "      border-top-color: var(--fill-color);\n",
              "      border-right-color: var(--fill-color);\n",
              "    }\n",
              "    40% {\n",
              "      border-color: transparent;\n",
              "      border-right-color: var(--fill-color);\n",
              "      border-top-color: var(--fill-color);\n",
              "    }\n",
              "    60% {\n",
              "      border-color: transparent;\n",
              "      border-right-color: var(--fill-color);\n",
              "    }\n",
              "    80% {\n",
              "      border-color: transparent;\n",
              "      border-right-color: var(--fill-color);\n",
              "      border-bottom-color: var(--fill-color);\n",
              "    }\n",
              "    90% {\n",
              "      border-color: transparent;\n",
              "      border-bottom-color: var(--fill-color);\n",
              "    }\n",
              "  }\n",
              "</style>\n",
              "\n",
              "  <script>\n",
              "    async function quickchart(key) {\n",
              "      const quickchartButtonEl =\n",
              "        document.querySelector('#' + key + ' button');\n",
              "      quickchartButtonEl.disabled = true;  // To prevent multiple clicks.\n",
              "      quickchartButtonEl.classList.add('colab-df-spinner');\n",
              "      try {\n",
              "        const charts = await google.colab.kernel.invokeFunction(\n",
              "            'suggestCharts', [key], {});\n",
              "      } catch (error) {\n",
              "        console.error('Error during call to suggestCharts:', error);\n",
              "      }\n",
              "      quickchartButtonEl.classList.remove('colab-df-spinner');\n",
              "      quickchartButtonEl.classList.add('colab-df-quickchart-complete');\n",
              "    }\n",
              "    (() => {\n",
              "      let quickchartButtonEl =\n",
              "        document.querySelector('#df-a44d6177-b43b-489e-af1f-58ea8caafec6 button');\n",
              "      quickchartButtonEl.style.display =\n",
              "        google.colab.kernel.accessAllowed ? 'block' : 'none';\n",
              "    })();\n",
              "  </script>\n",
              "</div>\n",
              "\n",
              "  <div id=\"id_26b3e0c0-4f84-4be4-8186-2a92786a3c79\">\n",
              "    <style>\n",
              "      .colab-df-generate {\n",
              "        background-color: #E8F0FE;\n",
              "        border: none;\n",
              "        border-radius: 50%;\n",
              "        cursor: pointer;\n",
              "        display: none;\n",
              "        fill: #1967D2;\n",
              "        height: 32px;\n",
              "        padding: 0 0 0 0;\n",
              "        width: 32px;\n",
              "      }\n",
              "\n",
              "      .colab-df-generate:hover {\n",
              "        background-color: #E2EBFA;\n",
              "        box-shadow: 0px 1px 2px rgba(60, 64, 67, 0.3), 0px 1px 3px 1px rgba(60, 64, 67, 0.15);\n",
              "        fill: #174EA6;\n",
              "      }\n",
              "\n",
              "      [theme=dark] .colab-df-generate {\n",
              "        background-color: #3B4455;\n",
              "        fill: #D2E3FC;\n",
              "      }\n",
              "\n",
              "      [theme=dark] .colab-df-generate:hover {\n",
              "        background-color: #434B5C;\n",
              "        box-shadow: 0px 1px 3px 1px rgba(0, 0, 0, 0.15);\n",
              "        filter: drop-shadow(0px 1px 2px rgba(0, 0, 0, 0.3));\n",
              "        fill: #FFFFFF;\n",
              "      }\n",
              "    </style>\n",
              "    <button class=\"colab-df-generate\" onclick=\"generateWithVariable('df_features')\"\n",
              "            title=\"Generate code using this dataframe.\"\n",
              "            style=\"display:none;\">\n",
              "\n",
              "  <svg xmlns=\"http://www.w3.org/2000/svg\" height=\"24px\"viewBox=\"0 0 24 24\"\n",
              "       width=\"24px\">\n",
              "    <path d=\"M7,19H8.4L18.45,9,17,7.55,7,17.6ZM5,21V16.75L18.45,3.32a2,2,0,0,1,2.83,0l1.4,1.43a1.91,1.91,0,0,1,.58,1.4,1.91,1.91,0,0,1-.58,1.4L9.25,21ZM18.45,9,17,7.55Zm-12,3A5.31,5.31,0,0,0,4.9,8.1,5.31,5.31,0,0,0,1,6.5,5.31,5.31,0,0,0,4.9,4.9,5.31,5.31,0,0,0,6.5,1,5.31,5.31,0,0,0,8.1,4.9,5.31,5.31,0,0,0,12,6.5,5.46,5.46,0,0,0,6.5,12Z\"/>\n",
              "  </svg>\n",
              "    </button>\n",
              "    <script>\n",
              "      (() => {\n",
              "      const buttonEl =\n",
              "        document.querySelector('#id_26b3e0c0-4f84-4be4-8186-2a92786a3c79 button.colab-df-generate');\n",
              "      buttonEl.style.display =\n",
              "        google.colab.kernel.accessAllowed ? 'block' : 'none';\n",
              "\n",
              "      buttonEl.onclick = () => {\n",
              "        google.colab.notebook.generateWithVariable('df_features');\n",
              "      }\n",
              "      })();\n",
              "    </script>\n",
              "  </div>\n",
              "\n",
              "    </div>\n",
              "  </div>\n"
            ]
          },
          "metadata": {},
          "execution_count": 12
        }
      ]
    },
    {
      "cell_type": "code",
      "source": [
        "x=df_features['Movie_Genre']+' '+df_features['Movie_Keywords']+' '+df_features['Movie_Tagline']+' '+df_features['Movie_Cast']+' '+df_features['Movie_Director']"
      ],
      "metadata": {
        "id": "IwyeXx4kaUqU"
      },
      "execution_count": null,
      "outputs": []
    },
    {
      "cell_type": "code",
      "source": [
        "x"
      ],
      "metadata": {
        "colab": {
          "base_uri": "https://localhost:8080/"
        },
        "id": "2C_7NjYWcaqb",
        "outputId": "b4219b9b-9e80-431f-e7bb-3b0c34ca8a7f"
      },
      "execution_count": null,
      "outputs": [
        {
          "output_type": "execute_result",
          "data": {
            "text/plain": [
              "0       Crime Comedy hotel new year's eve witch bet ho...\n",
              "1       Adventure Action Science Fiction android galax...\n",
              "2       Animation Family father son relationship harbo...\n",
              "3       Comedy Drama Romance vietnam veteran hippie me...\n",
              "4       Drama male nudity female nudity adultery midli...\n",
              "                              ...                        \n",
              "4755    Horror  The hot spot where Satan's waitin'. Li...\n",
              "4756    Comedy Family Drama  It’s better to stand out ...\n",
              "4757    Thriller Drama christian film sex trafficking ...\n",
              "4758                                           Family    \n",
              "4759    Documentary music actors legendary perfomer cl...\n",
              "Length: 4760, dtype: object"
            ]
          },
          "metadata": {},
          "execution_count": 15
        }
      ]
    },
    {
      "cell_type": "code",
      "source": [
        "x.shape"
      ],
      "metadata": {
        "colab": {
          "base_uri": "https://localhost:8080/"
        },
        "id": "rgAPuHMMctsm",
        "outputId": "b2082b7e-6208-4b18-8efe-ff9ad80208d7"
      },
      "execution_count": null,
      "outputs": [
        {
          "output_type": "execute_result",
          "data": {
            "text/plain": [
              "(4760,)"
            ]
          },
          "metadata": {},
          "execution_count": 16
        }
      ]
    },
    {
      "cell_type": "markdown",
      "source": [
        "**GET FEATURE TEXT CONVERSION TO TOKENS**"
      ],
      "metadata": {
        "id": "v56_95-4c6WD"
      }
    },
    {
      "cell_type": "code",
      "source": [
        "from sklearn.feature_extraction.text import TfidfVectorizer"
      ],
      "metadata": {
        "id": "VtHb86QLdLe5"
      },
      "execution_count": null,
      "outputs": []
    },
    {
      "cell_type": "code",
      "source": [
        "tfidf=TfidfVectorizer()"
      ],
      "metadata": {
        "id": "77BBik8qeMZG"
      },
      "execution_count": null,
      "outputs": []
    },
    {
      "cell_type": "code",
      "source": [
        "x=tfidf.fit_transform(x)"
      ],
      "metadata": {
        "id": "FAp7soHwea19"
      },
      "execution_count": null,
      "outputs": []
    },
    {
      "cell_type": "code",
      "source": [
        "x.shape"
      ],
      "metadata": {
        "colab": {
          "base_uri": "https://localhost:8080/"
        },
        "id": "9j1HXCowepv5",
        "outputId": "146009c5-cd3e-4465-967a-f9a72c51e72f"
      },
      "execution_count": null,
      "outputs": [
        {
          "output_type": "execute_result",
          "data": {
            "text/plain": [
              "(4760, 17258)"
            ]
          },
          "metadata": {},
          "execution_count": 20
        }
      ]
    },
    {
      "cell_type": "code",
      "source": [
        "print(x)"
      ],
      "metadata": {
        "colab": {
          "base_uri": "https://localhost:8080/"
        },
        "id": "0hUcBve1e2UC",
        "outputId": "b5da819e-d2bd-4290-872c-6ceff28db141"
      },
      "execution_count": null,
      "outputs": [
        {
          "output_type": "stream",
          "name": "stdout",
          "text": [
            "  (0, 617)\t0.1633382144407513\n",
            "  (0, 492)\t0.1432591540388685\n",
            "  (0, 15413)\t0.1465525095337543\n",
            "  (0, 9675)\t0.14226057295252661\n",
            "  (0, 9465)\t0.1659841367820977\n",
            "  (0, 1390)\t0.16898383612799558\n",
            "  (0, 7825)\t0.09799561597509843\n",
            "  (0, 1214)\t0.13865857545144072\n",
            "  (0, 729)\t0.13415063359531618\n",
            "  (0, 13093)\t0.1432591540388685\n",
            "  (0, 15355)\t0.10477815972666779\n",
            "  (0, 9048)\t0.08668421161607778\n",
            "  (0, 11161)\t0.06250380151644369\n",
            "  (0, 16773)\t0.17654247479915472\n",
            "  (0, 5612)\t0.0860353758854763\n",
            "  (0, 16735)\t0.10690083751525419\n",
            "  (0, 7904)\t0.13348000542112332\n",
            "  (0, 15219)\t0.09800472886453934\n",
            "  (0, 11242)\t0.07277788238484745\n",
            "  (0, 3878)\t0.119983995825622\n",
            "  (0, 5499)\t0.11454057510303811\n",
            "  (0, 7071)\t0.19822417598406614\n",
            "  (0, 7454)\t0.14745635785412262\n",
            "  (0, 1495)\t0.19712637387361423\n",
            "  (0, 9206)\t0.15186283580984414\n",
            "  :\t:\n",
            "  (4757, 5455)\t0.12491480594769522\n",
            "  (4757, 2967)\t0.16273475835631626\n",
            "  (4757, 8464)\t0.2352256555406633\n",
            "  (4757, 6938)\t0.17088173678136628\n",
            "  (4757, 8379)\t0.17480603856721913\n",
            "  (4757, 15303)\t0.0765435600766819\n",
            "  (4757, 15384)\t0.09754322497537371\n",
            "  (4757, 7649)\t0.11479421494340192\n",
            "  (4757, 10896)\t0.14546473055066447\n",
            "  (4757, 4494)\t0.056752984487205005\n",
            "  (4758, 5238)\t1.0\n",
            "  (4759, 11264)\t0.3394772180431834\n",
            "  (4759, 11708)\t0.3394772180431834\n",
            "  (4759, 205)\t0.3237911628497312\n",
            "  (4759, 8902)\t0.3040290704566037\n",
            "  (4759, 14062)\t0.3237911628497312\n",
            "  (4759, 3058)\t0.28128961918631035\n",
            "  (4759, 7130)\t0.26419662449963793\n",
            "  (4759, 10761)\t0.3126617295732147\n",
            "  (4759, 4358)\t0.18306542312175345\n",
            "  (4759, 14051)\t0.20084315377640438\n",
            "  (4759, 5690)\t0.19534291014627306\n",
            "  (4759, 15431)\t0.19628653185946865\n",
            "  (4759, 1490)\t0.21197258705292082\n",
            "  (4759, 10666)\t0.15888268987343046\n"
          ]
        }
      ]
    },
    {
      "cell_type": "markdown",
      "source": [
        "**GET SIMILARITY SCORE USING COSINE SIMILARITY**"
      ],
      "metadata": {
        "id": "HrZo1LUgfY7m"
      }
    },
    {
      "cell_type": "code",
      "source": [
        "from sklearn.metrics.pairwise import cosine_similarity"
      ],
      "metadata": {
        "id": "JD5FJ-rBftZq"
      },
      "execution_count": null,
      "outputs": []
    },
    {
      "cell_type": "code",
      "source": [
        "Similarity_Score=cosine_similarity(x)"
      ],
      "metadata": {
        "id": "fA2_X0Ysf-Pb"
      },
      "execution_count": null,
      "outputs": []
    },
    {
      "cell_type": "code",
      "source": [
        "Similarity_Score"
      ],
      "metadata": {
        "colab": {
          "base_uri": "https://localhost:8080/"
        },
        "id": "wwQrWJJlg3SX",
        "outputId": "491944fa-1f72-4295-ffa8-df5871b65a60"
      },
      "execution_count": null,
      "outputs": [
        {
          "output_type": "execute_result",
          "data": {
            "text/plain": [
              "array([[1.        , 0.01351235, 0.03570468, ..., 0.        , 0.        ,\n",
              "        0.        ],\n",
              "       [0.01351235, 1.        , 0.00806674, ..., 0.        , 0.        ,\n",
              "        0.        ],\n",
              "       [0.03570468, 0.00806674, 1.        , ..., 0.        , 0.08014876,\n",
              "        0.        ],\n",
              "       ...,\n",
              "       [0.        , 0.        , 0.        , ..., 1.        , 0.        ,\n",
              "        0.        ],\n",
              "       [0.        , 0.        , 0.08014876, ..., 0.        , 1.        ,\n",
              "        0.        ],\n",
              "       [0.        , 0.        , 0.        , ..., 0.        , 0.        ,\n",
              "        1.        ]])"
            ]
          },
          "metadata": {},
          "execution_count": 24
        }
      ]
    },
    {
      "cell_type": "code",
      "source": [
        "Similarity_Score.shape"
      ],
      "metadata": {
        "colab": {
          "base_uri": "https://localhost:8080/"
        },
        "id": "VZNM5NQLhnDT",
        "outputId": "cca87876-a5f5-4cfc-89a6-2664c46f96d6"
      },
      "execution_count": null,
      "outputs": [
        {
          "output_type": "execute_result",
          "data": {
            "text/plain": [
              "(4760, 4760)"
            ]
          },
          "metadata": {},
          "execution_count": 25
        }
      ]
    },
    {
      "cell_type": "markdown",
      "source": [
        "### GET MOVIE NAME AS INPUT FROM THE USER AND VALIDATE FOR THE CLOSEST SPELLING\n",
        "\n",
        "\n",
        "\n"
      ],
      "metadata": {
        "id": "RKANMPqYh1EX"
      }
    },
    {
      "cell_type": "code",
      "source": [
        "Favourite_Movie_Name=input('Enter your favourite movie name: ')"
      ],
      "metadata": {
        "colab": {
          "base_uri": "https://localhost:8080/"
        },
        "id": "O_i-fUAEie5w",
        "outputId": "5e8a12ff-c75c-4cc0-b84e-f9ec6b215b39"
      },
      "execution_count": null,
      "outputs": [
        {
          "name": "stdout",
          "output_type": "stream",
          "text": [
            "Enter your favourite movie name: Avatar\n"
          ]
        }
      ]
    },
    {
      "cell_type": "code",
      "source": [
        "All_Movies_Title_List=df['Movie_Title'].tolist()"
      ],
      "metadata": {
        "id": "UX7ifimSiegJ"
      },
      "execution_count": null,
      "outputs": []
    },
    {
      "cell_type": "code",
      "source": [
        "import difflib"
      ],
      "metadata": {
        "id": "g831hDudkEo1"
      },
      "execution_count": null,
      "outputs": []
    },
    {
      "cell_type": "code",
      "source": [
        "Movie_Recommendation=difflib.get_close_matches(Favourite_Movie_Name,All_Movies_Title_List)\n",
        "print(Movie_Recommendation)"
      ],
      "metadata": {
        "colab": {
          "base_uri": "https://localhost:8080/"
        },
        "id": "WLgGBK46kPDv",
        "outputId": "54b15ea2-1af2-4fbf-8597-291a49670d14"
      },
      "execution_count": null,
      "outputs": [
        {
          "output_type": "stream",
          "name": "stdout",
          "text": [
            "['Avatar']\n"
          ]
        }
      ]
    },
    {
      "cell_type": "code",
      "source": [
        "Close_Match=Movie_Recommendation[0]\n",
        "print(Close_Match)"
      ],
      "metadata": {
        "colab": {
          "base_uri": "https://localhost:8080/"
        },
        "id": "Wua3b7xvk7KH",
        "outputId": "c8ffc18e-bd2a-481a-9907-ae099cf7d3dd"
      },
      "execution_count": null,
      "outputs": [
        {
          "output_type": "stream",
          "name": "stdout",
          "text": [
            "Avatar\n"
          ]
        }
      ]
    },
    {
      "cell_type": "code",
      "source": [
        "Index_of_close_match_movie=df[df.Movie_Title==Close_Match]['Movie_ID'].values[0]\n",
        "print(Index_of_close_match_movie)"
      ],
      "metadata": {
        "colab": {
          "base_uri": "https://localhost:8080/"
        },
        "id": "335FYntxmcU2",
        "outputId": "23521970-d106-40c4-b993-aa35954c9d9b"
      },
      "execution_count": null,
      "outputs": [
        {
          "output_type": "stream",
          "name": "stdout",
          "text": [
            "2692\n"
          ]
        }
      ]
    },
    {
      "cell_type": "code",
      "source": [
        "#getting a list of similar movies\n",
        "Recommendation_Score=list(enumerate(Similarity_Score[Index_of_close_match_movie]))\n",
        "print(Recommendation_Score)"
      ],
      "metadata": {
        "colab": {
          "base_uri": "https://localhost:8080/"
        },
        "id": "nd94JS58nt4a",
        "outputId": "13520144-0c56-4cee-bd26-9ca505b40107"
      },
      "execution_count": null,
      "outputs": [
        {
          "output_type": "stream",
          "name": "stdout",
          "text": [
            "[(0, 0.009805093506053453), (1, 0.0), (2, 0.0), (3, 0.00800429043895183), (4, 0.0026759665928032302), (5, 0.009639835665946629), (6, 0.004963665756185002), (7, 0.012848827437220958), (8, 0.0027543335470164667), (9, 0.00607882290416431), (10, 0.007539724639541888), (11, 0.0026263170118314915), (12, 0.0027083403549614574), (13, 0.012904730427356218), (14, 0.0), (15, 0.022556564866386047), (16, 0.0059590789366884955), (17, 0.0), (18, 0.013639824714195078), (19, 0.0087847399486844), (20, 0.0026527570934446066), (21, 0.015211614027840471), (22, 0.006522322352622827), (23, 0.0026429172195160198), (24, 0.001656448263643531), (25, 0.025600660315408183), (26, 0.0024815199490618), (27, 0.0047922703978128985), (28, 0.0), (29, 0.02328827758320444), (30, 0.004648836119227041), (31, 0.006723965537835127), (32, 0.0079845480693677), (33, 0.01861232606863544), (34, 0.0074396222674798455), (35, 0.006061232820377419), (36, 0.0), (37, 0.0), (38, 0.008085428274959464), (39, 0.004632326320381306), (40, 0.015305064222782005), (41, 0.002822061251368253), (42, 0.007236825272071698), (43, 0.01485128947451649), (44, 0.03961780430399105), (45, 0.08999324643162435), (46, 0.01855499596172605), (47, 0.010374759033888029), (48, 0.015673410180680997), (49, 0.0), (50, 0.006986992676753986), (51, 0.014965979411782005), (52, 0.013600804094978335), (53, 0.0), (54, 0.0), (55, 0.0), (56, 0.00668799545079124), (57, 0.01083500847822855), (58, 0.0), (59, 0.0), (60, 0.007788672977779784), (61, 0.01765879545263525), (62, 0.10153560702418996), (63, 0.007246373790482992), (64, 0.0), (65, 0.03168092911305668), (66, 0.0025312341363153933), (67, 0.045066178784059385), (68, 0.022589410734540884), (69, 0.0050655150859636395), (70, 0.012784303893544425), (71, 0.002598233031967091), (72, 0.011335815706635272), (73, 0.0), (74, 0.002697321222497817), (75, 0.01289274644953283), (76, 0.0037642771162936244), (77, 0.0034769808720954984), (78, 0.009399606571884909), (79, 0.009076618790839583), (80, 0.004227109798982705), (81, 0.007009943535800456), (82, 0.011894144332662658), (83, 0.018501078945740608), (84, 0.06182375996841289), (85, 0.015565415762667168), (86, 0.01173384748972156), (87, 0.01373171111603307), (88, 0.022301178722772527), (89, 0.04014807769109405), (90, 0.004511298820312948), (91, 0.0), (92, 0.002231938202318901), (93, 0.004418656840322171), (94, 0.004236585948952706), (95, 0.004745609331166691), (96, 0.008895438584707135), (97, 0.0022256720396511935), (98, 0.0024834093817619105), (99, 0.010108725363944762), (100, 0.0), (101, 0.0), (102, 0.005040189360757848), (103, 0.002196696924815654), (104, 0.009162490236957822), (105, 0.00953209875512927), (106, 0.01751175660174081), (107, 0.00810878589263473), (108, 0.03871190052571695), (109, 0.038488255428289986), (110, 0.08361784775029486), (111, 0.00892830755196627), (112, 0.028472602360715568), (113, 0.007487310843562391), (114, 0.002538593432573124), (115, 0.0025933002005932644), (116, 0.02423134884513523), (117, 0.0), (118, 0.004733636962274293), (119, 0.008932839836200662), (120, 0.009912331765059942), (121, 0.0023309647694089563), (122, 0.006517403480064114), (123, 0.018256088885426403), (124, 0.024984856011144883), (125, 0.01280153115862705), (126, 0.03803411394029396), (127, 0.0024694587388694603), (128, 0.005117957196142505), (129, 0.0017710145837505121), (130, 0.01192686767667918), (131, 0.0066551420395099085), (132, 0.0022485035909542398), (133, 0.0), (134, 0.0), (135, 0.004609422560900164), (136, 0.0023420536635438975), (137, 0.05248774397823477), (138, 0.0321965946966296), (139, 0.007938053419644051), (140, 0.002375714381583937), (141, 0.0), (142, 0.01924033807026037), (143, 0.0074218727251426225), (144, 0.01735016450551756), (145, 0.019128060100674707), (146, 0.0), (147, 0.01798970888682872), (148, 0.010606847740924956), (149, 0.011746502833415905), (150, 0.0), (151, 0.0), (152, 0.004480162377431886), (153, 0.0), (154, 0.002380610004741567), (155, 0.02353776545091888), (156, 0.007396517906534802), (157, 0.0024154394861414467), (158, 0.002274967685727569), (159, 0.007126037020866248), (160, 0.018298437262288463), (161, 0.04350231968158566), (162, 0.007770799696963449), (163, 0.0), (164, 0.008663782994178401), (165, 0.0021924308432048874), (166, 0.03236744328857419), (167, 0.02657650964316937), (168, 0.005162629015437512), (169, 0.0024917837504511062), (170, 0.01059041937272097), (171, 0.0), (172, 0.041690425384126525), (173, 0.016957544655049187), (174, 0.030569480499441432), (175, 0.02333053148393252), (176, 0.027183803724459638), (177, 0.005599808753936735), (178, 0.0026679650494889234), (179, 0.03070790332599037), (180, 0.007560424083753989), (181, 0.014055923457905324), (182, 0.00917761309803168), (183, 0.008350342502147893), (184, 0.0022333195719391554), (185, 0.039816482153249476), (186, 0.0), (187, 0.00404662471660528), (188, 0.0), (189, 0.004777355844485406), (190, 0.012138750265674797), (191, 0.00411617790201361), (192, 0.002743055956303319), (193, 0.02921249104004702), (194, 0.002034839745506438), (195, 0.0021317422811621754), (196, 0.0021302417886199295), (197, 0.00859704253241558), (198, 0.0025732563219333354), (199, 0.018959792932713843), (200, 0.006317406038489515), (201, 0.012194922563079247), (202, 0.0016641723699352558), (203, 0.016923915753796284), (204, 0.018686269670332167), (205, 0.0), (206, 0.010195436607244202), (207, 0.013202287890523336), (208, 0.014564317291621245), (209, 0.016326637209159098), (210, 0.03887249407522501), (211, 0.0026509436265181466), (212, 0.01673880855230024), (213, 0.04933586361371152), (214, 0.0), (215, 0.0024916105012742816), (216, 0.00996431954976376), (217, 0.006895954353204596), (218, 0.01632934566099434), (219, 0.0), (220, 0.004877383327231497), (221, 0.0024113614902875756), (222, 0.017856013028360415), (223, 0.0), (224, 0.007353548211987467), (225, 0.0), (226, 0.002535833594602342), (227, 0.04927271164177766), (228, 0.0019207863172057056), (229, 0.002364464894441411), (230, 0.006397047584259012), (231, 0.013776482994224609), (232, 0.007072494943779914), (233, 0.004553254985288595), (234, 0.003970509617032526), (235, 0.002862603765501166), (236, 0.013361417399169883), (237, 0.0), (238, 0.007292058096564208), (239, 0.0048934110269985434), (240, 0.026409645255112184), (241, 0.02846230566947309), (242, 0.007883152373824124), (243, 0.009658171853199466), (244, 0.01143443854593537), (245, 0.0), (246, 0.0026971635638096143), (247, 0.002507649315273456), (248, 0.006076898456420153), (249, 0.0022242181571218047), (250, 0.02960515626621146), (251, 0.01386796645536727), (252, 0.013883632146620807), (253, 0.002772861905660795), (254, 0.06351452702158422), (255, 0.007486787644460759), (256, 0.0071804227055145605), (257, 0.0218046208143701), (258, 0.0), (259, 0.0), (260, 0.004375759434559262), (261, 0.022323692944172458), (262, 0.002664335955514705), (263, 0.006216251561942656), (264, 0.0), (265, 0.0), (266, 0.010555380119079246), (267, 0.0021492676003019005), (268, 0.0022620244651643815), (269, 0.02472221101532218), (270, 0.010051806221174027), (271, 0.0105134991300384), (272, 0.0), (273, 0.010851325289581416), (274, 0.011035641459288753), (275, 0.0), (276, 0.01341224303676169), (277, 0.043059556789028404), (278, 0.0021843202599993138), (279, 0.01674439634537899), (280, 0.01613776228166816), (281, 0.010850110374057987), (282, 0.05879285017883317), (283, 0.006663066484764483), (284, 0.027210766517313724), (285, 0.008704678727235576), (286, 0.0021763451606793827), (287, 0.015182057023698535), (288, 0.009496377944736414), (289, 0.0037027062092279866), (290, 0.003764602526997217), (291, 0.010654114070260628), (292, 0.051104618723647945), (293, 0.0018032932320903583), (294, 0.0036732829549063557), (295, 0.0037622811700992425), (296, 0.015204844606541187), (297, 0.0), (298, 0.0), (299, 0.0), (300, 0.006258139455269688), (301, 0.006948577664564858), (302, 0.0), (303, 0.005006167909413678), (304, 0.010776123342338814), (305, 0.0046089129869793174), (306, 0.004250577618359521), (307, 0.008540452172185267), (308, 0.002836039428752784), (309, 0.007241873038964717), (310, 0.004432460706505274), (311, 0.006640720103355573), (312, 0.0), (313, 0.011588694147227203), (314, 0.0038672786460396697), (315, 0.004627579160961796), (316, 0.00427566853687803), (317, 0.013724375771018175), (318, 0.002771621399239436), (319, 0.0), (320, 0.004836468342738551), (321, 0.010853546219663458), (322, 0.01101127421559997), (323, 0.004126702166598834), (324, 0.0023375564513999506), (325, 0.0023966071369795313), (326, 0.0031059387747140853), (327, 0.010031091446491825), (328, 0.043787258882396256), (329, 0.019680187212331633), (330, 0.0199075769889251), (331, 0.0), (332, 0.013291392972049707), (333, 0.010396647172797039), (334, 0.033097160057045466), (335, 0.0), (336, 0.004711078991398701), (337, 0.0), (338, 0.0), (339, 0.0), (340, 0.007057789008247635), (341, 0.012040276910772649), (342, 0.017625924860547256), (343, 0.015792700017701194), (344, 0.0), (345, 0.024810895755894062), (346, 0.009047329905670951), (347, 0.0046290114454663155), (348, 0.002510604930984473), (349, 0.0024597751017132285), (350, 0.0077834555221204145), (351, 0.001934949810470641), (352, 0.0), (353, 0.009247286364833025), (354, 0.010233180367455262), (355, 0.002338600461277963), (356, 0.01308537921357196), (357, 0.0021885661052920605), (358, 0.015243912796223521), (359, 0.0023274681266520665), (360, 0.041404908811442376), (361, 0.0), (362, 0.0), (363, 0.007177918653319795), (364, 0.018118667495208757), (365, 0.0), (366, 0.0), (367, 0.006777740856868494), (368, 0.008492469988221549), (369, 0.0054147171174585024), (370, 0.014201587388961136), (371, 0.028251554740421538), (372, 0.0023630726175345195), (373, 0.0024035937816996485), (374, 0.015464220140309494), (375, 0.00455931756577401), (376, 0.0), (377, 0.002613134236024629), (378, 0.0025470432429252456), (379, 0.0), (380, 0.005299883695242828), (381, 0.026093203409695034), (382, 0.0), (383, 0.019467817150654654), (384, 0.048561612573762), (385, 0.007832134714130213), (386, 0.006839997396687534), (387, 0.032522091160063736), (388, 0.0023942044323020653), (389, 0.0045928926555422215), (390, 0.0), (391, 0.0), (392, 0.0), (393, 0.0), (394, 0.0), (395, 0.0027210652124724606), (396, 0.009236073372609652), (397, 0.004218130295350772), (398, 0.021995497360737783), (399, 0.0023500375059201137), (400, 0.0025128954646050504), (401, 0.0), (402, 0.011099556911853733), (403, 0.007717320665807716), (404, 0.0), (405, 0.0), (406, 0.013996421309263717), (407, 0.012576162839507812), (408, 0.04269519176334117), (409, 0.01705486437084937), (410, 0.0023595146802160606), (411, 0.0), (412, 0.04506044778254056), (413, 0.007014363525749395), (414, 0.004932846527715331), (415, 0.0), (416, 0.002324088327746965), (417, 0.010857053144102818), (418, 0.012363494963790644), (419, 0.0028564076731825024), (420, 0.004960790573790973), (421, 0.027491772196429475), (422, 0.006684770214378324), (423, 0.0), (424, 0.05839654732699125), (425, 0.005233653978455373), (426, 0.004315083525299143), (427, 0.0), (428, 0.02794147636235222), (429, 0.014907793983901893), (430, 0.02847444789611042), (431, 0.002990980897218307), (432, 0.002157573346153142), (433, 0.016594829303328437), (434, 0.00909271578475179), (435, 0.009477836158719865), (436, 0.007999143568905943), (437, 0.014872318949017258), (438, 0.04307224044369872), (439, 0.0), (440, 0.0), (441, 0.007524058999258839), (442, 0.021288297567688547), (443, 0.00826944426866319), (444, 0.0028258587746824724), (445, 0.007794521839692809), (446, 0.008882006651574383), (447, 0.01477043861892446), (448, 0.002927379117072186), (449, 0.00823467413153059), (450, 0.015608519656568696), (451, 0.0046333179489901856), (452, 0.011805040282430308), (453, 0.0019393347333000763), (454, 0.0), (455, 0.042133964403914086), (456, 0.002687049016489072), (457, 0.002327732812904547), (458, 0.015871922723417132), (459, 0.026041390263338307), (460, 0.004591946474043865), (461, 0.008378393185575848), (462, 0.03225758483924036), (463, 0.019270774055312006), (464, 0.008999856286562491), (465, 0.02832340194230098), (466, 0.002507384990996102), (467, 0.00454767870920759), (468, 0.010463913523735657), (469, 0.0038125681688557884), (470, 0.014468577429467193), (471, 0.002368427181806095), (472, 0.009373634695275761), (473, 0.0022945038896853647), (474, 0.007434113526945559), (475, 0.0031830170208644714), (476, 0.0027839829553150115), (477, 0.005239784974437233), (478, 0.00287030905466654), (479, 0.04998855981862963), (480, 0.002225493785794768), (481, 0.015469390328392466), (482, 0.014318865406517202), (483, 0.010147870988533605), (484, 0.0), (485, 0.010299890463609938), (486, 0.0), (487, 0.0024278315922302163), (488, 0.0024531249664626526), (489, 0.0030339076498476585), (490, 0.0025114046023391725), (491, 0.0), (492, 0.0), (493, 0.0075909925907739146), (494, 0.007107534761405225), (495, 0.0022431563403783133), (496, 0.01338153519632825), (497, 0.00629601813997159), (498, 0.0), (499, 0.00276004299098267), (500, 0.01139692902865105), (501, 0.010495925548300911), (502, 0.014891603243137274), (503, 0.0068823714421241316), (504, 0.0025515084152291085), (505, 0.002409323202911005), (506, 0.0), (507, 0.0023814032611240723), (508, 0.0029161753848960135), (509, 0.007332027054368109), (510, 0.014297192125796509), (511, 0.016166552419491668), (512, 0.0054832705791418405), (513, 0.00501502826446355), (514, 0.005003024616850094), (515, 0.02249983309611588), (516, 0.0), (517, 0.0), (518, 0.0029732402429394856), (519, 0.049135825613876145), (520, 0.0), (521, 0.00632447163326214), (522, 0.026704190546478424), (523, 0.011754752241863661), (524, 0.002326628494390853), (525, 0.0), (526, 0.003189205961226647), (527, 0.01240842665711394), (528, 0.0), (529, 0.0), (530, 0.02974102103303271), (531, 0.0), (532, 0.010853692109028056), (533, 0.015999131525746606), (534, 0.01404914416124758), (535, 0.0), (536, 0.0), (537, 0.012728576163409104), (538, 0.010837176004175738), (539, 0.006923300446519887), (540, 0.03445972856479226), (541, 0.0024531262551875307), (542, 0.009974966884476081), (543, 0.014815140222086211), (544, 0.009753397860988316), (545, 0.013484509510887666), (546, 0.0), (547, 0.032058111008167474), (548, 0.0), (549, 0.0), (550, 0.005095713449789213), (551, 0.01627796017830193), (552, 0.0), (553, 0.018685764365025587), (554, 0.0), (555, 0.010805867563405057), (556, 0.0), (557, 0.0), (558, 0.008862695499612723), (559, 0.004110087166529762), (560, 0.01172379653670664), (561, 0.004843879649288875), (562, 0.005424022281125922), (563, 0.006446918984242734), (564, 0.002657027849458249), (565, 0.0), (566, 0.019085435302379775), (567, 0.0), (568, 0.006092393801123679), (569, 0.0), (570, 0.0), (571, 0.00551243089187356), (572, 0.0), (573, 0.0), (574, 0.0), (575, 0.0), (576, 0.0028589991183695833), (577, 0.0), (578, 0.033278162659926364), (579, 0.0025709274312358285), (580, 0.0074710138065778725), (581, 0.006442908807660051), (582, 0.007738614071243573), (583, 0.0059550030484485155), (584, 0.014718536886619442), (585, 0.0), (586, 0.015989792128490086), (587, 0.0027892462176755946), (588, 0.0026354138296516647), (589, 0.002350459610419985), (590, 0.06275727122098755), (591, 0.0), (592, 0.0), (593, 0.026983451854962905), (594, 0.0022668822325154735), (595, 0.005073766918951452), (596, 0.002841667503161745), (597, 0.00818469269722307), (598, 0.002363017019179979), (599, 0.0), (600, 0.006911988221385435), (601, 0.0), (602, 0.0), (603, 0.0), (604, 0.013082263186631317), (605, 0.0022316315763223375), (606, 0.0073828155304262386), (607, 0.00195429012036482), (608, 0.006480886036499978), (609, 0.012436169884984385), (610, 0.0), (611, 0.00407474121950208), (612, 0.0026927305201672825), (613, 0.022103917336711854), (614, 0.0029098979225331504), (615, 0.043627287472934005), (616, 0.0075876048858052715), (617, 0.006036313815003582), (618, 0.029763727969072958), (619, 0.004592008813534647), (620, 0.015054170784840129), (621, 0.0098894425959586), (622, 0.015114877441477752), (623, 0.002693625705453473), (624, 0.0023197786136598814), (625, 0.003970091952863027), (626, 0.0021492988165263674), (627, 0.003434199982561845), (628, 0.08334515876919321), (629, 0.0290204466032395), (630, 0.0), (631, 0.009361669401453365), (632, 0.038521522590537656), (633, 0.004519568945057025), (634, 0.004532017668175814), (635, 0.01220849869170823), (636, 0.007220498423054623), (637, 0.04421437006060526), (638, 0.01648509407336536), (639, 0.0038956299468069287), (640, 0.003862120234585781), (641, 0.022162243129839828), (642, 0.006175541244757278), (643, 0.02014941724072286), (644, 0.006791787033115819), (645, 0.00207140504665391), (646, 0.0024389251045113143), (647, 0.0022252480933714737), (648, 0.012277887423853679), (649, 0.0), (650, 0.0), (651, 0.008790443518269624), (652, 0.01454961180007468), (653, 0.012376187134664488), (654, 0.012319247296879221), (655, 0.0023683578516378546), (656, 0.0), (657, 0.024535628803477472), (658, 0.0), (659, 0.0023624315239011307), (660, 0.007468299121380834), (661, 0.0043277766914817635), (662, 0.0), (663, 0.0), (664, 0.012230253012714354), (665, 0.0), (666, 0.005191363840721598), (667, 0.012288709705708507), (668, 0.009247180014652575), (669, 0.019132321637644396), (670, 0.027728288572825426), (671, 0.006782870119665303), (672, 0.02173947827421719), (673, 0.042776025120826545), (674, 0.0), (675, 0.061769915175723035), (676, 0.013790445822426275), (677, 0.016822470099348855), (678, 0.01274236717803005), (679, 0.0), (680, 0.002697185414224174), (681, 0.0), (682, 0.043040904339148985), (683, 0.010850382331213302), (684, 0.01187270882417908), (685, 0.0047391400645060075), (686, 0.0), (687, 0.005118389644317329), (688, 0.007920082561582203), (689, 0.018231244849310154), (690, 0.004292327916105058), (691, 0.02233080156933897), (692, 0.01577967045091189), (693, 0.028339830117329535), (694, 0.03517836781813186), (695, 0.010765812704594107), (696, 0.007196443040031081), (697, 0.009143071449328688), (698, 0.002399544762154424), (699, 0.0), (700, 0.0), (701, 0.015878620948365185), (702, 0.0), (703, 0.002252830558764676), (704, 0.0), (705, 0.008060671056134337), (706, 0.022883981926318162), (707, 0.0021331859766897036), (708, 0.0), (709, 0.0), (710, 0.03578166731017038), (711, 0.0), (712, 0.0022406993971376544), (713, 0.0), (714, 0.0), (715, 0.010047304304865667), (716, 0.0074973043051375496), (717, 0.0026448136161407753), (718, 0.0), (719, 0.0110210698574657), (720, 0.0), (721, 0.033362453327836536), (722, 0.002278862164489498), (723, 0.003905451704110581), (724, 0.0), (725, 0.0), (726, 0.0), (727, 0.007024317991323225), (728, 0.007711282099805772), (729, 0.007972578233613352), (730, 0.0), (731, 0.002426041885645131), (732, 0.01224641375041674), (733, 0.012307534826604473), (734, 0.008527107655238415), (735, 0.0034631596343398384), (736, 0.0), (737, 0.010269482174020532), (738, 0.003800505428240529), (739, 0.002894012255446743), (740, 0.001701373849080024), (741, 0.0), (742, 0.012895262349341567), (743, 0.007346838592574464), (744, 0.006611821515269222), (745, 0.006541447895988962), (746, 0.0), (747, 0.0), (748, 0.006970337504893362), (749, 0.002537705888891391), (750, 0.007283807541207736), (751, 0.0), (752, 0.006874003656088706), (753, 0.013549278832237005), (754, 0.0), (755, 0.0024647317404651358), (756, 0.004051083609040267), (757, 0.01817147890581409), (758, 0.006619783688263927), (759, 0.0023091179068573924), (760, 0.013408755868769412), (761, 0.05084432535535456), (762, 0.015386234332469932), (763, 0.020692910816374387), (764, 0.0), (765, 0.004875714723265432), (766, 0.028635970060155818), (767, 0.002405830891505594), (768, 0.018897801274291616), (769, 0.007055976434269275), (770, 0.0), (771, 0.0), (772, 0.0), (773, 0.0), (774, 0.036534469820827545), (775, 0.013580167832495795), (776, 0.016907533747342926), (777, 0.0030482065377159654), (778, 0.006760120126778055), (779, 0.019778519028090434), (780, 0.0), (781, 0.0), (782, 0.008737001055913088), (783, 0.002671657768184265), (784, 0.0), (785, 0.0), (786, 0.0), (787, 0.03023438267603657), (788, 0.03677578250603034), (789, 0.0), (790, 0.011328819098868292), (791, 0.0027245490827624776), (792, 0.010223739969146536), (793, 0.0047911708785747225), (794, 0.01693869060184897), (795, 0.016724564291810132), (796, 0.017485082104493087), (797, 0.0), (798, 0.0024202791549872184), (799, 0.013866844082999446), (800, 0.012330546240660198), (801, 0.010706865530756117), (802, 0.00504790855259478), (803, 0.004123319018849688), (804, 0.006430481765266978), (805, 0.002345272830088757), (806, 0.009918568722061226), (807, 0.0), (808, 0.01788485830207994), (809, 0.011480022502538125), (810, 0.004310244706102459), (811, 0.004677175365825213), (812, 0.03134464238097975), (813, 0.002848492341463615), (814, 0.013495540125448385), (815, 0.0022658102075283266), (816, 0.007822688625960026), (817, 0.008811076124523944), (818, 0.034397558098509876), (819, 0.0), (820, 0.0), (821, 0.006015976066697053), (822, 0.0), (823, 0.03170971693957013), (824, 0.02455387204481399), (825, 0.011336234973378516), (826, 0.002704815148187846), (827, 0.011088505143461765), (828, 0.009079231893502366), (829, 0.013067152965588674), (830, 0.034474524685610713), (831, 0.00504729347668347), (832, 0.026105036608453723), (833, 0.01276897933929334), (834, 0.006515346842433375), (835, 0.006210819751878024), (836, 0.028164079074357647), (837, 0.0), (838, 0.008466382510212332), (839, 0.0), (840, 0.0), (841, 0.0), (842, 0.014292048885850284), (843, 0.007487678947366413), (844, 0.012547501024285899), (845, 0.007484940367084546), (846, 0.0), (847, 0.01044101072550268), (848, 0.0025577444283759222), (849, 0.0046103472537448245), (850, 0.009269227266584064), (851, 0.008419793419722108), (852, 0.026315624754250797), (853, 0.016077023266484143), (854, 0.0024204130433707048), (855, 0.005267649046133166), (856, 0.0022638347872648936), (857, 0.0028006579787448844), (858, 0.017862483039744723), (859, 0.0), (860, 0.01648121210076868), (861, 0.006156676188760679), (862, 0.006163646870521245), (863, 0.006535303034806724), (864, 0.031860195855372704), (865, 0.0026041473034027983), (866, 0.013223819809213746), (867, 0.01544727569115717), (868, 0.006638099025230637), (869, 0.00725401690235808), (870, 0.020332227193004898), (871, 0.0026058791087421596), (872, 0.0027151279537172817), (873, 0.05064812913191185), (874, 0.03549031987804057), (875, 0.012828620175361183), (876, 0.016236183953495645), (877, 0.05122309739076528), (878, 0.013435345188327827), (879, 0.014840329123637929), (880, 0.007046905349603813), (881, 0.0), (882, 0.0), (883, 0.002422689099820759), (884, 0.002638659493160795), (885, 0.023729068693320123), (886, 0.0023776858160629247), (887, 0.002757674922454598), (888, 0.01576518012931865), (889, 0.0032639821409427413), (890, 0.0026450709873933557), (891, 0.004859604317280072), (892, 0.0), (893, 0.0041600117443788024), (894, 0.009520951455559387), (895, 0.014602672301442824), (896, 0.015539368002936158), (897, 0.00917425486238189), (898, 0.004155926036290059), (899, 0.014448377276744431), (900, 0.012826494884294269), (901, 0.0021006570803087372), (902, 0.00473242978058989), (903, 0.02729379679139481), (904, 0.0450492655992295), (905, 0.01352101955738616), (906, 0.013082769368796992), (907, 0.0023323006017659173), (908, 0.007227807872197648), (909, 0.0), (910, 0.006544699287657487), (911, 0.035858249555777454), (912, 0.0), (913, 0.0), (914, 0.0), (915, 0.011247273022572188), (916, 0.01691713963929492), (917, 0.021822162443509215), (918, 0.012096049309795825), (919, 0.00468827488780651), (920, 0.0), (921, 0.008473884306744568), (922, 0.0028454319081892806), (923, 0.006885196795129849), (924, 0.007930889582430519), (925, 0.0029161833874092376), (926, 0.0), (927, 0.004525247754470468), (928, 0.012197504397565779), (929, 0.015192476876984537), (930, 0.007588642360831523), (931, 0.011680378019562551), (932, 0.0041240318599223), (933, 0.0025901424197287398), (934, 0.014284810246050517), (935, 0.03207409713726259), (936, 0.012343388786512692), (937, 0.01661899895760169), (938, 0.0), (939, 0.00906544737876302), (940, 0.00637220150273429), (941, 0.0023753858347316313), (942, 0.02404326236955836), (943, 0.0), (944, 0.002362909437140335), (945, 0.0), (946, 0.0), (947, 0.01918803569573748), (948, 0.008908360175058829), (949, 0.01083005059414121), (950, 0.0), (951, 0.0021410138183139585), (952, 0.02903108400449548), (953, 0.005756518916356404), (954, 0.0), (955, 0.0), (956, 0.0), (957, 0.014312073755375087), (958, 0.006004028909589245), (959, 0.002463402893606119), (960, 0.0), (961, 0.0), (962, 0.008633517179123246), (963, 0.012823359786905112), (964, 0.0), (965, 0.0), (966, 0.008596738901221881), (967, 0.024840892469807127), (968, 0.018377219999664365), (969, 0.0025886358479461327), (970, 0.009447726677397602), (971, 0.0), (972, 0.0), (973, 0.002498682974922026), (974, 0.004318721201428409), (975, 0.0023742544854066395), (976, 0.028498609827027066), (977, 0.0), (978, 0.0), (979, 0.009887972165231157), (980, 0.0073892674550401615), (981, 0.006436594763438925), (982, 0.0), (983, 0.0), (984, 0.0024124304913493468), (985, 0.0029012034398200413), (986, 0.014213770613722879), (987, 0.002630563204847358), (988, 0.014128718827695012), (989, 0.013990992406489752), (990, 0.0), (991, 0.007674540016661659), (992, 0.004935502243441056), (993, 0.0025548338994164986), (994, 0.009767338355605823), (995, 0.0), (996, 0.00650992907297042), (997, 0.004149127110904067), (998, 0.0028750966104490855), (999, 0.002872743544256604), (1000, 0.012794194783292075), (1001, 0.00681409120174354), (1002, 0.0024164625079969525), (1003, 0.020405588630474578), (1004, 0.0022732257076968922), (1005, 0.012367191754578264), (1006, 0.009512410497885452), (1007, 0.0026699680308093048), (1008, 0.0), (1009, 0.012169952798027534), (1010, 0.0), (1011, 0.0), (1012, 0.011077486485627779), (1013, 0.0), (1014, 0.007610412264289005), (1015, 0.022477148208897783), (1016, 0.0), (1017, 0.020210828878643075), (1018, 0.015920831393077692), (1019, 0.011046732439510036), (1020, 0.0087352455702644), (1021, 0.056719999647689694), (1022, 0.0), (1023, 0.04614573925419343), (1024, 0.03708630975128549), (1025, 0.0), (1026, 0.0024886894329191793), (1027, 0.0024251785301193946), (1028, 0.0), (1029, 0.0), (1030, 0.05058278967403506), (1031, 0.0), (1032, 0.0023954401496635793), (1033, 0.021320167194337766), (1034, 0.002428788548445367), (1035, 0.01381887453098141), (1036, 0.002391995314691646), (1037, 0.007406593398245868), (1038, 0.0), (1039, 0.0), (1040, 0.0019808664673990114), (1041, 0.006711122649795383), (1042, 0.0021181778347175257), (1043, 0.03019341492590414), (1044, 0.006925941771792754), (1045, 0.01574002225933099), (1046, 0.028771864585929834), (1047, 0.01217801791383598), (1048, 0.009461601719983486), (1049, 0.0030073286045681187), (1050, 0.008188052484759224), (1051, 0.0), (1052, 0.019497578868985087), (1053, 0.011304684933479211), (1054, 0.01103699944625331), (1055, 0.0), (1056, 0.0), (1057, 0.023438323371200435), (1058, 0.014326445616965337), (1059, 0.026187328256908955), (1060, 0.02552477461641701), (1061, 0.010522732972754847), (1062, 0.0), (1063, 0.0323986861553641), (1064, 0.01723362178999547), (1065, 0.006534675969037722), (1066, 0.0), (1067, 0.0), (1068, 0.031080086209754422), (1069, 0.007349470531851641), (1070, 0.08104448918225104), (1071, 0.007629693880107408), (1072, 0.002511969113336023), (1073, 0.0), (1074, 0.018313355636506795), (1075, 0.009591487522932454), (1076, 0.00681994376727047), (1077, 0.009301797749861711), (1078, 0.008004074147420883), (1079, 0.0023322559654003526), (1080, 0.002283153078480931), (1081, 0.0), (1082, 0.004530923132656161), (1083, 0.007438831750066306), (1084, 0.0024851270070419744), (1085, 0.036238762035520095), (1086, 0.0), (1087, 0.009256627090253326), (1088, 0.0021680283963311565), (1089, 0.0), (1090, 0.011525766979697765), (1091, 0.0), (1092, 0.009742359298906328), (1093, 0.0), (1094, 0.006428490781993141), (1095, 0.027246132772978996), (1096, 0.008857925187504445), (1097, 0.0), (1098, 0.019880281477287143), (1099, 0.011857342491158735), (1100, 0.002494207439481666), (1101, 0.0), (1102, 0.050169770764635274), (1103, 0.0), (1104, 0.012302637341744901), (1105, 0.0), (1106, 0.0), (1107, 0.013234704742594434), (1108, 0.0), (1109, 0.0028122536400759317), (1110, 0.002492903556142449), (1111, 0.006712588014078975), (1112, 0.017814761595896293), (1113, 0.0), (1114, 0.014436591435942689), (1115, 0.015076849560100525), (1116, 0.014454249635706786), (1117, 0.002436394872188748), (1118, 0.05998954734066492), (1119, 0.015187159155518683), (1120, 0.003933222812334196), (1121, 0.0031774370506779245), (1122, 0.002582060742118795), (1123, 0.006794885124020776), (1124, 0.009439593845048236), (1125, 0.0067987645178981225), (1126, 0.0), (1127, 0.004540712375358485), (1128, 0.01336917289326851), (1129, 0.017757748873229732), (1130, 0.0), (1131, 0.0025446452170364256), (1132, 0.020242473075204694), (1133, 0.0), (1134, 0.061514483713532485), (1135, 0.0), (1136, 0.007982223371637606), (1137, 0.027530878040813944), (1138, 0.007232291199342739), (1139, 0.0), (1140, 0.0076552212321601525), (1141, 0.02222138809003532), (1142, 0.0), (1143, 0.0), (1144, 0.007259122310498271), (1145, 0.003507054526764835), (1146, 0.0319327099582965), (1147, 0.0), (1148, 0.050225426987489726), (1149, 0.0), (1150, 0.004975946962821241), (1151, 0.0), (1152, 0.014231082791516457), (1153, 0.003234628411690891), (1154, 0.004112052748094561), (1155, 0.0), (1156, 0.0), (1157, 0.01205422217234051), (1158, 0.005154276117296021), (1159, 0.0), (1160, 0.00912265594299187), (1161, 0.0022893898458985064), (1162, 0.027084968030862168), (1163, 0.002531711260276244), (1164, 0.0037512621307350565), (1165, 0.0), (1166, 0.0), (1167, 0.005054247756466491), (1168, 0.003045520163266067), (1169, 0.002968248475121234), (1170, 0.002539030797647179), (1171, 0.0), (1172, 0.006576811496944066), (1173, 0.03041346322798692), (1174, 0.007309009974723193), (1175, 0.018050829441643254), (1176, 0.0025888535739499907), (1177, 0.006734917127738773), (1178, 0.0), (1179, 0.007148580085663995), (1180, 0.0), (1181, 0.024908929074089373), (1182, 0.009289577849239707), (1183, 0.01320329015011182), (1184, 0.016227879133609922), (1185, 0.012314336497917706), (1186, 0.02322926487171158), (1187, 0.002979770691711472), (1188, 0.007504203984202115), (1189, 0.0), (1190, 0.0), (1191, 0.007177768471697234), (1192, 0.0143731268998252), (1193, 0.0), (1194, 0.011920690598639653), (1195, 0.031602888634754564), (1196, 0.0), (1197, 0.004241742454974192), (1198, 0.0), (1199, 0.002237279405744827), (1200, 0.0), (1201, 0.0), (1202, 0.019084727907330738), (1203, 0.043288373397248), (1204, 0.0025732065841903313), (1205, 0.0265728266997193), (1206, 0.008511491354821002), (1207, 0.004407380155076316), (1208, 0.0032334025418272053), (1209, 0.0021134636228278118), (1210, 0.0033546679070800916), (1211, 0.004371438026142519), (1212, 0.0), (1213, 0.006215002337363142), (1214, 0.005932567568348968), (1215, 0.011742448125855624), (1216, 0.016219260534941975), (1217, 0.0022018181096331805), (1218, 0.0), (1219, 0.0022752191158049344), (1220, 0.012381759539653548), (1221, 0.0), (1222, 0.0), (1223, 0.00717722505421251), (1224, 0.014848645936442459), (1225, 0.007542388898273973), (1226, 0.01807346085546737), (1227, 0.0), (1228, 0.0), (1229, 0.007464115927586654), (1230, 0.011218996224828769), (1231, 0.006779688354393065), (1232, 0.0143343580423758), (1233, 0.0), (1234, 0.010177649958305484), (1235, 0.0), (1236, 0.03334196963686732), (1237, 0.01291252967933191), (1238, 0.006524049508288306), (1239, 0.013018313167508915), (1240, 0.0), (1241, 0.03527069737667549), (1242, 0.0), (1243, 0.055201583000724905), (1244, 0.0), (1245, 0.017337805979707892), (1246, 0.0), (1247, 0.002449604610534502), (1248, 0.04316322790320628), (1249, 0.01138985485035662), (1250, 0.00669513606622662), (1251, 0.0022442547715836978), (1252, 0.014093237016036805), (1253, 0.0), (1254, 0.016063876077209337), (1255, 0.01303457708815551), (1256, 0.0), (1257, 0.044600867389806134), (1258, 0.0), (1259, 0.010683260447850175), (1260, 0.00789217518720284), (1261, 0.04457086922041749), (1262, 0.011152412806465568), (1263, 0.0), (1264, 0.011577457331668603), (1265, 0.0), (1266, 0.011408300040395454), (1267, 0.006350083320400629), (1268, 0.0), (1269, 0.0), (1270, 0.021212009876187387), (1271, 0.0), (1272, 0.034794423140693), (1273, 0.00241372964489964), (1274, 0.01759247947637768), (1275, 0.016413131014958164), (1276, 0.008718177494154981), (1277, 0.0018965691925550336), (1278, 0.014690118271765456), (1279, 0.009414733311017304), (1280, 0.004912549776270106), (1281, 0.004210757877745522), (1282, 0.0075637968823544744), (1283, 0.023375973429109326), (1284, 0.002468849236494781), (1285, 0.0), (1286, 0.0024863444285309457), (1287, 0.0), (1288, 0.0), (1289, 0.0), (1290, 0.014782895037111703), (1291, 0.0), (1292, 0.04367380160992527), (1293, 0.012627559394743812), (1294, 0.0026035681087027305), (1295, 0.0), (1296, 0.0), (1297, 0.0), (1298, 0.0025221305830124743), (1299, 0.0), (1300, 0.009883442651908877), (1301, 0.0022157326279519385), (1302, 0.044531189691413835), (1303, 0.011468723368048096), (1304, 0.0025370239986737347), (1305, 0.002096690938261902), (1306, 0.006637417522338034), (1307, 0.006181668255159589), (1308, 0.008353487600809643), (1309, 0.003948380480033667), (1310, 0.011857401788079418), (1311, 0.033946639952126795), (1312, 0.007683696684100865), (1313, 0.0024991701666688348), (1314, 0.026598285558358727), (1315, 0.0), (1316, 0.005910781285140438), (1317, 0.013109511838372386), (1318, 0.0022618699066821774), (1319, 0.0024882460941023266), (1320, 0.0397552488399696), (1321, 0.0), (1322, 0.0), (1323, 0.0), (1324, 0.0027053582349253753), (1325, 0.015417810296419086), (1326, 0.0), (1327, 0.006246469827302095), (1328, 0.0), (1329, 0.006482212817589641), (1330, 0.0069452371243001985), (1331, 0.014069567805799927), (1332, 0.005140102469137354), (1333, 0.0), (1334, 0.009866451708928598), (1335, 0.01436626555567386), (1336, 0.0), (1337, 0.014516320014404569), (1338, 0.009453093408532398), (1339, 0.010215964867203322), (1340, 0.0021538351318456717), (1341, 0.07732693809361939), (1342, 0.012818109313890118), (1343, 0.013894810017357654), (1344, 0.005721039864961348), (1345, 0.006554266558119461), (1346, 0.0), (1347, 0.004456071224498093), (1348, 0.010181205524417283), (1349, 0.0028576281102513806), (1350, 0.002470461927847056), (1351, 0.02487557568580203), (1352, 0.0021543285954857753), (1353, 0.0), (1354, 0.0), (1355, 0.0025971791308945567), (1356, 0.006051312806701818), (1357, 0.0023372106844995522), (1358, 0.041830566738206405), (1359, 0.009783798724744837), (1360, 0.012946114937554584), (1361, 0.015592555033603864), (1362, 0.02248646399149896), (1363, 0.028717455504198457), (1364, 0.0026334624526359895), (1365, 0.017784588946112633), (1366, 0.0022877468313852664), (1367, 0.033057346222861696), (1368, 0.0), (1369, 0.0402735566315348), (1370, 0.0021868135313336924), (1371, 0.007859168909794434), (1372, 0.002379092284915241), (1373, 0.0), (1374, 0.006573576658256203), (1375, 0.006795276578803917), (1376, 0.01247493078257638), (1377, 0.016773445546711195), (1378, 0.002534027305302708), (1379, 0.03405703604165396), (1380, 0.004865433624290716), (1381, 0.0052941344423078724), (1382, 0.009398048957401737), (1383, 0.08425242441722804), (1384, 0.017767725898371563), (1385, 0.020819608375770078), (1386, 0.018833157927183344), (1387, 0.008676472959391519), (1388, 0.007105864043348033), (1389, 0.034459120281340086), (1390, 0.0), (1391, 0.005146892045916608), (1392, 0.0022549171667648254), (1393, 0.04178915438612747), (1394, 0.0022470021552231235), (1395, 0.0037135203999899614), (1396, 0.011694125599156472), (1397, 0.021082777924745756), (1398, 0.028222452550706816), (1399, 0.0), (1400, 0.007536440370065783), (1401, 0.013872719544761243), (1402, 0.002659466738009274), (1403, 0.017089358343226595), (1404, 0.002397366483284294), (1405, 0.028769066044756327), (1406, 0.011423567351703278), (1407, 0.011883388438677927), (1408, 0.0024700615971213528), (1409, 0.0027132641602936663), (1410, 0.0025632853630778354), (1411, 0.0025061728502699713), (1412, 0.023629897886256662), (1413, 0.013922521675538473), (1414, 0.006378299226169407), (1415, 0.002077914644244706), (1416, 0.00242360821964544), (1417, 0.016231265772845838), (1418, 0.010098426231237304), (1419, 0.011702375166221541), (1420, 0.011136701240334803), (1421, 0.006892431195663455), (1422, 0.0024693633273359873), (1423, 0.002250838550875257), (1424, 0.0), (1425, 0.006682409645770869), (1426, 0.004887726304196334), (1427, 0.002079006180481084), (1428, 0.004373208871986034), (1429, 0.008595043377298776), (1430, 0.02653057804103265), (1431, 0.00472403828353127), (1432, 0.012175283212771792), (1433, 0.006651536462062501), (1434, 0.002315527367297578), (1435, 0.004716569576995678), (1436, 0.012367187829493916), (1437, 0.0), (1438, 0.009518400966834185), (1439, 0.0026554823490857376), (1440, 0.009759613744201244), (1441, 0.0), (1442, 0.009589027181594496), (1443, 0.01831419707001223), (1444, 0.0), (1445, 0.01603828875201241), (1446, 0.008725319988941806), (1447, 0.0), (1448, 0.006606255011892964), (1449, 0.004856782191775572), (1450, 0.0021855787670099175), (1451, 0.004333419161392224), (1452, 0.0048762971754376175), (1453, 0.0052852816318829585), (1454, 0.007852871846645279), (1455, 0.01167424438890572), (1456, 0.00235405416458593), (1457, 0.0), (1458, 0.003904651594659913), (1459, 0.0), (1460, 0.0), (1461, 0.013796549363393393), (1462, 0.006557735573350132), (1463, 0.002445280715608024), (1464, 0.03242600299745583), (1465, 0.013588900862715185), (1466, 0.0), (1467, 0.0), (1468, 0.0), (1469, 0.00477597706850557), (1470, 0.0), (1471, 0.020290800155578565), (1472, 0.007232693801577943), (1473, 0.0), (1474, 0.002828379070645111), (1475, 0.009491808199921728), (1476, 0.002569492630955095), (1477, 0.008398088250305705), (1478, 0.013621453691624496), (1479, 0.0027816518653624054), (1480, 0.004288052651907406), (1481, 0.01376749105730235), (1482, 0.028603312957890953), (1483, 0.014114297878227614), (1484, 0.007562813857263789), (1485, 0.0), (1486, 0.007234166049300603), (1487, 0.0), (1488, 0.007167547433373899), (1489, 0.008033719451971282), (1490, 0.0), (1491, 0.0), (1492, 0.021715580702974267), (1493, 0.01711361465972392), (1494, 0.009379897367766055), (1495, 0.0), (1496, 0.0), (1497, 0.00289446576555683), (1498, 0.00794853651915882), (1499, 0.03079566227930739), (1500, 0.027299433109301795), (1501, 0.0065605129488201285), (1502, 0.004871803904837502), (1503, 0.0022994734248893804), (1504, 0.007007295859807678), (1505, 0.02198237314728472), (1506, 0.04228253062122539), (1507, 0.008102011472032189), (1508, 0.0), (1509, 0.014205028339216105), (1510, 0.020480695787819872), (1511, 0.0), (1512, 0.015450085039927702), (1513, 0.010012053684440077), (1514, 0.008426393019628345), (1515, 0.02206174716627111), (1516, 0.0026119169121049373), (1517, 0.0), (1518, 0.00273147075556491), (1519, 0.012685818153036859), (1520, 0.0), (1521, 0.0), (1522, 0.0), (1523, 0.01582603029387077), (1524, 0.0), (1525, 0.0), (1526, 0.006277220093134098), (1527, 0.03945167296049171), (1528, 0.002303568038250878), (1529, 0.0), (1530, 0.024230448295384968), (1531, 0.004874482261891639), (1532, 0.0), (1533, 0.0025726575647058076), (1534, 0.0), (1535, 0.0), (1536, 0.007357200882370105), (1537, 0.007654552289488439), (1538, 0.00826452714849783), (1539, 0.008118828372420506), (1540, 0.008264873545767479), (1541, 0.0), (1542, 0.012101632206248939), (1543, 0.0023366207244844297), (1544, 0.02457419064673379), (1545, 0.0), (1546, 0.0039687964989061015), (1547, 0.0029538683671561376), (1548, 0.0), (1549, 0.0), (1550, 0.0025008431493619386), (1551, 0.010990327322037603), (1552, 0.006280457579137836), (1553, 0.008035712147274677), (1554, 0.005079354545010315), (1555, 0.006655728045330869), (1556, 0.0), (1557, 0.0), (1558, 0.0023575804558839345), (1559, 0.003992703732862146), (1560, 0.028142719658602235), (1561, 0.0), (1562, 0.0042731699418303995), (1563, 0.0), (1564, 0.0), (1565, 0.00216783239418901), (1566, 0.004617094549750662), (1567, 0.012359315313796793), (1568, 0.034072354414434715), (1569, 0.0), (1570, 0.0026672319410395466), (1571, 0.007527686704103849), (1572, 0.02474448545068361), (1573, 0.004544910721244759), (1574, 0.0025593435180176335), (1575, 0.0049396247556743895), (1576, 0.003695205136118929), (1577, 0.0), (1578, 0.0), (1579, 0.017412512530218242), (1580, 0.0027985796143798237), (1581, 0.0), (1582, 0.009227189264785263), (1583, 0.007196604196620226), (1584, 0.0), (1585, 0.022947751322156356), (1586, 0.0), (1587, 0.004696037086649696), (1588, 0.00482037197947883), (1589, 0.0), (1590, 0.004022298707395246), (1591, 0.013536957187268663), (1592, 0.0), (1593, 0.0030735361977677128), (1594, 0.002839568084275876), (1595, 0.012872864495596305), (1596, 0.0), (1597, 0.0024430773578123536), (1598, 0.0025035780137042654), (1599, 0.0), (1600, 0.0), (1601, 0.0), (1602, 0.0), (1603, 0.0), (1604, 0.0), (1605, 0.0022912512467324424), (1606, 0.0), (1607, 0.0), (1608, 0.00631080660484277), (1609, 0.01638052278217862), (1610, 0.0), (1611, 0.0), (1612, 0.009066688687457698), (1613, 0.0), (1614, 0.004935318091384702), (1615, 0.0), (1616, 0.0022287724411460988), (1617, 0.002475975690192023), (1618, 0.0), (1619, 0.009703084106321477), (1620, 0.008987057234226398), (1621, 0.014022952914941236), (1622, 0.004534966118457995), (1623, 0.004272007305661738), (1624, 0.0020638114682631757), (1625, 0.0022805657073798956), (1626, 0.0), (1627, 0.006111510124918706), (1628, 0.0023205936685129587), (1629, 0.02146398561720737), (1630, 0.011090579239151285), (1631, 0.004376975220158413), (1632, 0.004423258499538446), (1633, 0.004408178160738384), (1634, 0.027265975858920762), (1635, 0.004524414040068004), (1636, 0.0), (1637, 0.002720463657139302), (1638, 0.0), (1639, 0.0), (1640, 0.0), (1641, 0.002351853169564637), (1642, 0.002347271044462082), (1643, 0.00750602651388331), (1644, 0.006561402643121728), (1645, 0.0024501016352676042), (1646, 0.0), (1647, 0.09397055536069451), (1648, 0.029561843201275854), (1649, 0.0), (1650, 0.008442906417332424), (1651, 0.0), (1652, 0.038750693067247356), (1653, 0.006972042233695412), (1654, 0.012540361812405913), (1655, 0.011075509113125725), (1656, 0.0029077079992601354), (1657, 0.019728179313836143), (1658, 0.010080473671488104), (1659, 0.004917338400093203), (1660, 0.002649882201961702), (1661, 0.004967986400080027), (1662, 0.010422019588148998), (1663, 0.0023892673771611765), (1664, 0.006221292918029592), (1665, 0.01331864452408986), (1666, 0.0025010320929579662), (1667, 0.01310952332403104), (1668, 0.0), (1669, 0.0), (1670, 0.002669356145188007), (1671, 0.020621715808903356), (1672, 0.002321722396026475), (1673, 0.0), (1674, 0.007717885024911842), (1675, 0.040396587516422826), (1676, 0.036769000304041524), (1677, 0.001995311917545588), (1678, 0.020674657614782856), (1679, 0.0), (1680, 0.012918757443092243), (1681, 0.012832438035811505), (1682, 0.014708572688974), (1683, 0.0027139443671448764), (1684, 0.0057540024368174115), (1685, 0.009633240613946497), (1686, 0.0), (1687, 0.015081911122046706), (1688, 0.00928447679177188), (1689, 0.0), (1690, 0.008203297599856187), (1691, 0.002164018010334086), (1692, 0.006499365798951297), (1693, 0.0023812582628834804), (1694, 0.010377739186490313), (1695, 0.005316808464005939), (1696, 0.010965269002219375), (1697, 0.0), (1698, 0.0), (1699, 0.003991474843652324), (1700, 0.0), (1701, 0.008829989975010642), (1702, 0.03401178055455822), (1703, 0.002624080641588584), (1704, 0.0), (1705, 0.007576217404227395), (1706, 0.0025592802656095133), (1707, 0.021603149809261358), (1708, 0.009779232716182912), (1709, 0.0), (1710, 0.008624801578607972), (1711, 0.0031804287196656516), (1712, 0.009732335194850537), (1713, 0.0410564645314358), (1714, 0.012011453185764857), (1715, 0.005883156475360248), (1716, 0.01595280716099609), (1717, 0.002611987036217893), (1718, 0.006885352976791464), (1719, 0.0022888904388658864), (1720, 0.026475090126577602), (1721, 0.02553446122538159), (1722, 0.0025610950655021386), (1723, 0.010497387610157081), (1724, 0.004967362630089574), (1725, 0.0), (1726, 0.0), (1727, 0.009993058828174554), (1728, 0.0), (1729, 0.0), (1730, 0.008300929366563799), (1731, 0.0), (1732, 0.004930749603787047), (1733, 0.00278081968063316), (1734, 0.0), (1735, 0.007296268013052198), (1736, 0.010061615031127952), (1737, 0.007007001454081946), (1738, 0.006716538657576399), (1739, 0.012790065058483046), (1740, 0.014510564426729728), (1741, 0.015474293874286438), (1742, 0.002398036686183952), (1743, 0.007750090589066047), (1744, 0.0024194666478152232), (1745, 0.0), (1746, 0.006130600381762397), (1747, 0.007085757718312184), (1748, 0.0029693466541139885), (1749, 0.02481438766283645), (1750, 0.030273505619146525), (1751, 0.0), (1752, 0.03333938657742234), (1753, 0.003965524253339128), (1754, 0.010587649198346935), (1755, 0.0), (1756, 0.0), (1757, 0.021518240078453515), (1758, 0.0), (1759, 0.016900019192624616), (1760, 0.006610240515573116), (1761, 0.011427305445703436), (1762, 0.00812260055785847), (1763, 0.02493463600599954), (1764, 0.007892329915581538), (1765, 0.0026230801215001583), (1766, 0.0), (1767, 0.0), (1768, 0.0026075507565416424), (1769, 0.0), (1770, 0.032782547520737795), (1771, 0.0), (1772, 0.004003333399430371), (1773, 0.010955897824683977), (1774, 0.015876691830685904), (1775, 0.0), (1776, 0.008464441636809431), (1777, 0.0), (1778, 0.0), (1779, 0.014605505493867627), (1780, 0.0016544448680672222), (1781, 0.00994528192793031), (1782, 0.002319619744996233), (1783, 0.0), (1784, 0.004189175005907084), (1785, 0.0), (1786, 0.0), (1787, 0.012443118349372891), (1788, 0.029045998553708447), (1789, 0.010793270926753161), (1790, 0.007830652807786432), (1791, 0.004911393510206821), (1792, 0.002980454256720252), (1793, 0.008533810434469269), (1794, 0.0), (1795, 0.029589075994988966), (1796, 0.01297865306000005), (1797, 0.006202669692847393), (1798, 0.009774556470432894), (1799, 0.012247251568054002), (1800, 0.0), (1801, 0.0021299122361676443), (1802, 0.013074188414515003), (1803, 0.0), (1804, 0.0), (1805, 0.0027632161822077734), (1806, 0.007724060987961749), (1807, 0.00893090097739414), (1808, 0.0022745282789540036), (1809, 0.049588147032597396), (1810, 0.0), (1811, 0.007092076580957012), (1812, 0.011945304239266107), (1813, 0.0024622434788397667), (1814, 0.0023351957135587156), (1815, 0.013530410151107166), (1816, 0.006377671673092274), (1817, 0.020764535380750283), (1818, 0.006224779631552358), (1819, 0.006660823685789857), (1820, 0.0), (1821, 0.043610288303782635), (1822, 0.0026772468878810953), (1823, 0.0), (1824, 0.0), (1825, 0.0), (1826, 0.0022933726714825576), (1827, 0.002293422535226092), (1828, 0.002188375397088414), (1829, 0.005021692709172186), (1830, 0.002247218249834535), (1831, 0.002507649517352609), (1832, 0.01193753541033045), (1833, 0.00779650951695839), (1834, 0.0), (1835, 0.0), (1836, 0.0), (1837, 0.032402583006931975), (1838, 0.01993993693503512), (1839, 0.0), (1840, 0.004197512097260954), (1841, 0.006832081872064488), (1842, 0.0), (1843, 0.017777435408004364), (1844, 0.0), (1845, 0.027266134513996322), (1846, 0.004494151496336111), (1847, 0.026430755901808753), (1848, 0.0027301751429851437), (1849, 0.006466697460137599), (1850, 0.041465070777208894), (1851, 0.0026403793617911795), (1852, 0.011027128083942173), (1853, 0.01505657749135978), (1854, 0.009176487834003657), (1855, 0.0), (1856, 0.0), (1857, 0.004541703501595062), (1858, 0.010754515078436715), (1859, 0.004864612361744438), (1860, 0.00936372403435563), (1861, 0.021326685199860584), (1862, 0.002840419532515051), (1863, 0.005673121301952916), (1864, 0.013194620422679212), (1865, 0.023291389344977702), (1866, 0.0078067814699025306), (1867, 0.006487323100488624), (1868, 0.030647250708224407), (1869, 0.0022962581361569965), (1870, 0.011742165690093415), (1871, 0.04119734499545335), (1872, 0.01809054728158338), (1873, 0.011193286227882262), (1874, 0.010386980241245819), (1875, 0.00836111919987956), (1876, 0.013797207843950315), (1877, 0.0024201305065912836), (1878, 0.04805379516641419), (1879, 0.0), (1880, 0.014966021703830558), (1881, 0.0048253228826983605), (1882, 0.0024849159474963373), (1883, 0.0), (1884, 0.0023704895535816193), (1885, 0.030997524607939607), (1886, 0.06267985852941996), (1887, 0.0028740961062598642), (1888, 0.0), (1889, 0.0), (1890, 0.002814173123132308), (1891, 0.0025141756377858905), (1892, 0.006492138216479107), (1893, 0.002674980291477653), (1894, 0.0), (1895, 0.014460083088388847), (1896, 0.0026905206917478513), (1897, 0.014874092588962712), (1898, 0.0), (1899, 0.0), (1900, 0.008883222611181612), (1901, 0.004728085067675582), (1902, 0.007514941436228623), (1903, 0.006144808322546007), (1904, 0.004878866675051578), (1905, 0.002765022738371266), (1906, 0.015402172315287377), (1907, 0.0027299453987985325), (1908, 0.006603738458379502), (1909, 0.0028786576539522103), (1910, 0.003897392208484155), (1911, 0.006821537542968091), (1912, 0.0), (1913, 0.006482404659195531), (1914, 0.004335771727140863), (1915, 0.0), (1916, 0.0026726151622681778), (1917, 0.0), (1918, 0.007551945563332286), (1919, 0.014720185971196651), (1920, 0.008418614385203606), (1921, 0.0022665867771187306), (1922, 0.009702305857966465), (1923, 0.010674188244428694), (1924, 0.0081679744709723), (1925, 0.00402731300929992), (1926, 0.0), (1927, 0.01966694538109333), (1928, 0.0), (1929, 0.002417798731242781), (1930, 0.004663673342829262), (1931, 0.007304840964451408), (1932, 0.0), (1933, 0.004496946860875292), (1934, 0.012249159605660148), (1935, 0.022777338759990613), (1936, 0.009305710762007566), (1937, 0.01843060245413057), (1938, 0.0), (1939, 0.0061224967707232455), (1940, 0.005391940370749307), (1941, 0.005521670047666051), (1942, 0.02115515210916598), (1943, 0.0022075058990114124), (1944, 0.0), (1945, 0.013747456665658204), (1946, 0.0026061546823441585), (1947, 0.0029441683458714544), (1948, 0.009002170934876054), (1949, 0.012117653116043523), (1950, 0.00743712253409768), (1951, 0.009660200117561586), (1952, 0.004967831528029213), (1953, 0.004482532871190865), (1954, 0.0022466176603640644), (1955, 0.0), (1956, 0.0), (1957, 0.011037137447284982), (1958, 0.011930646176003007), (1959, 0.0027434360138272667), (1960, 0.007915944589589309), (1961, 0.0), (1962, 0.005139410447659316), (1963, 0.0), (1964, 0.006462905219506746), (1965, 0.0), (1966, 0.0), (1967, 0.013818817488233139), (1968, 0.008396226262273387), (1969, 0.0024475444749093773), (1970, 0.052993906780234724), (1971, 0.008146467998911179), (1972, 0.0), (1973, 0.0291565741326436), (1974, 0.0), (1975, 0.004859271928670792), (1976, 0.02955519389532465), (1977, 0.075103091680815), (1978, 0.0), (1979, 0.0), (1980, 0.00227477464899649), (1981, 0.005908455371472134), (1982, 0.07246569778553744), (1983, 0.014814705291966627), (1984, 0.0), (1985, 0.021011193896198634), (1986, 0.013493449677128452), (1987, 0.006494419384748071), (1988, 0.01244972542589305), (1989, 0.01142503399138228), (1990, 0.028420140928695107), (1991, 0.03537660428888712), (1992, 0.010919745889197363), (1993, 0.004404753943201428), (1994, 0.08287835345252217), (1995, 0.002727110649679419), (1996, 0.022232185991421106), (1997, 0.023141379590983783), (1998, 0.0046690561382591615), (1999, 0.024674542916240664), (2000, 0.012490298103748573), (2001, 0.0), (2002, 0.0), (2003, 0.0), (2004, 0.0023836845211184176), (2005, 0.011813232567949578), (2006, 0.0), (2007, 0.0), (2008, 0.013341066428520627), (2009, 0.0), (2010, 0.0020028590070789534), (2011, 0.025123628978433867), (2012, 0.0429385319377704), (2013, 0.026313185451029335), (2014, 0.030095920732595115), (2015, 0.0048172747860744415), (2016, 0.00997767205193752), (2017, 0.0), (2018, 0.035633830953527644), (2019, 0.0), (2020, 0.024235620690403418), (2021, 0.0), (2022, 0.005209538508579562), (2023, 0.030168509278277092), (2024, 0.013621436615674162), (2025, 0.0), (2026, 0.052642687507598235), (2027, 0.015119115703942202), (2028, 0.0), (2029, 0.009383399674635615), (2030, 0.0), (2031, 0.006451642626205173), (2032, 0.0), (2033, 0.0), (2034, 0.002089491496826586), (2035, 0.01784169487590637), (2036, 0.0), (2037, 0.0298193260783485), (2038, 0.0), (2039, 0.0021333513682361698), (2040, 0.02297186833581926), (2041, 0.0), (2042, 0.0), (2043, 0.0), (2044, 0.004900368156440431), (2045, 0.01394172146967018), (2046, 0.0), (2047, 0.002241134126322357), (2048, 0.025093016553148457), (2049, 0.010037773592981787), (2050, 0.0), (2051, 0.010344755637093044), (2052, 0.012252144053320252), (2053, 0.01468579094084932), (2054, 0.0), (2055, 0.020617915628473395), (2056, 0.006329973382063178), (2057, 0.011335341988602587), (2058, 0.005927826803031613), (2059, 0.0), (2060, 0.0025104283919120114), (2061, 0.007241444441148377), (2062, 0.010827602309256914), (2063, 0.0), (2064, 0.004838341134476462), (2065, 0.008634933847474486), (2066, 0.013148930864670519), (2067, 0.002551429514355935), (2068, 0.0024099656054347007), (2069, 0.007024574301463462), (2070, 0.01778560253767322), (2071, 0.0), (2072, 0.0026280155284696), (2073, 0.002584790940607842), (2074, 0.00987182120936709), (2075, 0.00936808369325075), (2076, 0.008106110318529727), (2077, 0.008628455950862963), (2078, 0.003669061202462884), (2079, 0.0), (2080, 0.009286183430238319), (2081, 0.0), (2082, 0.03137256966163153), (2083, 0.0026541513520933206), (2084, 0.00497883099639507), (2085, 0.0), (2086, 0.0), (2087, 0.008905340302630581), (2088, 0.007490653097136642), (2089, 0.00840106321112749), (2090, 0.0), (2091, 0.00724908335407164), (2092, 0.0), (2093, 0.017353497854371687), (2094, 0.025107481873376494), (2095, 0.006343994595084171), (2096, 0.022163124512581702), (2097, 0.010458940250715922), (2098, 0.005618888882314848), (2099, 0.0023705148642880736), (2100, 0.03146664009844136), (2101, 0.007188361400101868), (2102, 0.028465544090018308), (2103, 0.0088657928079433), (2104, 0.007635517868026243), (2105, 0.002700658222522971), (2106, 0.0), (2107, 0.0), (2108, 0.0028149681631918447), (2109, 0.03435264766714196), (2110, 0.01675128583620694), (2111, 0.002484294204794003), (2112, 0.062184351412217655), (2113, 0.005140329245801169), (2114, 0.02951345465301962), (2115, 0.0), (2116, 0.009826879593775987), (2117, 0.0024327389263131276), (2118, 0.0), (2119, 0.016936626721809577), (2120, 0.0), (2121, 0.01306012847212727), (2122, 0.0331079795898047), (2123, 0.03394554340436231), (2124, 0.0), (2125, 0.0), (2126, 0.009911946717288973), (2127, 0.0021291085789020402), (2128, 0.0), (2129, 0.002350041367477207), (2130, 0.0046634287525844035), (2131, 0.002436356653510952), (2132, 0.002118807318914566), (2133, 0.048958336941006056), (2134, 0.00283682288295139), (2135, 0.0), (2136, 0.004999931651805337), (2137, 0.003594592562013581), (2138, 0.0), (2139, 0.004329829930682734), (2140, 0.0), (2141, 0.00242412156867798), (2142, 0.0029579118169215744), (2143, 0.00870524190616186), (2144, 0.009184136725802355), (2145, 0.011667846006835809), (2146, 0.0021674057808973805), (2147, 0.03211836769637074), (2148, 0.0026287367207624723), (2149, 0.016711990529519688), (2150, 0.0), (2151, 0.04489615902161054), (2152, 0.0), (2153, 0.0), (2154, 0.026634248456284988), (2155, 0.04005254584556309), (2156, 0.005849206467237163), (2157, 0.022245163748780373), (2158, 0.008249182115915606), (2159, 0.002796642519650156), (2160, 0.006181185621205108), (2161, 0.016494606341200452), (2162, 0.010321303045312513), (2163, 0.002262996563982751), (2164, 0.0), (2165, 0.0), (2166, 0.0023885315719300087), (2167, 0.017800731948519916), (2168, 0.0), (2169, 0.0025525752827928266), (2170, 0.0), (2171, 0.0), (2172, 0.0), (2173, 0.024007109121078535), (2174, 0.02061080199928024), (2175, 0.00606579020923286), (2176, 0.0027997386524467593), (2177, 0.013196531145282499), (2178, 0.01136910223550675), (2179, 0.0), (2180, 0.0), (2181, 0.005236538353974074), (2182, 0.0), (2183, 0.0), (2184, 0.0066460697561804795), (2185, 0.005884693609598021), (2186, 0.0), (2187, 0.03763919382653322), (2188, 0.00872547504917266), (2189, 0.003560127381617647), (2190, 0.0027337675859246575), (2191, 0.050557727650637894), (2192, 0.0025540715080322423), (2193, 0.009187834696774064), (2194, 0.0), (2195, 0.002529494013120003), (2196, 0.015042495092810679), (2197, 0.009457720469104737), (2198, 0.02846656289850006), (2199, 0.0033013961329832323), (2200, 0.0), (2201, 0.0023592728404303784), (2202, 0.006188384803965122), (2203, 0.006010749392625516), (2204, 0.0), (2205, 0.00614870893928966), (2206, 0.011172300569001002), (2207, 0.01695941166229125), (2208, 0.004889632665132254), (2209, 0.010136547687141513), (2210, 0.02165600559210605), (2211, 0.007629219619822575), (2212, 0.036114079291876294), (2213, 0.0022616680757847948), (2214, 0.048366492959864386), (2215, 0.0), (2216, 0.013940899929706329), (2217, 0.0), (2218, 0.0), (2219, 0.0), (2220, 0.0), (2221, 0.028430482696010385), (2222, 0.0), (2223, 0.0028836577395574144), (2224, 0.013497855033642384), (2225, 0.0), (2226, 0.002479938581585672), (2227, 0.0), (2228, 0.009156965667265399), (2229, 0.015545140188962477), (2230, 0.0026046209600846023), (2231, 0.005098098907837019), (2232, 0.00450713427041366), (2233, 0.0), (2234, 0.0), (2235, 0.012010628945253022), (2236, 0.00826215385515374), (2237, 0.01848046943203094), (2238, 0.0), (2239, 0.0064075663286851355), (2240, 0.0022256256462686408), (2241, 0.0), (2242, 0.0024106327127107353), (2243, 0.0), (2244, 0.0072244784632813485), (2245, 0.0044559238644446015), (2246, 0.004604721551112667), (2247, 0.0), (2248, 0.041449056229883215), (2249, 0.0), (2250, 0.009590492035507887), (2251, 0.003528765524922965), (2252, 0.012593659017289198), (2253, 0.0), (2254, 0.015264388099765314), (2255, 0.009224149251331642), (2256, 0.0), (2257, 0.0032652889417637654), (2258, 0.016645098924895154), (2259, 0.0), (2260, 0.002713062173204411), (2261, 0.0), (2262, 0.0), (2263, 0.0), (2264, 0.00853872494735178), (2265, 0.008265713268684288), (2266, 0.003122849247270207), (2267, 0.0), (2268, 0.002449391524423003), (2269, 0.0029435278244624215), (2270, 0.00219130592332667), (2271, 0.0), (2272, 0.0), (2273, 0.005445167150185858), (2274, 0.0), (2275, 0.015828663325572444), (2276, 0.026021038232895314), (2277, 0.009229634965057291), (2278, 0.004680281026963686), (2279, 0.009364676134641814), (2280, 0.011578581065887973), (2281, 0.0), (2282, 0.0), (2283, 0.0049163749376265956), (2284, 0.014301377390974097), (2285, 0.008192880614420483), (2286, 0.003241134432765469), (2287, 0.002115909997010881), (2288, 0.002682616857696323), (2289, 0.002518618771412099), (2290, 0.015664174994228695), (2291, 0.005627749684426435), (2292, 0.002583082507131753), (2293, 0.0027644911596349923), (2294, 0.04801663260090347), (2295, 0.03982190635490875), (2296, 0.0), (2297, 0.0), (2298, 0.015147423678755942), (2299, 0.0040556277552143884), (2300, 0.0), (2301, 0.02034639105331546), (2302, 0.0028806560860410685), (2303, 0.008587247057459332), (2304, 0.007905045081506133), (2305, 0.0), (2306, 0.01151959756185731), (2307, 0.0), (2308, 0.037868709144322124), (2309, 0.008697601314227643), (2310, 0.003390940742016135), (2311, 0.0), (2312, 0.0), (2313, 0.002574911454680032), (2314, 0.005075043982713094), (2315, 0.0), (2316, 0.036050013277123524), (2317, 0.002346650633681952), (2318, 0.05698746413620389), (2319, 0.0026346960439084625), (2320, 0.002948368317866605), (2321, 0.04096332211047458), (2322, 0.0), (2323, 0.002288710033556969), (2324, 0.00654452166028318), (2325, 0.0), (2326, 0.003622571305140312), (2327, 0.0), (2328, 0.005662324030417309), (2329, 0.0), (2330, 0.004877726866423948), (2331, 0.0), (2332, 0.0), (2333, 0.0), (2334, 0.01464101872741367), (2335, 0.006626868445508636), (2336, 0.011622841866254629), (2337, 0.0), (2338, 0.0022913946207671343), (2339, 0.007460704288731217), (2340, 0.0025424641138803356), (2341, 0.0), (2342, 0.0), (2343, 0.027601570450441183), (2344, 0.007164432520815708), (2345, 0.0), (2346, 0.010927891419824691), (2347, 0.016442297909857247), (2348, 0.00673431186581514), (2349, 0.0035115697404267793), (2350, 0.0032589804707992606), (2351, 0.0), (2352, 0.0), (2353, 0.015804215693918208), (2354, 0.002538709830463113), (2355, 0.005960565575827434), (2356, 0.0028351679094693293), (2357, 0.0), (2358, 0.05826769637272556), (2359, 0.002116836884908641), (2360, 0.0), (2361, 0.002690128238753355), (2362, 0.019305653311181035), (2363, 0.008743311125802653), (2364, 0.0), (2365, 0.03251802786423902), (2366, 0.013612976268805012), (2367, 0.002427701738116989), (2368, 0.018295323351875652), (2369, 0.0), (2370, 0.002642265734795532), (2371, 0.03544860769227723), (2372, 0.0), (2373, 0.0), (2374, 0.04735148075296253), (2375, 0.036029161296792664), (2376, 0.0153817068352748), (2377, 0.0), (2378, 0.0029847024667109395), (2379, 0.0036601865946633357), (2380, 0.0), (2381, 0.0), (2382, 0.002172550292225871), (2383, 0.01299631104498859), (2384, 0.0), (2385, 0.00267123620628355), (2386, 0.0025929474899069405), (2387, 0.0025306660961036333), (2388, 0.0062273930887486294), (2389, 0.0), (2390, 0.0027802930826692804), (2391, 0.00270877751637532), (2392, 0.003311442215763538), (2393, 0.0027065538121768627), (2394, 0.02568905521652686), (2395, 0.0), (2396, 0.0025592317330554275), (2397, 0.0025793747195195214), (2398, 0.0), (2399, 0.0023410933373043154), (2400, 0.002868555501625777), (2401, 0.0024648293362693734), (2402, 0.0022968220881025465), (2403, 0.01049403201446366), (2404, 0.003449565039590501), (2405, 0.0026377860013835817), (2406, 0.01670855612785973), (2407, 0.003505785923314624), (2408, 0.024729842506338005), (2409, 0.0), (2410, 0.0027822668653526743), (2411, 0.0028718128480025207), (2412, 0.012351300951143734), (2413, 0.029928886003016547), (2414, 0.0), (2415, 0.003077478211326259), (2416, 0.0024995988683299913), (2417, 0.04897528956183359), (2418, 0.009651250070554156), (2419, 0.002664517725272707), (2420, 0.0), (2421, 0.011393352490635826), (2422, 0.0024618756983895), (2423, 0.0031962161377439434), (2424, 0.006412851568886811), (2425, 0.0032869830902377425), (2426, 0.005920751565415965), (2427, 0.008304726949703233), (2428, 0.007890164359013142), (2429, 0.01083487917790696), (2430, 0.0025731521208091812), (2431, 0.0), (2432, 0.004446831956179276), (2433, 0.0), (2434, 0.003031957879212554), (2435, 0.0), (2436, 0.010176366667920104), (2437, 0.002878688806085793), (2438, 0.003141434949500873), (2439, 0.0053930980079915005), (2440, 0.020740361118753315), (2441, 0.002053736643431966), (2442, 0.004290553298955561), (2443, 0.029803434615890054), (2444, 0.007216822945365926), (2445, 0.0), (2446, 0.0023555939250982988), (2447, 0.012200094819470354), (2448, 0.0033121806284444346), (2449, 0.02198506693238848), (2450, 0.0), (2451, 0.0), (2452, 0.0), (2453, 0.002330973019391162), (2454, 0.0030625130786813572), (2455, 0.0), (2456, 0.0), (2457, 0.002281400117753307), (2458, 0.0), (2459, 0.008702196222149598), (2460, 0.013377406312830296), (2461, 0.0024590433491334038), (2462, 0.0), (2463, 0.008949838225737732), (2464, 0.010540963361888974), (2465, 0.0), (2466, 0.0026046209947012903), (2467, 0.025524012657920793), (2468, 0.013656866052808383), (2469, 0.019146859249126916), (2470, 0.0), (2471, 0.0), (2472, 0.0), (2473, 0.008671326295738156), (2474, 0.012025234810505206), (2475, 0.002727438673721665), (2476, 0.032443470505434197), (2477, 0.007724564644052245), (2478, 0.0029114611772438712), (2479, 0.0), (2480, 0.011086109421716207), (2481, 0.02847926123774088), (2482, 0.0023377306593093767), (2483, 0.0), (2484, 0.023915177057249912), (2485, 0.0), (2486, 0.013345114807622599), (2487, 0.0281679357752627), (2488, 0.003099492441122694), (2489, 0.009794792049552446), (2490, 0.0036554338412872044), (2491, 0.0), (2492, 0.002552054444300246), (2493, 0.0), (2494, 0.00981647337327978), (2495, 0.002535957077383429), (2496, 0.006686100058633568), (2497, 0.0), (2498, 0.0), (2499, 0.0), (2500, 0.0), (2501, 0.02005950509476196), (2502, 0.00223764903510972), (2503, 0.006513803988319439), (2504, 0.0), (2505, 0.010111741990795406), (2506, 0.0046283701448103926), (2507, 0.0027550508572586328), (2508, 0.0), (2509, 0.0020841748846264375), (2510, 0.0075299727156301986), (2511, 0.0), (2512, 0.00954227147027257), (2513, 0.01827689787151043), (2514, 0.0), (2515, 0.0), (2516, 0.0), (2517, 0.031513234738017475), (2518, 0.0), (2519, 0.007297888997678443), (2520, 0.0021985696707984242), (2521, 0.0), (2522, 0.015160218557647749), (2523, 0.0), (2524, 0.020004759477924065), (2525, 0.0023881792409710723), (2526, 0.002075083200627539), (2527, 0.0021813091911791218), (2528, 0.0023552329351234197), (2529, 0.003681546872924424), (2530, 0.044815101460282086), (2531, 0.002643156888826267), (2532, 0.0), (2533, 0.002550824512247658), (2534, 0.0011313649045941105), (2535, 0.0028109713012137647), (2536, 0.0), (2537, 0.003479145804022971), (2538, 0.06802035746289194), (2539, 0.0), (2540, 0.037262447116274064), (2541, 0.0039149352811333835), (2542, 0.0), (2543, 0.0), (2544, 0.0029509775538051728), (2545, 0.00948600870856867), (2546, 0.010005453203518998), (2547, 0.0), (2548, 0.0), (2549, 0.0), (2550, 0.04836540834452216), (2551, 0.0), (2552, 0.0023711683412701526), (2553, 0.01743749009788074), (2554, 0.002558519538702846), (2555, 0.011014281773315506), (2556, 0.0023516975035823683), (2557, 0.003145443106586994), (2558, 0.08267633224298852), (2559, 0.0033339816446641937), (2560, 0.02417174190316552), (2561, 0.00264593995292727), (2562, 0.0), (2563, 0.007530270288055351), (2564, 0.0), (2565, 0.009658658478430893), (2566, 0.0), (2567, 0.005474566349004074), (2568, 0.011135731584107677), (2569, 0.0025060501697395116), (2570, 0.0029850065270741774), (2571, 0.0024503212988856386), (2572, 0.008624926760274994), (2573, 0.003781641240302068), (2574, 0.0), (2575, 0.0), (2576, 0.0052191298618978746), (2577, 0.0), (2578, 0.0), (2579, 0.04816796125212759), (2580, 0.006384813030862253), (2581, 0.008841135380210335), (2582, 0.02010413858802928), (2583, 0.0), (2584, 0.0), (2585, 0.0028233189149995163), (2586, 0.0), (2587, 0.008080038098663712), (2588, 0.0), (2589, 0.0), (2590, 0.0), (2591, 0.002275344532719518), (2592, 0.002807715950437281), (2593, 0.002339930796183013), (2594, 0.0), (2595, 0.0027508174308408457), (2596, 0.0), (2597, 0.0), (2598, 0.021287142760911603), (2599, 0.004986212320267051), (2600, 0.008926105435859566), (2601, 0.009495593230104767), (2602, 0.011802879057726746), (2603, 0.007647101042214019), (2604, 0.0), (2605, 0.0), (2606, 0.007198949096365795), (2607, 0.018638119416954754), (2608, 0.0), (2609, 0.002705146017436059), (2610, 0.0026802854429516187), (2611, 0.002175815881279172), (2612, 0.0024494145037263775), (2613, 0.0029878336157534648), (2614, 0.02922582052124495), (2615, 0.0), (2616, 0.0), (2617, 0.012541240022816237), (2618, 0.01901317620959763), (2619, 0.003054195039715814), (2620, 0.0), (2621, 0.03144544408026539), (2622, 0.03748821698202329), (2623, 0.002871145222542298), (2624, 0.0027751302727880463), (2625, 0.011042436956048847), (2626, 0.005063211642864689), (2627, 0.0), (2628, 0.0033200750239033737), (2629, 0.002878982788947104), (2630, 0.0489853482727464), (2631, 0.0), (2632, 0.013395941670378388), (2633, 0.009558772985519756), (2634, 0.0023697651035010894), (2635, 0.008290017471095085), (2636, 0.001904071921963219), (2637, 0.0), (2638, 0.023625589296039667), (2639, 0.015060665745970911), (2640, 0.0095266684889209), (2641, 0.0), (2642, 0.0024435014093075946), (2643, 0.0032800529079018326), (2644, 0.014605903574472976), (2645, 0.01830642082683205), (2646, 0.02135813581846076), (2647, 0.022788303108140062), (2648, 0.0), (2649, 0.023570058967688802), (2650, 0.018583354119550942), (2651, 0.002399527090955675), (2652, 0.002563989720311715), (2653, 0.046973519282404216), (2654, 0.01688244803967212), (2655, 0.00947478163486461), (2656, 0.0), (2657, 0.0), (2658, 0.0), (2659, 0.0), (2660, 0.004289301064415876), (2661, 0.0027225967815229855), (2662, 0.0), (2663, 0.0), (2664, 0.002703826942826442), (2665, 0.005408896703823957), (2666, 0.0), (2667, 0.0), (2668, 0.02139492682328308), (2669, 0.0), (2670, 0.0), (2671, 0.0), (2672, 0.0), (2673, 0.0033738107663759957), (2674, 0.002334618638576613), (2675, 0.0), (2676, 0.0), (2677, 0.0), (2678, 0.004130445306673907), (2679, 0.002399906962190324), (2680, 0.01071879880329518), (2681, 0.0), (2682, 0.0043042439885145395), (2683, 0.0051675037568785385), (2684, 0.0), (2685, 0.0), (2686, 0.0), (2687, 0.02602772503646943), (2688, 0.011271200116927367), (2689, 0.0245274971652926), (2690, 0.0), (2691, 0.0068340990537908534), (2692, 1.0000000000000002), (2693, 0.0), (2694, 0.04368554902472679), (2695, 0.014242176019135196), (2696, 0.002948211964248345), (2697, 0.011645129052455466), (2698, 0.008871041588029819), (2699, 0.023299191407595378), (2700, 0.005182671029789314), (2701, 0.0), (2702, 0.002898675239881087), (2703, 0.0), (2704, 0.0), (2705, 0.0027461280207631174), (2706, 0.02942274428884559), (2707, 0.002976609481874568), (2708, 0.006695604248962897), (2709, 0.0), (2710, 0.029887305918237964), (2711, 0.004389725240886558), (2712, 0.01674671125138117), (2713, 0.023432161916103623), (2714, 0.007566646462252821), (2715, 0.0), (2716, 0.03603309472599683), (2717, 0.0), (2718, 0.023196744594786774), (2719, 0.0), (2720, 0.002972463807842025), (2721, 0.0022037253425713542), (2722, 0.0035603643441040962), (2723, 0.028372600396951678), (2724, 0.00635309231256632), (2725, 0.002712359055125161), (2726, 0.006782846187248174), (2727, 0.014058481372388212), (2728, 0.0023085003156347404), (2729, 0.0), (2730, 0.0), (2731, 0.0034043390625112645), (2732, 0.006699254917744875), (2733, 0.005124706672572312), (2734, 0.0), (2735, 0.0023416543354241154), (2736, 0.019008870345464543), (2737, 0.0), (2738, 0.0029929611182556606), (2739, 0.010547486722511865), (2740, 0.01025165340770671), (2741, 0.002283548881816105), (2742, 0.016951046211206904), (2743, 0.0021744283783759373), (2744, 0.009436372522052039), (2745, 0.04326153862816203), (2746, 0.0025787071567579885), (2747, 0.0021975775185931763), (2748, 0.0027578844179992276), (2749, 0.0), (2750, 0.0), (2751, 0.031869762413311895), (2752, 0.009192679728709074), (2753, 0.0022342808694140515), (2754, 0.0), (2755, 0.0026817901026760537), (2756, 0.0), (2757, 0.003881814956378416), (2758, 0.002153957079075249), (2759, 0.010896125543937797), (2760, 0.018712458702392777), (2761, 0.02505678587787833), (2762, 0.025980223803704145), (2763, 0.0), (2764, 0.003613273940570898), (2765, 0.002410741070728475), (2766, 0.0020124065471371724), (2767, 0.019020439331965705), (2768, 0.020220195133117708), (2769, 0.01074689549252221), (2770, 0.0), (2771, 0.012070015475522526), (2772, 0.0030042986176780227), (2773, 0.0), (2774, 0.005249022144044436), (2775, 0.0034430225690450424), (2776, 0.0027315257028121924), (2777, 0.02151782398151878), (2778, 0.008645079505384538), (2779, 0.0024210805376161204), (2780, 0.012102460227641366), (2781, 0.0), (2782, 0.029448976097656183), (2783, 0.0025523400942677943), (2784, 0.014539202721422928), (2785, 0.0), (2786, 0.002715966686361918), (2787, 0.004386794249015825), (2788, 0.011899567306988528), (2789, 0.009294840803167722), (2790, 0.004850603519905102), (2791, 0.027708494673946583), (2792, 0.0026869471767721692), (2793, 0.0), (2794, 0.0), (2795, 0.01796385479440139), (2796, 0.002902421975777824), (2797, 0.0031042583747342275), (2798, 0.009245855325792272), (2799, 0.0), (2800, 0.002396136918108817), (2801, 0.003957482166523576), (2802, 0.026900140164280786), (2803, 0.012484307978364386), (2804, 0.0), (2805, 0.013422971549413958), (2806, 0.0), (2807, 0.030117994968785394), (2808, 0.020148475915238922), (2809, 0.005339089482851618), (2810, 0.0), (2811, 0.0), (2812, 0.008580753148387781), (2813, 0.0), (2814, 0.0), (2815, 0.014233614635509397), (2816, 0.006796760437225054), (2817, 0.0), (2818, 0.0), (2819, 0.0048871524931050625), (2820, 0.009780711952702378), (2821, 0.002692429842320299), (2822, 0.021553262968398205), (2823, 0.017538691962827594), (2824, 0.0), (2825, 0.006989309136223861), (2826, 0.002549723716021327), (2827, 0.0), (2828, 0.0), (2829, 0.0), (2830, 0.0028226149209496683), (2831, 0.00911547050081377), (2832, 0.003328358371392943), (2833, 0.006306426535276039), (2834, 0.00314646446990567), (2835, 0.0), (2836, 0.0), (2837, 0.0), (2838, 0.003241181830687934), (2839, 0.0), (2840, 0.007974038146102614), (2841, 0.019694680960737995), (2842, 0.0), (2843, 0.0072944549909146235), (2844, 0.007519917586582682), (2845, 0.0023343307734320145), (2846, 0.04034937166874806), (2847, 0.004554869102789387), (2848, 0.0030957310537843004), (2849, 0.010160919483403277), (2850, 0.0), (2851, 0.0), (2852, 0.0), (2853, 0.0025234742839204253), (2854, 0.007940287278032943), (2855, 0.0), (2856, 0.0), (2857, 0.0031306293625923613), (2858, 0.003594793230747527), (2859, 0.03892062672772363), (2860, 0.0), (2861, 0.0033616545852928393), (2862, 0.00236358722606658), (2863, 0.002614997779838142), (2864, 0.0), (2865, 0.0), (2866, 0.0), (2867, 0.0195693467927074), (2868, 0.03471057850484339), (2869, 0.04055417917620709), (2870, 0.0034381012735800014), (2871, 0.010392979560845669), (2872, 0.002919385177617543), (2873, 0.007460728637960149), (2874, 0.012663043704713342), (2875, 0.0), (2876, 0.027758495244631032), (2877, 0.0), (2878, 0.0026734722698293838), (2879, 0.008707067714400177), (2880, 0.0), (2881, 0.008097352464452924), (2882, 0.002755972005584389), (2883, 0.0034320629580592323), (2884, 0.002927723897692589), (2885, 0.015530662654673113), (2886, 0.009169658422198456), (2887, 0.029503613070800697), (2888, 0.0027472806692475427), (2889, 0.0034913155438241164), (2890, 0.0027985606578063227), (2891, 0.0), (2892, 0.0024074500325428783), (2893, 0.04318734363966616), (2894, 0.0026026276553647375), (2895, 0.0030357343976949373), (2896, 0.0), (2897, 0.006757874820400059), (2898, 0.0), (2899, 0.006720886243817158), (2900, 0.002528116234955643), (2901, 0.00325622751323716), (2902, 0.0018652926953995985), (2903, 0.10063787314386033), (2904, 0.0026379051786142274), (2905, 0.0), (2906, 0.0), (2907, 0.0023521461999904793), (2908, 0.03473069779062641), (2909, 0.002473493900684702), (2910, 0.013917633478282367), (2911, 0.0026395262476918485), (2912, 0.02663795835188722), (2913, 0.01160626617783045), (2914, 0.0028682523519447806), (2915, 0.009901438303503268), (2916, 0.0028408048332358568), (2917, 0.01597938404955991), (2918, 0.011260910099604489), (2919, 0.014694787924982376), (2920, 0.026641402793516823), (2921, 0.0), (2922, 0.0), (2923, 0.0034171669472219095), (2924, 0.0029413139277954083), (2925, 0.01142089851991689), (2926, 0.0026523761741113687), (2927, 0.0), (2928, 0.0), (2929, 0.00997316401811581), (2930, 0.0), (2931, 0.014636190656546156), (2932, 0.01880724873550215), (2933, 0.007732280496939369), (2934, 0.009681263395234521), (2935, 0.005833966818310373), (2936, 0.010306943195722024), (2937, 0.0036418513127225525), (2938, 0.0), (2939, 0.014557655967115495), (2940, 0.002710772343352202), (2941, 0.0), (2942, 0.007878767821754883), (2943, 0.0025270661897384182), (2944, 0.05045443000277769), (2945, 0.0024825994654153038), (2946, 0.0024959286076673094), (2947, 0.004728489945670272), (2948, 0.009213541283917928), (2949, 0.007639155147339894), (2950, 0.023732959516752656), (2951, 0.0), (2952, 0.0), (2953, 0.002684490889512162), (2954, 0.002315748814608356), (2955, 0.0), (2956, 0.0), (2957, 0.003102757688776685), (2958, 0.0), (2959, 0.004856626562989745), (2960, 0.004705331125110951), (2961, 0.014001569133349955), (2962, 0.006732649301460031), (2963, 0.012480046815579984), (2964, 0.009729586930502682), (2965, 0.002409187210510178), (2966, 0.0030831102067987726), (2967, 0.0), (2968, 0.0), (2969, 0.012999702326476785), (2970, 0.0027032949511497564), (2971, 0.04416873561671524), (2972, 0.025931096430882095), (2973, 0.0), (2974, 0.002847448826702877), (2975, 0.00799910472417184), (2976, 0.0022719244680200154), (2977, 0.009322674076250257), (2978, 0.012709399900374011), (2979, 0.0), (2980, 0.008929695089282262), (2981, 0.034425832198861535), (2982, 0.0), (2983, 0.0), (2984, 0.004235521067904495), (2985, 0.05717355295839895), (2986, 0.0029999075948067637), (2987, 0.0029279224859267345), (2988, 0.014148959205037392), (2989, 0.0035339482019520565), (2990, 0.0), (2991, 0.0046748260207572076), (2992, 0.010426386435022177), (2993, 0.003059036294957494), (2994, 0.007120926158170711), (2995, 0.019960329583145846), (2996, 0.01565414109129707), (2997, 0.0023971601065590838), (2998, 0.003807469070934452), (2999, 0.0025217999584430033), (3000, 0.018313196560767752), (3001, 0.0), (3002, 0.0), (3003, 0.0028173739938220366), (3004, 0.03258468151220778), (3005, 0.004662843276282043), (3006, 0.0), (3007, 0.0027094277754945184), (3008, 0.007343589760949153), (3009, 0.0), (3010, 0.04759191926506061), (3011, 0.0044548940477405815), (3012, 0.015947957006243817), (3013, 0.002861016573119358), (3014, 0.0023942259924392586), (3015, 0.0032138288529427426), (3016, 0.0026036229481642107), (3017, 0.025952831108870547), (3018, 0.0073886713281036695), (3019, 0.016559249698570755), (3020, 0.0030788992114505523), (3021, 0.0), (3022, 0.005367062238452816), (3023, 0.04447257244459567), (3024, 0.002098006477285881), (3025, 0.0), (3026, 0.002802065432959627), (3027, 0.0022822077528129765), (3028, 0.02658445016958451), (3029, 0.0), (3030, 0.0034357627126280015), (3031, 0.003098080340964135), (3032, 0.008002698145813185), (3033, 0.006565105720620912), (3034, 0.0), (3035, 0.006806335881231588), (3036, 0.01700523802225701), (3037, 0.0026770809629725915), (3038, 0.0), (3039, 0.007433241299459786), (3040, 0.003541823977779952), (3041, 0.0), (3042, 0.0034363661000082167), (3043, 0.016102860661864705), (3044, 0.0027645517635581586), (3045, 0.03500487119962277), (3046, 0.00893016595043056), (3047, 0.0), (3048, 0.0), (3049, 0.005728143928534588), (3050, 0.0023236180324524933), (3051, 0.0036177016583611417), (3052, 0.003464159943233295), (3053, 0.0732438108456325), (3054, 0.0), (3055, 0.00345109669377229), (3056, 0.002101035489155866), (3057, 0.0023791981149129493), (3058, 0.0), (3059, 0.0), (3060, 0.0), (3061, 0.0), (3062, 0.002811765663735291), (3063, 0.0), (3064, 0.00275966997783602), (3065, 0.011652341121195921), (3066, 0.0064178609702593365), (3067, 0.008994762392335237), (3068, 0.0212542909977071), (3069, 0.0024767080275248632), (3070, 0.01044100980493831), (3071, 0.002375524856170654), (3072, 0.0029477207530535497), (3073, 0.0), (3074, 0.003111619902094145), (3075, 0.0024631511126581686), (3076, 0.01257842856312464), (3077, 0.0), (3078, 0.0), (3079, 0.004251719719739137), (3080, 0.0), (3081, 0.002984739096348554), (3082, 0.0), (3083, 0.020305822398005782), (3084, 0.002689900140730751), (3085, 0.017441414767477736), (3086, 0.01536640033114927), (3087, 0.0), (3088, 0.0), (3089, 0.0), (3090, 0.0), (3091, 0.04501840790205198), (3092, 0.0), (3093, 0.002495957880230708), (3094, 0.010653611691713995), (3095, 0.022323783766467344), (3096, 0.007914711421243772), (3097, 0.018399578507274316), (3098, 0.016828520885194154), (3099, 0.010396584806118781), (3100, 0.00430939762979256), (3101, 0.0028019752526481814), (3102, 0.03452469488743669), (3103, 0.0), (3104, 0.0), (3105, 0.0), (3106, 0.0), (3107, 0.0), (3108, 0.012312576591772557), (3109, 0.0), (3110, 0.013148818620795283), (3111, 0.01884976070242437), (3112, 0.007688011853815087), (3113, 0.0025867747290768866), (3114, 0.006072588491821388), (3115, 0.0), (3116, 0.0027869581898004835), (3117, 0.005288750302616191), (3118, 0.010846767325738211), (3119, 0.013176467645873434), (3120, 0.008898319654514028), (3121, 0.0), (3122, 0.0068204751632027355), (3123, 0.008720722046885655), (3124, 0.004789723535567621), (3125, 0.0071848861424403995), (3126, 0.004418094007533675), (3127, 0.03659072149026752), (3128, 0.0031970079515146015), (3129, 0.01715175212683575), (3130, 0.0), (3131, 0.0049357193591814475), (3132, 0.0), (3133, 0.004336292620515619), (3134, 0.004815055879995134), (3135, 0.004320968927313893), (3136, 0.004302789301984927), (3137, 0.03279268523839365), (3138, 0.0), (3139, 0.003590755164002553), (3140, 0.003191775106003641), (3141, 0.0), (3142, 0.009781933944899053), (3143, 0.004284662611376249), (3144, 0.018683983409944746), (3145, 0.0), (3146, 0.029591429954173888), (3147, 0.0023610495805435113), (3148, 0.002871502296407598), (3149, 0.0068243582803357815), (3150, 0.002653530209421674), (3151, 0.00867316738563137), (3152, 0.0071050995025277695), (3153, 0.023168777515517325), (3154, 0.02606963846967903), (3155, 0.009676985323238005), (3156, 0.025482070893600085), (3157, 0.030753179174541137), (3158, 0.005170714049097464), (3159, 0.0031389054011713865), (3160, 0.004052363978554839), (3161, 0.004551187168761801), (3162, 0.0), (3163, 0.005021375235815921), (3164, 0.0055627503744932), (3165, 0.0029129982157773647), (3166, 0.003517983993137304), (3167, 0.026076234240691328), (3168, 0.005194831847603899), (3169, 0.0), (3170, 0.0024127694654795177), (3171, 0.009142617878024974), (3172, 0.0), (3173, 0.0024976685366919467), (3174, 0.027436795179667704), (3175, 0.0), (3176, 0.0), (3177, 0.0), (3178, 0.004009837888876761), (3179, 0.0047371861365497975), (3180, 0.005132573372863185), (3181, 0.0), (3182, 0.002583558004693464), (3183, 0.002777237875199438), (3184, 0.0027240379933447614), (3185, 0.007000170786572424), (3186, 0.002875686598671847), (3187, 0.0026688975569496213), (3188, 0.0), (3189, 0.0), (3190, 0.0), (3191, 0.004749484075312183), (3192, 0.007816038194544935), (3193, 0.0), (3194, 0.002393826048162591), (3195, 0.007035857525779766), (3196, 0.008017179405249623), (3197, 0.0), (3198, 0.0026199745298642594), (3199, 0.001964000627408032), (3200, 0.0021549128346638855), (3201, 0.0), (3202, 0.0), (3203, 0.04983492278974591), (3204, 0.0), (3205, 0.00488615611728778), (3206, 0.0030685213451301942), (3207, 0.0), (3208, 0.0), (3209, 0.0404720498947614), (3210, 0.014348223596401474), (3211, 0.0021958742889033934), (3212, 0.0), (3213, 0.016734398067455608), (3214, 0.0024212685427485426), (3215, 0.009351852172126342), (3216, 0.0025238101626349585), (3217, 0.0), (3218, 0.009706867675279642), (3219, 0.0033144042482742176), (3220, 0.0024786990760609223), (3221, 0.0), (3222, 0.020922028622940618), (3223, 0.0), (3224, 0.002640477416532266), (3225, 0.002598945361261664), (3226, 0.016748323767747708), (3227, 0.00720882098845807), (3228, 0.01664828857203829), (3229, 0.0), (3230, 0.002927991904175658), (3231, 0.0), (3232, 0.010219438024982971), (3233, 0.007355187520740297), (3234, 0.0027721883281203114), (3235, 0.0027036651130922895), (3236, 0.0), (3237, 0.008993087333431071), (3238, 0.0021825937843072797), (3239, 0.003197536727176098), (3240, 0.01124934087059656), (3241, 0.0026458927031980627), (3242, 0.0026627240239371097), (3243, 0.0023753766953138553), (3244, 0.006017414560259968), (3245, 0.007148416664097888), (3246, 0.008728646467293669), (3247, 0.004172448145238135), (3248, 0.06683400770968474), (3249, 0.041017865222136844), (3250, 0.0), (3251, 0.0), (3252, 0.002113286442481704), (3253, 0.014939900433374387), (3254, 0.019934000066389033), (3255, 0.03386118439201842), (3256, 0.007657278393381902), (3257, 0.0030559723754571373), (3258, 0.0027578268313340057), (3259, 0.007461484276829566), (3260, 0.02595611761350908), (3261, 0.0), (3262, 0.003263324594002952), (3263, 0.005025888185502876), (3264, 0.009614029034340893), (3265, 0.006769470229076113), (3266, 0.0), (3267, 0.00872099401762529), (3268, 0.0024206147492601745), (3269, 0.0027434131677741983), (3270, 0.0), (3271, 0.0027403415978842337), (3272, 0.0), (3273, 0.0028235332757005805), (3274, 0.002857575305783021), (3275, 0.016625701732328566), (3276, 0.11904275527845871), (3277, 0.0), (3278, 0.0023061090609036313), (3279, 0.01710645888961131), (3280, 0.03633050021075281), (3281, 0.0), (3282, 0.0032890614008540538), (3283, 0.0025832882921760806), (3284, 0.018580379689813888), (3285, 0.024986270155456014), (3286, 0.0), (3287, 0.0), (3288, 0.006427108303657311), (3289, 0.0025991464854026964), (3290, 0.0026100030058059257), (3291, 0.0034081886534521894), (3292, 0.003310777104218693), (3293, 0.009096992545310077), (3294, 0.04624323347380142), (3295, 0.013969150929514713), (3296, 0.0028845687282931277), (3297, 0.010212639038269281), (3298, 0.002449889141972864), (3299, 0.015574789122903311), (3300, 0.0023833694605941177), (3301, 0.001986042001116353), (3302, 0.0030901029595293804), (3303, 0.0072756740838892334), (3304, 0.0022964795595691884), (3305, 0.0), (3306, 0.0152976874344642), (3307, 0.002946025449744525), (3308, 0.0030025452049455338), (3309, 0.006272591746028673), (3310, 0.0), (3311, 0.0022941875363447282), (3312, 0.013575887940800115), (3313, 0.028787092659189745), (3314, 0.0026898098056917486), (3315, 0.03368318725728787), (3316, 0.007003850870270374), (3317, 0.011650735201311341), (3318, 0.012820183098572135), (3319, 0.020423232922267758), (3320, 0.0), (3321, 0.0), (3322, 0.0032640971868044587), (3323, 0.0), (3324, 0.0), (3325, 0.012773806745111468), (3326, 0.029136988159400246), (3327, 0.002274866668351808), (3328, 0.030258041215121226), (3329, 0.008323855378347709), (3330, 0.033615999671213884), (3331, 0.005959816487740433), (3332, 0.0), (3333, 0.0), (3334, 0.05583492547104912), (3335, 0.002562498848059044), (3336, 0.0022827623066486316), (3337, 0.0029263608551047733), (3338, 0.0042980765239955315), (3339, 0.003970201087966742), (3340, 0.0), (3341, 0.0025432834702508117), (3342, 0.006638970720780705), (3343, 0.0), (3344, 0.02738273881182292), (3345, 0.021626760319634543), (3346, 0.009080805971871128), (3347, 0.0021286521604270314), (3348, 0.002454413673103588), (3349, 0.007417544683405594), (3350, 0.0), (3351, 0.03422817266939724), (3352, 0.02025320532872813), (3353, 0.0026367027726778495), (3354, 0.0031930841877435717), (3355, 0.0029177922097563735), (3356, 0.013971822886881386), (3357, 0.003152498265952662), (3358, 0.003079020136582063), (3359, 0.0029515322197334465), (3360, 0.05160066999995516), (3361, 0.004367134773433361), (3362, 0.03655333120186724), (3363, 0.003163022311998249), (3364, 0.0029277933783362665), (3365, 0.0017885245766340774), (3366, 0.0), (3367, 0.004620646774560631), (3368, 0.0), (3369, 0.0023393798748198896), (3370, 0.013807400089293192), (3371, 0.0), (3372, 0.0026635908403475645), (3373, 0.038926472514427574), (3374, 0.046592583707873975), (3375, 0.01488073605002588), (3376, 0.031092236059193586), (3377, 0.0316397347518423), (3378, 0.0), (3379, 0.0024864932425056924), (3380, 0.0022513613222782006), (3381, 0.0025058973578958132), (3382, 0.010028988740987222), (3383, 0.0), (3384, 0.021404263877822273), (3385, 0.05898328865604498), (3386, 0.009225598651981195), (3387, 0.012348352343140651), (3388, 0.002672146305255844), (3389, 0.0083739484217232), (3390, 0.0024164444715753866), (3391, 0.005654239730508646), (3392, 0.0016851661424786921), (3393, 0.002181253369120151), (3394, 0.0), (3395, 0.04816478815774589), (3396, 0.0029253541966865544), (3397, 0.0), (3398, 0.004757992723997419), (3399, 0.008506480833147216), (3400, 0.0), (3401, 0.0), (3402, 0.002471455859944226), (3403, 0.018660913660548617), (3404, 0.00469377408637166), (3405, 0.00392108833688191), (3406, 0.0026765700485092483), (3407, 0.01518976872226175), (3408, 0.04404054432044927), (3409, 0.03809551870081681), (3410, 0.0073268780729074355), (3411, 0.0), (3412, 0.0024735000721670024), (3413, 0.003046256938374548), (3414, 0.002838985773331459), (3415, 0.0), (3416, 0.018240189933616636), (3417, 0.002793308661435089), (3418, 0.008722324977241057), (3419, 0.0029268337374655446), (3420, 0.029315121798530092), (3421, 0.014570533357246248), (3422, 0.0), (3423, 0.010418173494331849), (3424, 0.0), (3425, 0.0029386601486688355), (3426, 0.010402151809410325), (3427, 0.04153586768402897), (3428, 0.02471132998634178), (3429, 0.003136655334325581), (3430, 0.03306988583370249), (3431, 0.0020366287014385314), (3432, 0.004579595707835179), (3433, 0.021185525106043747), (3434, 0.0026981585993175548), (3435, 0.007080080814085194), (3436, 0.00719553939447874), (3437, 0.014891313208532216), (3438, 0.004925075352046845), (3439, 0.0), (3440, 0.005360191089565494), (3441, 0.0025153505923608717), (3442, 0.0), (3443, 0.004550394474658327), (3444, 0.0), (3445, 0.0025973749235322155), (3446, 0.023762507383910385), (3447, 0.026998497642944916), (3448, 0.005596474468564588), (3449, 0.0027405863645363804), (3450, 0.06274272831079739), (3451, 0.004944796113572012), (3452, 0.006666829518739313), (3453, 0.007781907770548947), (3454, 0.0), (3455, 0.002328708998375963), (3456, 0.007637110780276211), (3457, 0.007003019585887429), (3458, 0.006237886369444206), (3459, 0.0), (3460, 0.006574404057633163), (3461, 0.0), (3462, 0.05743407972843756), (3463, 0.060706045656025436), (3464, 0.00749830788075648), (3465, 0.07411089841255807), (3466, 0.03211481416037761), (3467, 0.0), (3468, 0.004972065267270441), (3469, 0.02074519241046779), (3470, 0.03501442704271949), (3471, 0.02041359884625035), (3472, 0.0), (3473, 0.0), (3474, 0.00649658195092293), (3475, 0.0), (3476, 0.0), (3477, 0.002514868609303398), (3478, 0.0025361871902406415), (3479, 0.003387007242974126), (3480, 0.06560363079666713), (3481, 0.0), (3482, 0.0), (3483, 0.022015857129812924), (3484, 0.0038366239829752654), (3485, 0.0), (3486, 0.03732961088277606), (3487, 0.0068740778119156035), (3488, 0.027582122532805228), (3489, 0.0), (3490, 0.0), (3491, 0.002546138032500976), (3492, 0.021034828753309153), (3493, 0.0026545144823408597), (3494, 0.0), (3495, 0.004102292524056775), (3496, 0.002722348105245073), (3497, 0.002771044725530212), (3498, 0.036163887622597285), (3499, 0.007023650271851442), (3500, 0.002352966728399302), (3501, 0.007267483112732892), (3502, 0.005583987359637695), (3503, 0.0024319481504375285), (3504, 0.01991643969718866), (3505, 0.0), (3506, 0.0029250907731739545), (3507, 0.012116777808516593), (3508, 0.019891763683695312), (3509, 0.005699119019090607), (3510, 0.0), (3511, 0.03711590996650716), (3512, 0.003889013171202378), (3513, 0.004833569400596493), (3514, 0.007463910276476754), (3515, 0.007141768857087137), (3516, 0.007775657982650568), (3517, 0.0026259815785324952), (3518, 0.043195701521196984), (3519, 0.0), (3520, 0.0046702515861505485), (3521, 0.008807933706918613), (3522, 0.0), (3523, 0.003635675158808224), (3524, 0.010712545862383622), (3525, 0.0), (3526, 0.002595503472085825), (3527, 0.0026216332494819416), (3528, 0.01706437830544422), (3529, 0.0), (3530, 0.0), (3531, 0.006862294924219215), (3532, 0.0), (3533, 0.0), (3534, 0.004188386236756716), (3535, 0.013840663151712783), (3536, 0.009447284878491282), (3537, 0.003145746384961089), (3538, 0.0020222667751278976), (3539, 0.0), (3540, 0.002958055113999266), (3541, 0.015766542718863782), (3542, 0.002594891823392815), (3543, 0.0), (3544, 0.003087182481444542), (3545, 0.0), (3546, 0.0018921856768456726), (3547, 0.0), (3548, 0.0020856240241655002), (3549, 0.0), (3550, 0.0), (3551, 0.0025597255630833856), (3552, 0.04302665477519424), (3553, 0.020608214844184295), (3554, 0.0), (3555, 0.004471280542747128), (3556, 0.03384264898810407), (3557, 0.002487046708104953), (3558, 0.014470291425645935), (3559, 0.04212369037310279), (3560, 0.002849634449849319), (3561, 0.0034380523706759865), (3562, 0.0), (3563, 0.002311499623348645), (3564, 0.002546021075884705), (3565, 0.0025099886574085723), (3566, 0.006170320282172523), (3567, 0.0), (3568, 0.0), (3569, 0.002174456030263495), (3570, 0.007030792303727618), (3571, 0.007310855744198968), (3572, 0.02942918149314236), (3573, 0.02554701781763868), (3574, 0.027301137102037593), (3575, 0.00204892542434744), (3576, 0.0046855570241939055), (3577, 0.003134300423040642), (3578, 0.0), (3579, 0.0077718523228684465), (3580, 0.01503913551909868), (3581, 0.0), (3582, 0.011260065662471546), (3583, 0.004479553777020867), (3584, 0.00495460907849746), (3585, 0.0), (3586, 0.007614155228395091), (3587, 0.002856932498632551), (3588, 0.005668212447753091), (3589, 0.0), (3590, 0.0026940584214214624), (3591, 0.0), (3592, 0.0), (3593, 0.0028311413543016003), (3594, 0.006542877340613764), (3595, 0.0), (3596, 0.009010933192656959), (3597, 0.03019147046334424), (3598, 0.005814885873890762), (3599, 0.009506751045859307), (3600, 0.0), (3601, 0.002704796924602712), (3602, 0.004536165102704673), (3603, 0.0), (3604, 0.005067139324779592), (3605, 0.027276268392402665), (3606, 0.0025858958517718123), (3607, 0.0), (3608, 0.0016519407502508057), (3609, 0.0), (3610, 0.0), (3611, 0.002881671319418458), (3612, 0.009614913459816828), (3613, 0.0031282114428502436), (3614, 0.002295596338649645), (3615, 0.002388296766524122), (3616, 0.0031538433185305395), (3617, 0.0), (3618, 0.007578451625313123), (3619, 0.0040475877803817254), (3620, 0.0030882893020226336), (3621, 0.002984345128468935), (3622, 0.0), (3623, 0.00737538528924074), (3624, 0.00708332047076107), (3625, 0.0), (3626, 0.0019457778288461563), (3627, 0.0023466132651486036), (3628, 0.0), (3629, 0.02093769026694279), (3630, 0.01324869338675674), (3631, 0.0), (3632, 0.006714251426310358), (3633, 0.0), (3634, 0.0076982381563141565), (3635, 0.009666279084388135), (3636, 0.0026136381292832115), (3637, 0.01243969337920028), (3638, 0.008913892551018446), (3639, 0.002902584346526088), (3640, 0.015863756083686856), (3641, 0.0024493907161684263), (3642, 0.015425038196230128), (3643, 0.009249751025514884), (3644, 0.0), (3645, 0.00724440879850767), (3646, 0.0023981258846872276), (3647, 0.0024952762541183417), (3648, 0.0067966355837907584), (3649, 0.0), (3650, 0.0), (3651, 0.0029012906726482673), (3652, 0.03705103879988626), (3653, 0.007288033329822759), (3654, 0.002667297611504451), (3655, 0.05037922104829881), (3656, 0.03288836579668992), (3657, 0.0021402453501994092), (3658, 0.005945222312437101), (3659, 0.012739067427470985), (3660, 0.013717303640745986), (3661, 0.015645774253423853), (3662, 0.0), (3663, 0.0), (3664, 0.004434450523125297), (3665, 0.021010623387236357), (3666, 0.007423488483315581), (3667, 0.008900171105382567), (3668, 0.002146676808987418), (3669, 0.0021492957787100806), (3670, 0.01434623681044903), (3671, 0.0), (3672, 0.003603859110894286), (3673, 0.0025259098893481075), (3674, 0.009866519236776755), (3675, 0.016956370936491695), (3676, 0.0), (3677, 0.0027839214224453152), (3678, 0.0026980940701351206), (3679, 0.00969563939917761), (3680, 0.008084768946688053), (3681, 0.0), (3682, 0.0), (3683, 0.0), (3684, 0.026220632227902815), (3685, 0.0), (3686, 0.0), (3687, 0.003167716046461269), (3688, 0.026503326352086184), (3689, 0.00941773693384183), (3690, 0.0), (3691, 0.002413294151246662), (3692, 0.02422552227377744), (3693, 0.0), (3694, 0.015394318681617915), (3695, 0.0), (3696, 0.006894880242524033), (3697, 0.0), (3698, 0.0), (3699, 0.014528971303086509), (3700, 0.0), (3701, 0.028203118886118317), (3702, 0.0), (3703, 0.0), (3704, 0.007726207293318316), (3705, 0.006469532567629695), (3706, 0.0024751333238974306), (3707, 0.0025812562026774183), (3708, 0.013495528700764464), (3709, 0.0), (3710, 0.004904565905805377), (3711, 0.02491200660691427), (3712, 0.0), (3713, 0.015221954853509278), (3714, 0.002772130097690375), (3715, 0.005953053602272926), (3716, 0.0), (3717, 0.0), (3718, 0.0), (3719, 0.0024754549920114216), (3720, 0.0301036537382075), (3721, 0.006120051103397476), (3722, 0.0), (3723, 0.004353829586358225), (3724, 0.0), (3725, 0.0023614834077740256), (3726, 0.0), (3727, 0.007088736271485591), (3728, 0.05632573704373771), (3729, 0.002939207932414357), (3730, 0.0), (3731, 0.03430420032682722), (3732, 0.0), (3733, 0.0086716642226203), (3734, 0.006743290499240995), (3735, 0.0), (3736, 0.0), (3737, 0.002831959461557706), (3738, 0.0), (3739, 0.0025640637911042356), (3740, 0.0), (3741, 0.013577240544232178), (3742, 0.0023166044562877935), (3743, 0.0), (3744, 0.005614568383030678), (3745, 0.0029834165348200594), (3746, 0.024584595760600816), (3747, 0.011810499294329865), (3748, 0.0056834901902824584), (3749, 0.0027652807534091156), (3750, 0.012526912155733275), (3751, 0.027143246434604237), (3752, 0.0055805413727793305), (3753, 0.04423112263249479), (3754, 0.00294123732407041), (3755, 0.002241461077547313), (3756, 0.011635471912017536), (3757, 0.0027358120658869957), (3758, 0.0), (3759, 0.0), (3760, 0.0), (3761, 0.0), (3762, 0.003304117574998181), (3763, 0.0029889620081975953), (3764, 0.0), (3765, 0.0024636042749015424), (3766, 0.016963318783005426), (3767, 0.02842946435184832), (3768, 0.01255985800340293), (3769, 0.004823654473202804), (3770, 0.0026521310442793435), (3771, 0.007743879506289292), (3772, 0.002886166507773771), (3773, 0.023394028419571663), (3774, 0.0049401024395021535), (3775, 0.0108468683084845), (3776, 0.00395109019216415), (3777, 0.015029275746340404), (3778, 0.021876216116220832), (3779, 0.10185805797079385), (3780, 0.00763376181297933), (3781, 0.002717402025763326), (3782, 0.004941626446775451), (3783, 0.0), (3784, 0.008666453071715976), (3785, 0.0), (3786, 0.0), (3787, 0.005050684028750155), (3788, 0.004312418804018252), (3789, 0.0), (3790, 0.0), (3791, 0.0), (3792, 0.00257917156307823), (3793, 0.044287917473408725), (3794, 0.011070808538151015), (3795, 0.0022686851808269076), (3796, 0.0), (3797, 0.01518071341031898), (3798, 0.0), (3799, 0.0024040976357289317), (3800, 0.0), (3801, 0.02451470738565642), (3802, 0.00505157317002861), (3803, 0.0), (3804, 0.0028291372709332873), (3805, 0.0), (3806, 0.003891967785171728), (3807, 0.014150045430268142), (3808, 0.0), (3809, 0.002598493390633651), (3810, 0.023577201281668243), (3811, 0.0023908909837663888), (3812, 0.0), (3813, 0.0027672354263009982), (3814, 0.029102136897891293), (3815, 0.004703487539245397), (3816, 0.0), (3817, 0.0), (3818, 0.0), (3819, 0.013430728987528888), (3820, 0.0), (3821, 0.007635870656724133), (3822, 0.01022332422881349), (3823, 0.004337632521968427), (3824, 0.004403203520833348), (3825, 0.005930841255515681), (3826, 0.008753326924359022), (3827, 0.002486666559187951), (3828, 0.017989862890400703), (3829, 0.008463648801411847), (3830, 0.0), (3831, 0.0), (3832, 0.0030961468799514855), (3833, 0.004685092741441776), (3834, 0.0), (3835, 0.02397354322931111), (3836, 0.0), (3837, 0.0), (3838, 0.0), (3839, 0.022556611534142262), (3840, 0.0), (3841, 0.006411621947297273), (3842, 0.006439580046008823), (3843, 0.0), (3844, 0.0057811292968995755), (3845, 0.00264536067742802), (3846, 0.0), (3847, 0.0), (3848, 0.0032176256582615113), (3849, 0.012140140403992344), (3850, 0.030492114933685623), (3851, 0.0), (3852, 0.02718070172661722), (3853, 0.01885012676492403), (3854, 0.061615662703783644), (3855, 0.002151981507583706), (3856, 0.0), (3857, 0.019866204573821197), (3858, 0.0), (3859, 0.0), (3860, 0.01059758769088297), (3861, 0.013592128894296429), (3862, 0.014856134944777392), (3863, 0.0022790086794717717), (3864, 0.0061989508384039365), (3865, 0.005858147278425385), (3866, 0.0029234354102327343), (3867, 0.04005546355863067), (3868, 0.023327313721090374), (3869, 0.0), (3870, 0.0), (3871, 0.02774365781683595), (3872, 0.02406558899584981), (3873, 0.00271189350840195), (3874, 0.003101336326241035), (3875, 0.018078943775698537), (3876, 0.006562838398218207), (3877, 0.0028237663915901524), (3878, 0.0033333249663985306), (3879, 0.0), (3880, 0.02973200671246555), (3881, 0.004399498239922741), (3882, 0.0026692254727586633), (3883, 0.01621442671515648), (3884, 0.0029508011050974987), (3885, 0.0), (3886, 0.004430555543774054), (3887, 0.0), (3888, 0.009509824437820174), (3889, 0.0027505286173344066), (3890, 0.0024536526556442157), (3891, 0.02265111548778183), (3892, 0.003296946816248689), (3893, 0.0027398348303490174), (3894, 0.0022242858410916593), (3895, 0.01565752388060252), (3896, 0.0), (3897, 0.004891332365552052), (3898, 0.0024067454994173855), (3899, 0.007704160140244185), (3900, 0.0024387712171574766), (3901, 0.008622386333348416), (3902, 0.0026388324543919197), (3903, 0.010429036686855617), (3904, 0.026076749500281174), (3905, 0.007483865068498167), (3906, 0.0024952876605332792), (3907, 0.004786368378027254), (3908, 0.004674093092431092), (3909, 0.006128669375239795), (3910, 0.006276866044991001), (3911, 0.00303052451245541), (3912, 0.0), (3913, 0.022507391852193012), (3914, 0.0), (3915, 0.002754726020960518), (3916, 0.02128040043462384), (3917, 0.0024396790123713276), (3918, 0.0), (3919, 0.009518026688365584), (3920, 0.0026269850198830528), (3921, 0.0), (3922, 0.003130849387440927), (3923, 0.02007082784129759), (3924, 0.010565245191918269), (3925, 0.0037750382833963004), (3926, 0.006579383573264014), (3927, 0.02035517822791571), (3928, 0.002118505549736894), (3929, 0.0), (3930, 0.0), (3931, 0.0), (3932, 0.004678398488262889), (3933, 0.0), (3934, 0.01967145213089218), (3935, 0.0029885096547979943), (3936, 0.0), (3937, 0.0), (3938, 0.0050020766548057255), (3939, 0.003377902592750367), (3940, 0.005415808786037162), (3941, 0.00900672834789253), (3942, 0.0056275672924494405), (3943, 0.0), (3944, 0.0037188104894249146), (3945, 0.007385100505287985), (3946, 0.06577120166835923), (3947, 0.0387498132259521), (3948, 0.0), (3949, 0.00972555380507844), (3950, 0.0), (3951, 0.010623974779247283), (3952, 0.0029084527399929477), (3953, 0.0023075672917894077), (3954, 0.008593121833034326), (3955, 0.0394911087324386), (3956, 0.00856647521911965), (3957, 0.01130737537328342), (3958, 0.013163592055294063), (3959, 0.026839111166414742), (3960, 0.008105392582227868), (3961, 0.032643242208811374), (3962, 0.0028483911122045955), (3963, 0.02478711540965193), (3964, 0.0), (3965, 0.0), (3966, 0.0043026204392936215), (3967, 0.0028036445992062004), (3968, 0.0), (3969, 0.0), (3970, 0.00441235901817224), (3971, 0.0), (3972, 0.0), (3973, 0.04191108684498303), (3974, 0.04564920918028946), (3975, 0.0060132739833293845), (3976, 0.016645328263089863), (3977, 0.0), (3978, 0.02031608323873614), (3979, 0.0), (3980, 0.0), (3981, 0.0), (3982, 0.0), (3983, 0.0334519178853037), (3984, 0.010107881608489588), (3985, 0.0), (3986, 0.0022819497828374434), (3987, 0.002701211892488908), (3988, 0.0), (3989, 0.003716566742122906), (3990, 0.003500660434369241), (3991, 0.0), (3992, 0.01086432393823145), (3993, 0.010799299812975914), (3994, 0.0), (3995, 0.004783012688872664), (3996, 0.0), (3997, 0.00491138185917065), (3998, 0.006328447448942516), (3999, 0.011834468356820938), (4000, 0.0141093375231781), (4001, 0.006579886652293796), (4002, 0.002945363782547396), (4003, 0.0), (4004, 0.029992838221305277), (4005, 0.03604246095974138), (4006, 0.0), (4007, 0.01940052142068012), (4008, 0.0068172021824728195), (4009, 0.006069496564969901), (4010, 0.0), (4011, 0.0023818585917991975), (4012, 0.017483243197011), (4013, 0.007783966541683049), (4014, 0.002566107194359398), (4015, 0.0020921059156520354), (4016, 0.021002760049322427), (4017, 0.0034416299225726275), (4018, 0.0), (4019, 0.003287714487628035), (4020, 0.0024881089755816057), (4021, 0.0), (4022, 0.0), (4023, 0.04164010241839036), (4024, 0.002738817823037397), (4025, 0.009445947734436948), (4026, 0.0), (4027, 0.0), (4028, 0.018657044220207194), (4029, 0.0), (4030, 0.002968509850789978), (4031, 0.0), (4032, 0.010624262915911632), (4033, 0.010139571461229513), (4034, 0.0), (4035, 0.02884431322859591), (4036, 0.0024780774227247024), (4037, 0.0), (4038, 0.007643493182656476), (4039, 0.004497181173511471), (4040, 0.0), (4041, 0.0), (4042, 0.0028011681307968457), (4043, 0.005142156064116708), (4044, 0.004185917988001525), (4045, 0.007474521320913149), (4046, 0.007837863472015382), (4047, 0.0058310531983781), (4048, 0.010521792466705355), (4049, 0.0025739499721083815), (4050, 0.022052871866018453), (4051, 0.0028294868139303216), (4052, 0.009622904531408719), (4053, 0.02264973231545321), (4054, 0.002689240504457996), (4055, 0.005924818293621737), (4056, 0.002522476728047455), (4057, 0.005838723038181405), (4058, 0.0), (4059, 0.0023717520410445306), (4060, 0.009548933425246275), (4061, 0.007175096904403548), (4062, 0.05895899420588935), (4063, 0.0), (4064, 0.03630173900756347), (4065, 0.0), (4066, 0.002227252098130379), (4067, 0.0), (4068, 0.014451184354152644), (4069, 0.0024496794215734174), (4070, 0.0), (4071, 0.004365080839408345), (4072, 0.0), (4073, 0.0), (4074, 0.002282385064502933), (4075, 0.0029593107497051714), (4076, 0.004970043121679034), (4077, 0.0072379352292676405), (4078, 0.0), (4079, 0.0026291170110588594), (4080, 0.002274010786165699), (4081, 0.017985275912985557), (4082, 0.00358280122205307), (4083, 0.002647802731253027), (4084, 0.0), (4085, 0.002413872752453439), (4086, 0.0), (4087, 0.0027570148922926073), (4088, 0.019228802670990832), (4089, 0.007444294164478699), (4090, 0.00497122442224054), (4091, 0.005069099168848593), (4092, 0.008090895367233295), (4093, 0.007237247574506506), (4094, 0.007582355866076666), (4095, 0.012071832731641165), (4096, 0.03176234276628577), (4097, 0.0), (4098, 0.007328628147016926), (4099, 0.006567093402415354), (4100, 0.0), (4101, 0.002768111461896002), (4102, 0.00322017641330588), (4103, 0.004638354930990021), (4104, 0.04465112623584488), (4105, 0.00794159514227583), (4106, 0.010011298899255085), (4107, 0.0031316484334973907), (4108, 0.0), (4109, 0.0), (4110, 0.005829926434041167), (4111, 0.0027150310497208027), (4112, 0.0), (4113, 0.002816959072990225), (4114, 0.0), (4115, 0.0), (4116, 0.0726415300398862), (4117, 0.002895105709173998), (4118, 0.0076295795284101985), (4119, 0.005127533389383312), (4120, 0.005142394346497134), (4121, 0.013294058510116138), (4122, 0.008786711827347367), (4123, 0.05255262820554277), (4124, 0.013459664088655683), (4125, 0.0), (4126, 0.002951204889263052), (4127, 0.0), (4128, 0.0217638355267029), (4129, 0.0024548456995279735), (4130, 0.002772030138020013), (4131, 0.0), (4132, 0.002729915146874504), (4133, 0.0077958126868276235), (4134, 0.015345894727775013), (4135, 0.0025721544003564087), (4136, 0.0026420257284279123), (4137, 0.06047703709769186), (4138, 0.002811175665091937), (4139, 0.0024490787046745617), (4140, 0.0027710741765924695), (4141, 0.026591237443928682), (4142, 0.0032425169740557275), (4143, 0.0022797552107130963), (4144, 0.0), (4145, 0.0029791881546168577), (4146, 0.0), (4147, 0.0030881294441047133), (4148, 0.011642710729146655), (4149, 0.018728310874684195), (4150, 0.0), (4151, 0.004357507674573639), (4152, 0.03364084318782469), (4153, 0.0), (4154, 0.006460444818820417), (4155, 0.0024229225872662036), (4156, 0.019497433893036695), (4157, 0.0), (4158, 0.009601381761401219), (4159, 0.0), (4160, 0.027334340235441686), (4161, 0.002728429570225236), (4162, 0.005309960252153657), (4163, 0.00828909244186234), (4164, 0.010674454149190899), (4165, 0.03529172143254559), (4166, 0.0), (4167, 0.0), (4168, 0.0), (4169, 0.0027015747367255608), (4170, 0.0), (4171, 0.0017924201375203223), (4172, 0.00335287256990068), (4173, 0.0), (4174, 0.0023343493902812707), (4175, 0.02929330595563264), (4176, 0.020688748123160124), (4177, 0.028217683821222087), (4178, 0.014936139212549819), (4179, 0.0), (4180, 0.0), (4181, 0.0), (4182, 0.006907818896450109), (4183, 0.0024598501729012853), (4184, 0.007103928823641513), (4185, 0.0), (4186, 0.0), (4187, 0.010905512014133228), (4188, 0.0), (4189, 0.02126938217959492), (4190, 0.0), (4191, 0.0), (4192, 0.00930711991890133), (4193, 0.004195492760646212), (4194, 0.0), (4195, 0.03270387798303689), (4196, 0.007152503548435218), (4197, 0.0025854969931686654), (4198, 0.0), (4199, 0.0), (4200, 0.002096886599853674), (4201, 0.0), (4202, 0.0035463057159148726), (4203, 0.01875506443394477), (4204, 0.0), (4205, 0.008132594159560462), (4206, 0.0024090792775228157), (4207, 0.0), (4208, 0.005772631262084199), (4209, 0.03371052248760337), (4210, 0.006662796250061072), (4211, 0.0045286228174402626), (4212, 0.0), (4213, 0.002411633257182007), (4214, 0.0), (4215, 0.0), (4216, 0.011295742026656222), (4217, 0.006344514387184784), (4218, 0.0), (4219, 0.005930755851851497), (4220, 0.0022373580615292327), (4221, 0.0033908723979946052), (4222, 0.003401382805593409), (4223, 0.0), (4224, 0.0), (4225, 0.002662303167849778), (4226, 0.007181301012694179), (4227, 0.012903133125254939), (4228, 0.002505610963151872), (4229, 0.0), (4230, 0.0032496256231181186), (4231, 0.015173882829877293), (4232, 0.008355629863574444), (4233, 0.007493601501957862), (4234, 0.0), (4235, 0.01070958900129352), (4236, 0.006074986995433853), (4237, 0.0), (4238, 0.0), (4239, 0.0), (4240, 0.005036241334993981), (4241, 0.0), (4242, 0.026461169972595094), (4243, 0.0028872437447467303), (4244, 0.016296015414201667), (4245, 0.002724901673319483), (4246, 0.015799090880616876), (4247, 0.002229109657702569), (4248, 0.004586070327996085), (4249, 0.007376866463428257), (4250, 0.0), (4251, 0.004729825034580443), (4252, 0.06059815508412412), (4253, 0.0), (4254, 0.0023813558699458046), (4255, 0.013906645140043451), (4256, 0.0), (4257, 0.008577179765386037), (4258, 0.0), (4259, 0.0028171123677211895), (4260, 0.0), (4261, 0.005249130933861092), (4262, 0.0026330476415983117), (4263, 0.0027933745595439814), (4264, 0.004546247226560508), (4265, 0.012370029362516655), (4266, 0.002559182443926289), (4267, 0.002912222038245148), (4268, 0.04898548881218139), (4269, 0.0027203946975308483), (4270, 0.0), (4271, 0.0), (4272, 0.029924361661111024), (4273, 0.0025953107452440388), (4274, 0.004230225814165783), (4275, 0.004783375335158277), (4276, 0.0), (4277, 0.0023230286175405807), (4278, 0.0), (4279, 0.0), (4280, 0.0030057193500140156), (4281, 0.02307317169422645), (4282, 0.0065812359779165875), (4283, 0.02617077662446087), (4284, 0.007015060521553908), (4285, 0.005413903372484929), (4286, 0.0026814309883877183), (4287, 0.002620191446121034), (4288, 0.021746012783557662), (4289, 0.007530304372005355), (4290, 0.004163826251867192), (4291, 0.0), (4292, 0.004346641270334503), (4293, 0.010724969879060454), (4294, 0.025578314593772924), (4295, 0.002895647625898037), (4296, 0.0022091218180194496), (4297, 0.0), (4298, 0.003111423665814051), (4299, 0.006979491877667861), (4300, 0.0), (4301, 0.0018816480208664048), (4302, 0.0), (4303, 0.006307820224547158), (4304, 0.002276243083383022), (4305, 0.0), (4306, 0.003135535775568488), (4307, 0.005179565875975142), (4308, 0.0027812821125682), (4309, 0.006978193744209408), (4310, 0.004618064119380746), (4311, 0.00206051039801924), (4312, 0.004956559811046084), (4313, 0.0), (4314, 0.014801136061606185), (4315, 0.0), (4316, 0.0), (4317, 0.0), (4318, 0.0026799528252094704), (4319, 0.0), (4320, 0.0025297404552931542), (4321, 0.01702852191740664), (4322, 0.004224059410919857), (4323, 0.0), (4324, 0.0), (4325, 0.010841428602515578), (4326, 0.002325224684454586), (4327, 0.0), (4328, 0.0043097790763090464), (4329, 0.0), (4330, 0.00253759563114658), (4331, 0.005314131386390756), (4332, 0.0), (4333, 0.0028538356132755452), (4334, 0.0026212769553910806), (4335, 0.008058701805706187), (4336, 0.008794656199100886), (4337, 0.01241614564808369), (4338, 0.0), (4339, 0.004214172565029606), (4340, 0.0026230583862476187), (4341, 0.0), (4342, 0.006053130571462054), (4343, 0.002243294059099312), (4344, 0.011726694019006622), (4345, 0.0024056806139171995), (4346, 0.0), (4347, 0.0), (4348, 0.0023323300386728536), (4349, 0.017587782255816413), (4350, 0.00228597005386794), (4351, 0.0070443909453657225), (4352, 0.0), (4353, 0.0), (4354, 0.025503853369116338), (4355, 0.0027018875230114077), (4356, 0.0023586709927771476), (4357, 0.0027034679302635808), (4358, 0.0), (4359, 0.002315457705635693), (4360, 0.004638002055274865), (4361, 0.0026386334816726476), (4362, 0.03662915792058018), (4363, 0.002656280498809686), (4364, 0.0), (4365, 0.004063496237183203), (4366, 0.010509642903648503), (4367, 0.006365614555669841), (4368, 0.002854344086319595), (4369, 0.0029178234754435903), (4370, 0.0), (4371, 0.009763787259413185), (4372, 0.0), (4373, 0.0049449377425063975), (4374, 0.013502565967730248), (4375, 0.09117512301489196), (4376, 0.00472987449563689), (4377, 0.004734497384142149), (4378, 0.07894345402700793), (4379, 0.014738068688333517), (4380, 0.01909520187198896), (4381, 0.002458728622652153), (4382, 0.020364996372131912), (4383, 0.0046295034337980896), (4384, 0.004886360522442935), (4385, 0.00571736338454433), (4386, 0.00218734688146368), (4387, 0.013870068941198365), (4388, 0.0067551300225912455), (4389, 0.0596273727908767), (4390, 0.00735207097581671), (4391, 0.0025630593883972366), (4392, 0.004857891117175142), (4393, 0.0), (4394, 0.002516685249546862), (4395, 0.02048882844913982), (4396, 0.036691969771720574), (4397, 0.0028225842511361257), (4398, 0.058481064958436045), (4399, 0.01690382353828356), (4400, 0.0032330609798207196), (4401, 0.002833596125018068), (4402, 0.02872814853482015), (4403, 0.037695251803000804), (4404, 0.0), (4405, 0.0), (4406, 0.0), (4407, 0.0033173901935479246), (4408, 0.0), (4409, 0.0025211780579558235), (4410, 0.0), (4411, 0.002172750642469467), (4412, 0.008375126016394903), (4413, 0.0), (4414, 0.0), (4415, 0.0), (4416, 0.002985333577702092), (4417, 0.0), (4418, 0.0033309126153688567), (4419, 0.0026439719893291574), (4420, 0.002674280774418094), (4421, 0.0), (4422, 0.002620883442152452), (4423, 0.0032887293797678515), (4424, 0.0), (4425, 0.0), (4426, 0.0039806312232610235), (4427, 0.002533334775450861), (4428, 0.0024082352367095087), (4429, 0.002202062550120158), (4430, 0.007485544625895457), (4431, 0.0076460344703171874), (4432, 0.006257829146207155), (4433, 0.0), (4434, 0.0), (4435, 0.009657090753751579), (4436, 0.019687104256688303), (4437, 0.0), (4438, 0.004422951263287812), (4439, 0.0), (4440, 0.017448623973568583), (4441, 0.004382409607814832), (4442, 0.009322506640795744), (4443, 0.03551727755420178), (4444, 0.009365545280548903), (4445, 0.0019039356006044577), (4446, 0.002782149984041176), (4447, 0.0), (4448, 0.0026486240455653193), (4449, 0.0), (4450, 0.0267824498100394), (4451, 0.0), (4452, 0.03701313059753552), (4453, 0.0), (4454, 0.0), (4455, 0.0), (4456, 0.04486868834608456), (4457, 0.0), (4458, 0.0030247899889488173), (4459, 0.006319462824825346), (4460, 0.0), (4461, 0.0024415519508728923), (4462, 0.005213474094856587), (4463, 0.0), (4464, 0.005865917370922849), (4465, 0.019123743707399044), (4466, 0.020787788619053546), (4467, 0.006785277754309837), (4468, 0.004028035082793066), (4469, 0.012008625600884143), (4470, 0.007371133673986453), (4471, 0.002689451482618859), (4472, 0.0024516055231321734), (4473, 0.0022088482857684994), (4474, 0.014977388808916112), (4475, 0.012791476247212132), (4476, 0.002170214823496106), (4477, 0.011228675186954685), (4478, 0.0), (4479, 0.0023358563951205434), (4480, 0.0), (4481, 0.011167684757927798), (4482, 0.015224543828703427), (4483, 0.0), (4484, 0.0033814476312483688), (4485, 0.0), (4486, 0.014142096503967725), (4487, 0.002498674942563265), (4488, 0.0398742007505353), (4489, 0.0026898571212910427), (4490, 0.00847884672726767), (4491, 0.0), (4492, 0.019899656515150927), (4493, 0.0), (4494, 0.008076927428852684), (4495, 0.002716533945847962), (4496, 0.0), (4497, 0.002655261120508835), (4498, 0.0), (4499, 0.0), (4500, 0.0), (4501, 0.0025623314809338047), (4502, 0.008778213671318655), (4503, 0.05019632180888006), (4504, 0.017262945955099834), (4505, 0.002684540711662958), (4506, 0.0), (4507, 0.002913088748170219), (4508, 0.0), (4509, 0.0), (4510, 0.012406120488644512), (4511, 0.009055944146683145), (4512, 0.013096663788746785), (4513, 0.0038162595268601725), (4514, 0.00558021931038109), (4515, 0.0051336282414842765), (4516, 0.0029082392469185234), (4517, 0.00719281811293204), (4518, 0.005600386434985414), (4519, 0.0), (4520, 0.0025106563620273807), (4521, 0.003165624870078883), (4522, 0.00779142357392963), (4523, 0.006839334010413384), (4524, 0.01334410473565314), (4525, 0.0), (4526, 0.0), (4527, 0.005304592026024581), (4528, 0.0027542947624417113), (4529, 0.003400501052237265), (4530, 0.002480367673515684), (4531, 0.01576425025629922), (4532, 0.0), (4533, 0.03179699053985204), (4534, 0.022503792380745718), (4535, 0.0028386710230197294), (4536, 0.0024230497488252263), (4537, 0.006005299509575736), (4538, 0.028714680514426785), (4539, 0.0), (4540, 0.0027251255860746932), (4541, 0.0), (4542, 0.0), (4543, 0.011258339788766718), (4544, 0.0031638437420695442), (4545, 0.0027445443902041006), (4546, 0.009241565345370469), (4547, 0.0), (4548, 0.026746394406841203), (4549, 0.0), (4550, 0.00245867485009386), (4551, 0.01063669190610985), (4552, 0.0047819144626108975), (4553, 0.010220370619708466), (4554, 0.02471715878629297), (4555, 0.003822393043576866), (4556, 0.0), (4557, 0.0075049104273801175), (4558, 0.0), (4559, 0.0), (4560, 0.0), (4561, 0.0), (4562, 0.0), (4563, 0.0026006699960084098), (4564, 0.006324868664687003), (4565, 0.0), (4566, 0.0026735546109579985), (4567, 0.0024239308498221444), (4568, 0.0), (4569, 0.0), (4570, 0.0), (4571, 0.00403004995905347), (4572, 0.0031126376024216513), (4573, 0.002458614741936614), (4574, 0.002715543513395254), (4575, 0.002683455745897461), (4576, 0.013324419282033591), (4577, 0.0), (4578, 0.0), (4579, 0.007706345424758964), (4580, 0.0), (4581, 0.00714095674579137), (4582, 0.004115089528140448), (4583, 0.015509138101404299), (4584, 0.0029816502268501877), (4585, 0.004316825219797293), (4586, 0.004803874390034195), (4587, 0.004396915493480532), (4588, 0.04007474190152629), (4589, 0.0029684950554232457), (4590, 0.03020404924689443), (4591, 0.006649489713339692), (4592, 0.0), (4593, 0.00795009926001135), (4594, 0.0624699521049894), (4595, 0.004991963728483641), (4596, 0.01157915335776268), (4597, 0.0), (4598, 0.001989708285475718), (4599, 0.0), (4600, 0.0), (4601, 0.007825524342012363), (4602, 0.031946639438847776), (4603, 0.008493147032227946), (4604, 0.0025498804584698246), (4605, 0.010113684386539628), (4606, 0.0032107990543004962), (4607, 0.003682819782953627), (4608, 0.021634723847876198), (4609, 0.0), (4610, 0.013579403390591705), (4611, 0.0033805137878272673), (4612, 0.008900541314353926), (4613, 0.0), (4614, 0.09362226751043302), (4615, 0.0), (4616, 0.0023428090596489324), (4617, 0.013145152122535166), (4618, 0.0), (4619, 0.010604411831016968), (4620, 0.0023172719562090504), (4621, 0.004820847396153737), (4622, 0.0), (4623, 0.011646241076454062), (4624, 0.007497150714487852), (4625, 0.0026333505042846904), (4626, 0.002050481727273585), (4627, 0.015347594022472879), (4628, 0.0), (4629, 0.007458366306468024), (4630, 0.005173595112168346), (4631, 0.0), (4632, 0.002990015272819319), (4633, 0.002980571206173481), (4634, 0.0023665371862373764), (4635, 0.0), (4636, 0.0021387597745254486), (4637, 0.01687894953209105), (4638, 0.0023135084446129625), (4639, 0.004827393660535322), (4640, 0.017919357514542884), (4641, 0.03444472756108918), (4642, 0.005444385938077968), (4643, 0.0026087964121890832), (4644, 0.0), (4645, 0.028339248076720037), (4646, 0.005882073074407981), (4647, 0.0), (4648, 0.0), (4649, 0.008361680356271672), (4650, 0.0029227923349272288), (4651, 0.0), (4652, 0.006959441062191512), (4653, 0.005640484385845354), (4654, 0.0), (4655, 0.0), (4656, 0.007629219763180772), (4657, 0.0027276694223573304), (4658, 0.0199904648539231), (4659, 0.02357182024639271), (4660, 0.008816293072121556), (4661, 0.0063374866531172944), (4662, 0.0), (4663, 0.03279450213536399), (4664, 0.00851609930001186), (4665, 0.004575605255719265), (4666, 0.006245750323282018), (4667, 0.0), (4668, 0.028690496767730323), (4669, 0.015492525466058647), (4670, 0.006848594424887116), (4671, 0.0), (4672, 0.0), (4673, 0.013777217612414589), (4674, 0.005742313437079809), (4675, 0.0), (4676, 0.0), (4677, 0.00722629149859136), (4678, 0.004715176978610752), (4679, 0.018725799861996212), (4680, 0.002711671174492814), (4681, 0.0), (4682, 0.04755830312517979), (4683, 0.0), (4684, 0.027592473887778392), (4685, 0.008939084683528015), (4686, 0.0025516433396604223), (4687, 0.0024798705471827005), (4688, 0.0), (4689, 0.04291454282972678), (4690, 0.0), (4691, 0.006248887308908623), (4692, 0.003165844538685759), (4693, 0.0024635743266324837), (4694, 0.002979939651503315), (4695, 0.011784777485543659), (4696, 0.003322605743681753), (4697, 0.004288320125964996), (4698, 0.005566055076203873), (4699, 0.008066732917858165), (4700, 0.0), (4701, 0.026815904466972306), (4702, 0.0), (4703, 0.033434123949672656), (4704, 0.0034647345174586603), (4705, 0.00362608174288888), (4706, 0.00281767098412393), (4707, 0.007924309197114074), (4708, 0.004578152801117167), (4709, 0.015887549483793922), (4710, 0.00903722525774957), (4711, 0.0), (4712, 0.002284689699683904), (4713, 0.002935920646335536), (4714, 0.0), (4715, 0.007168016491301171), (4716, 0.0), (4717, 0.002994680505447409), (4718, 0.0028444087831727806), (4719, 0.004912020457018882), (4720, 0.0), (4721, 0.03551125010985394), (4722, 0.0180897110972239), (4723, 0.0031009061546349694), (4724, 0.04701989643907341), (4725, 0.0), (4726, 0.005357462984646267), (4727, 0.031066252344282376), (4728, 0.0), (4729, 0.002436136228931941), (4730, 0.0), (4731, 0.025474366897877267), (4732, 0.002766230114419228), (4733, 0.005965512302462513), (4734, 0.0027408297226725648), (4735, 0.016832454872681257), (4736, 0.0), (4737, 0.0), (4738, 0.006565847350021075), (4739, 0.032994541915988086), (4740, 0.0), (4741, 0.0), (4742, 0.0), (4743, 0.0024746031040856907), (4744, 0.002055966077073321), (4745, 0.0), (4746, 0.005232586188847019), (4747, 0.013451885684782252), (4748, 0.007885550521461239), (4749, 0.0034036456368132157), (4750, 0.0), (4751, 0.0), (4752, 0.0018166836686154624), (4753, 0.0028919487884017663), (4754, 0.0), (4755, 0.0), (4756, 0.002632461050300673), (4757, 0.007508095222102859), (4758, 0.0), (4759, 0.0)]\n"
          ]
        }
      ]
    },
    {
      "cell_type": "code",
      "source": [
        "len(Recommendation_Score)"
      ],
      "metadata": {
        "colab": {
          "base_uri": "https://localhost:8080/"
        },
        "id": "oCC0BVE2ohAh",
        "outputId": "819a678b-56fe-4b4b-90f8-95e4a322efff"
      },
      "execution_count": null,
      "outputs": [
        {
          "output_type": "execute_result",
          "data": {
            "text/plain": [
              "4760"
            ]
          },
          "metadata": {},
          "execution_count": 51
        }
      ]
    },
    {
      "cell_type": "markdown",
      "source": [
        "**Get all movies sort based on recommendation system wrt to favourit movie**"
      ],
      "metadata": {
        "id": "MSZd-GEno8L2"
      }
    },
    {
      "cell_type": "code",
      "source": [
        "Sorted_Similar_Movies=sorted(Recommendation_Score,key = lambda x:x[1],reverse=True)\n",
        "print(Sorted_Similar_Movies)"
      ],
      "metadata": {
        "colab": {
          "base_uri": "https://localhost:8080/"
        },
        "id": "U7kMP02XpM_g",
        "outputId": "a3290e18-5988-4e9d-9e2b-92795c71e799"
      },
      "execution_count": null,
      "outputs": [
        {
          "output_type": "stream",
          "name": "stdout",
          "text": [
            "[(2692, 1.0000000000000002), (3276, 0.11904275527845871), (3779, 0.10185805797079385), (62, 0.10153560702418996), (2903, 0.10063787314386033), (1647, 0.09397055536069451), (4614, 0.09362226751043302), (4375, 0.09117512301489196), (45, 0.08999324643162435), (1383, 0.08425242441722804), (110, 0.08361784775029486), (628, 0.08334515876919321), (1994, 0.08287835345252217), (2558, 0.08267633224298852), (1070, 0.08104448918225104), (4378, 0.07894345402700793), (1341, 0.07732693809361939), (1977, 0.075103091680815), (3465, 0.07411089841255807), (3053, 0.0732438108456325), (4116, 0.0726415300398862), (1982, 0.07246569778553744), (2538, 0.06802035746289194), (3248, 0.06683400770968474), (3946, 0.06577120166835923), (3480, 0.06560363079666713), (254, 0.06351452702158422), (590, 0.06275727122098755), (3450, 0.06274272831079739), (1886, 0.06267985852941996), (4594, 0.0624699521049894), (2112, 0.062184351412217655), (84, 0.06182375996841289), (675, 0.061769915175723035), (3854, 0.061615662703783644), (1134, 0.061514483713532485), (3463, 0.060706045656025436), (4252, 0.06059815508412412), (4137, 0.06047703709769186), (1118, 0.05998954734066492), (4389, 0.0596273727908767), (3385, 0.05898328865604498), (4062, 0.05895899420588935), (282, 0.05879285017883317), (4398, 0.058481064958436045), (424, 0.05839654732699125), (2358, 0.05826769637272556), (3462, 0.05743407972843756), (2985, 0.05717355295839895), (2318, 0.05698746413620389), (1021, 0.056719999647689694), (3728, 0.05632573704373771), (3334, 0.05583492547104912), (1243, 0.055201583000724905), (1970, 0.052993906780234724), (2026, 0.052642687507598235), (4123, 0.05255262820554277), (137, 0.05248774397823477), (3360, 0.05160066999995516), (877, 0.05122309739076528), (292, 0.051104618723647945), (761, 0.05084432535535456), (873, 0.05064812913191185), (1030, 0.05058278967403506), (2191, 0.050557727650637894), (2944, 0.05045443000277769), (3655, 0.05037922104829881), (1148, 0.050225426987489726), (4503, 0.05019632180888006), (1102, 0.050169770764635274), (479, 0.04998855981862963), (3203, 0.04983492278974591), (1809, 0.049588147032597396), (213, 0.04933586361371152), (227, 0.04927271164177766), (519, 0.049135825613876145), (4268, 0.04898548881218139), (2630, 0.0489853482727464), (2417, 0.04897528956183359), (2133, 0.048958336941006056), (384, 0.048561612573762), (2214, 0.048366492959864386), (2550, 0.04836540834452216), (2579, 0.04816796125212759), (3395, 0.04816478815774589), (1878, 0.04805379516641419), (2294, 0.04801663260090347), (3010, 0.04759191926506061), (4682, 0.04755830312517979), (2374, 0.04735148075296253), (4724, 0.04701989643907341), (2653, 0.046973519282404216), (3374, 0.046592583707873975), (3294, 0.04624323347380142), (1023, 0.04614573925419343), (3974, 0.04564920918028946), (67, 0.045066178784059385), (412, 0.04506044778254056), (904, 0.0450492655992295), (3091, 0.04501840790205198), (2151, 0.04489615902161054), (4456, 0.04486868834608456), (2530, 0.044815101460282086), (4104, 0.04465112623584488), (1257, 0.044600867389806134), (1261, 0.04457086922041749), (1302, 0.044531189691413835), (3023, 0.04447257244459567), (3793, 0.044287917473408725), (3753, 0.04423112263249479), (637, 0.04421437006060526), (2971, 0.04416873561671524), (3408, 0.04404054432044927), (328, 0.043787258882396256), (2694, 0.04368554902472679), (1292, 0.04367380160992527), (615, 0.043627287472934005), (1821, 0.043610288303782635), (161, 0.04350231968158566), (1203, 0.043288373397248), (2745, 0.04326153862816203), (3518, 0.043195701521196984), (2893, 0.04318734363966616), (1248, 0.04316322790320628), (438, 0.04307224044369872), (277, 0.043059556789028404), (682, 0.043040904339148985), (3552, 0.04302665477519424), (2012, 0.0429385319377704), (4689, 0.04291454282972678), (673, 0.042776025120826545), (408, 0.04269519176334117), (1506, 0.04228253062122539), (455, 0.042133964403914086), (3559, 0.04212369037310279), (3973, 0.04191108684498303), (1358, 0.041830566738206405), (1393, 0.04178915438612747), (172, 0.041690425384126525), (4023, 0.04164010241839036), (3427, 0.04153586768402897), (1850, 0.041465070777208894), (2248, 0.041449056229883215), (360, 0.041404908811442376), (1871, 0.04119734499545335), (1713, 0.0410564645314358), (3249, 0.041017865222136844), (2321, 0.04096332211047458), (2869, 0.04055417917620709), (3209, 0.0404720498947614), (1675, 0.040396587516422826), (2846, 0.04034937166874806), (1369, 0.0402735566315348), (89, 0.04014807769109405), (4588, 0.04007474190152629), (3867, 0.04005546355863067), (2155, 0.04005254584556309), (4488, 0.0398742007505353), (2295, 0.03982190635490875), (185, 0.039816482153249476), (1320, 0.0397552488399696), (44, 0.03961780430399105), (3955, 0.0394911087324386), (1527, 0.03945167296049171), (3373, 0.038926472514427574), (2859, 0.03892062672772363), (210, 0.03887249407522501), (1652, 0.038750693067247356), (3947, 0.0387498132259521), (108, 0.03871190052571695), (632, 0.038521522590537656), (109, 0.038488255428289986), (3409, 0.03809551870081681), (126, 0.03803411394029396), (2308, 0.037868709144322124), (4403, 0.037695251803000804), (2187, 0.03763919382653322), (2622, 0.03748821698202329), (3486, 0.03732961088277606), (2540, 0.037262447116274064), (3511, 0.03711590996650716), (1024, 0.03708630975128549), (3652, 0.03705103879988626), (4452, 0.03701313059753552), (788, 0.03677578250603034), (1676, 0.036769000304041524), (4396, 0.036691969771720574), (4362, 0.03662915792058018), (3127, 0.03659072149026752), (3362, 0.03655333120186724), (774, 0.036534469820827545), (3280, 0.03633050021075281), (4064, 0.03630173900756347), (1085, 0.036238762035520095), (3498, 0.036163887622597285), (2212, 0.036114079291876294), (2316, 0.036050013277123524), (4005, 0.03604246095974138), (2716, 0.03603309472599683), (2375, 0.036029161296792664), (911, 0.035858249555777454), (710, 0.03578166731017038), (2018, 0.035633830953527644), (4443, 0.03551727755420178), (4721, 0.03551125010985394), (874, 0.03549031987804057), (2371, 0.03544860769227723), (1991, 0.03537660428888712), (4165, 0.03529172143254559), (1241, 0.03527069737667549), (694, 0.03517836781813186), (3470, 0.03501442704271949), (3045, 0.03500487119962277), (1272, 0.034794423140693), (2908, 0.03473069779062641), (2868, 0.03471057850484339), (3102, 0.03452469488743669), (830, 0.034474524685610713), (540, 0.03445972856479226), (1389, 0.034459120281340086), (4641, 0.03444472756108918), (2981, 0.034425832198861535), (818, 0.034397558098509876), (2109, 0.03435264766714196), (3731, 0.03430420032682722), (3351, 0.03422817266939724), (1568, 0.034072354414434715), (1379, 0.03405703604165396), (1702, 0.03401178055455822), (1311, 0.033946639952126795), (2123, 0.03394554340436231), (3255, 0.03386118439201842), (3556, 0.03384264898810407), (4209, 0.03371052248760337), (3315, 0.03368318725728787), (4152, 0.03364084318782469), (3330, 0.033615999671213884), (3983, 0.0334519178853037), (4703, 0.033434123949672656), (721, 0.033362453327836536), (1236, 0.03334196963686732), (1752, 0.03333938657742234), (578, 0.033278162659926364), (2122, 0.0331079795898047), (334, 0.033097160057045466), (3430, 0.03306988583370249), (1367, 0.033057346222861696), (4739, 0.032994541915988086), (3656, 0.03288836579668992), (4663, 0.03279450213536399), (3137, 0.03279268523839365), (1770, 0.032782547520737795), (4195, 0.03270387798303689), (3961, 0.032643242208811374), (3004, 0.03258468151220778), (387, 0.032522091160063736), (2365, 0.03251802786423902), (2476, 0.032443470505434197), (1464, 0.03242600299745583), (1837, 0.032402583006931975), (1063, 0.0323986861553641), (166, 0.03236744328857419), (462, 0.03225758483924036), (138, 0.0321965946966296), (2147, 0.03211836769637074), (3466, 0.03211481416037761), (935, 0.03207409713726259), (547, 0.032058111008167474), (4602, 0.031946639438847776), (1146, 0.0319327099582965), (2751, 0.031869762413311895), (864, 0.031860195855372704), (4533, 0.03179699053985204), (4096, 0.03176234276628577), (823, 0.03170971693957013), (65, 0.03168092911305668), (3377, 0.0316397347518423), (1195, 0.031602888634754564), (2517, 0.031513234738017475), (2100, 0.03146664009844136), (2621, 0.03144544408026539), (2082, 0.03137256966163153), (812, 0.03134464238097975), (3376, 0.031092236059193586), (1068, 0.031080086209754422), (4727, 0.031066252344282376), (1885, 0.030997524607939607), (1499, 0.03079566227930739), (3157, 0.030753179174541137), (179, 0.03070790332599037), (1868, 0.030647250708224407), (174, 0.030569480499441432), (3850, 0.030492114933685623), (1173, 0.03041346322798692), (1750, 0.030273505619146525), (3328, 0.030258041215121226), (787, 0.03023438267603657), (4590, 0.03020404924689443), (1043, 0.03019341492590414), (3597, 0.03019147046334424), (2023, 0.030168509278277092), (2807, 0.030117994968785394), (3720, 0.0301036537382075), (2014, 0.030095920732595115), (4004, 0.029992838221305277), (2413, 0.029928886003016547), (4272, 0.029924361661111024), (2710, 0.029887305918237964), (2037, 0.0298193260783485), (2443, 0.029803434615890054), (618, 0.029763727969072958), (530, 0.02974102103303271), (3880, 0.02973200671246555), (250, 0.02960515626621146), (3146, 0.029591429954173888), (1795, 0.029589075994988966), (1648, 0.029561843201275854), (1976, 0.02955519389532465), (2114, 0.02951345465301962), (2887, 0.029503613070800697), (2782, 0.029448976097656183), (3572, 0.02942918149314236), (2706, 0.02942274428884559), (3420, 0.029315121798530092), (4175, 0.02929330595563264), (2614, 0.02922582052124495), (193, 0.02921249104004702), (1973, 0.0291565741326436), (3326, 0.029136988159400246), (3814, 0.029102136897891293), (1788, 0.029045998553708447), (952, 0.02903108400449548), (629, 0.0290204466032395), (4035, 0.02884431322859591), (3313, 0.028787092659189745), (1046, 0.028771864585929834), (1405, 0.028769066044756327), (4402, 0.02872814853482015), (1363, 0.028717455504198457), (4538, 0.028714680514426785), (4668, 0.028690496767730323), (766, 0.028635970060155818), (1482, 0.028603312957890953), (976, 0.028498609827027066), (2481, 0.02847926123774088), (430, 0.02847444789611042), (112, 0.028472602360715568), (2198, 0.02846656289850006), (2102, 0.028465544090018308), (241, 0.02846230566947309), (2221, 0.028430482696010385), (3767, 0.02842946435184832), (1990, 0.028420140928695107), (2723, 0.028372600396951678), (693, 0.028339830117329535), (4645, 0.028339248076720037), (465, 0.02832340194230098), (371, 0.028251554740421538), (1398, 0.028222452550706816), (4177, 0.028217683821222087), (3701, 0.028203118886118317), (2487, 0.0281679357752627), (836, 0.028164079074357647), (1560, 0.028142719658602235), (428, 0.02794147636235222), (2876, 0.027758495244631032), (3871, 0.02774365781683595), (670, 0.027728288572825426), (2791, 0.027708494673946583), (2343, 0.027601570450441183), (4684, 0.027592473887778392), (3488, 0.027582122532805228), (1137, 0.027530878040813944), (421, 0.027491772196429475), (3174, 0.027436795179667704), (3344, 0.02738273881182292), (4160, 0.027334340235441686), (3574, 0.027301137102037593), (1500, 0.027299433109301795), (903, 0.02729379679139481), (3605, 0.027276268392402665), (1845, 0.027266134513996322), (1634, 0.027265975858920762), (1095, 0.027246132772978996), (284, 0.027210766517313724), (176, 0.027183803724459638), (3852, 0.02718070172661722), (3751, 0.027143246434604237), (1162, 0.027084968030862168), (3447, 0.026998497642944916), (593, 0.026983451854962905), (2802, 0.026900140164280786), (3959, 0.026839111166414742), (4701, 0.026815904466972306), (4450, 0.0267824498100394), (4548, 0.026746394406841203), (522, 0.026704190546478424), (2920, 0.026641402793516823), (2912, 0.02663795835188722), (2154, 0.026634248456284988), (1314, 0.026598285558358727), (4141, 0.026591237443928682), (3028, 0.02658445016958451), (167, 0.02657650964316937), (1205, 0.0265728266997193), (1430, 0.02653057804103265), (3688, 0.026503326352086184), (1720, 0.026475090126577602), (4242, 0.026461169972595094), (1847, 0.026430755901808753), (240, 0.026409645255112184), (852, 0.026315624754250797), (2013, 0.026313185451029335), (3684, 0.026220632227902815), (1059, 0.026187328256908955), (4283, 0.02617077662446087), (832, 0.026105036608453723), (381, 0.026093203409695034), (3904, 0.026076749500281174), (3167, 0.026076234240691328), (3154, 0.02606963846967903), (459, 0.026041390263338307), (2687, 0.02602772503646943), (2276, 0.026021038232895314), (2762, 0.025980223803704145), (3260, 0.02595611761350908), (3017, 0.025952831108870547), (2972, 0.025931096430882095), (2394, 0.02568905521652686), (25, 0.025600660315408183), (4294, 0.025578314593772924), (3573, 0.02554701781763868), (1721, 0.02553446122538159), (1060, 0.02552477461641701), (2467, 0.025524012657920793), (4354, 0.025503853369116338), (3156, 0.025482070893600085), (4731, 0.025474366897877267), (2011, 0.025123628978433867), (2094, 0.025107481873376494), (2048, 0.025093016553148457), (2761, 0.02505678587787833), (3285, 0.024986270155456014), (124, 0.024984856011144883), (1763, 0.02493463600599954), (3711, 0.02491200660691427), (1181, 0.024908929074089373), (1351, 0.02487557568580203), (967, 0.024840892469807127), (1749, 0.02481438766283645), (345, 0.024810895755894062), (3963, 0.02478711540965193), (1572, 0.02474448545068361), (2408, 0.024729842506338005), (269, 0.02472221101532218), (4554, 0.02471715878629297), (3428, 0.02471132998634178), (1999, 0.024674542916240664), (3746, 0.024584595760600816), (1544, 0.02457419064673379), (824, 0.02455387204481399), (657, 0.024535628803477472), (2689, 0.0245274971652926), (3801, 0.02451470738565642), (2020, 0.024235620690403418), (116, 0.02423134884513523), (1530, 0.024230448295384968), (3692, 0.02422552227377744), (2560, 0.02417174190316552), (3872, 0.02406558899584981), (942, 0.02404326236955836), (2173, 0.024007109121078535), (3835, 0.02397354322931111), (2484, 0.023915177057249912), (3446, 0.023762507383910385), (2950, 0.023732959516752656), (885, 0.023729068693320123), (1412, 0.023629897886256662), (2638, 0.023625589296039667), (3810, 0.023577201281668243), (4659, 0.02357182024639271), (2649, 0.023570058967688802), (155, 0.02353776545091888), (1057, 0.023438323371200435), (2713, 0.023432161916103623), (3773, 0.023394028419571663), (1283, 0.023375973429109326), (175, 0.02333053148393252), (3868, 0.023327313721090374), (2699, 0.023299191407595378), (1865, 0.023291389344977702), (29, 0.02328827758320444), (1186, 0.02322926487171158), (2718, 0.023196744594786774), (3153, 0.023168777515517325), (1997, 0.023141379590983783), (4281, 0.02307317169422645), (2040, 0.02297186833581926), (1585, 0.022947751322156356), (706, 0.022883981926318162), (2647, 0.022788303108140062), (1935, 0.022777338759990613), (3891, 0.02265111548778183), (4053, 0.02264973231545321), (68, 0.022589410734540884), (3839, 0.022556611534142262), (15, 0.022556564866386047), (3913, 0.022507391852193012), (4534, 0.022503792380745718), (515, 0.02249983309611588), (1362, 0.02248646399149896), (1015, 0.022477148208897783), (691, 0.02233080156933897), (3095, 0.022323783766467344), (261, 0.022323692944172458), (88, 0.022301178722772527), (2157, 0.022245163748780373), (1996, 0.022232185991421106), (1141, 0.02222138809003532), (2096, 0.022163124512581702), (641, 0.022162243129839828), (613, 0.022103917336711854), (1515, 0.02206174716627111), (4050, 0.022052871866018453), (3483, 0.022015857129812924), (398, 0.021995497360737783), (2449, 0.02198506693238848), (1505, 0.02198237314728472), (3778, 0.021876216116220832), (917, 0.021822162443509215), (257, 0.0218046208143701), (4128, 0.0217638355267029), (4288, 0.021746012783557662), (672, 0.02173947827421719), (1492, 0.021715580702974267), (2210, 0.02165600559210605), (4608, 0.021634723847876198), (3345, 0.021626760319634543), (1707, 0.021603149809261358), (2822, 0.021553262968398205), (1757, 0.021518240078453515), (2777, 0.02151782398151878), (1629, 0.02146398561720737), (3384, 0.021404263877822273), (2668, 0.02139492682328308), (2646, 0.02135813581846076), (1861, 0.021326685199860584), (1033, 0.021320167194337766), (442, 0.021288297567688547), (2598, 0.021287142760911603), (3916, 0.02128040043462384), (4189, 0.02126938217959492), (3068, 0.0212542909977071), (1270, 0.021212009876187387), (3433, 0.021185525106043747), (1942, 0.02115515210916598), (1397, 0.021082777924745756), (3492, 0.021034828753309153), (1985, 0.021011193896198634), (3665, 0.021010623387236357), (4016, 0.021002760049322427), (3629, 0.02093769026694279), (3222, 0.020922028622940618), (1385, 0.020819608375770078), (4466, 0.020787788619053546), (1817, 0.020764535380750283), (3469, 0.02074519241046779), (2440, 0.020740361118753315), (763, 0.020692910816374387), (4176, 0.020688748123160124), (1678, 0.020674657614782856), (1671, 0.020621715808903356), (2055, 0.020617915628473395), (2174, 0.02061080199928024), (3553, 0.020608214844184295), (4395, 0.02048882844913982), (1510, 0.020480695787819872), (3319, 0.020423232922267758), (3471, 0.02041359884625035), (1003, 0.020405588630474578), (4382, 0.020364996372131912), (3927, 0.02035517822791571), (2301, 0.02034639105331546), (870, 0.020332227193004898), (3978, 0.02031608323873614), (3083, 0.020305822398005782), (1471, 0.020290800155578565), (3352, 0.02025320532872813), (1132, 0.020242473075204694), (2768, 0.020220195133117708), (1017, 0.020210828878643075), (643, 0.02014941724072286), (2808, 0.020148475915238922), (2582, 0.02010413858802928), (3923, 0.02007082784129759), (2501, 0.02005950509476196), (2524, 0.020004759477924065), (4658, 0.0199904648539231), (2995, 0.019960329583145846), (1838, 0.01993993693503512), (3254, 0.019934000066389033), (3504, 0.01991643969718866), (330, 0.0199075769889251), (4492, 0.019899656515150927), (3508, 0.019891763683695312), (1098, 0.019880281477287143), (3857, 0.019866204573821197), (779, 0.019778519028090434), (1657, 0.019728179313836143), (2841, 0.019694680960737995), (4436, 0.019687104256688303), (329, 0.019680187212331633), (3934, 0.01967145213089218), (1927, 0.01966694538109333), (2867, 0.0195693467927074), (1052, 0.019497578868985087), (4156, 0.019497433893036695), (383, 0.019467817150654654), (4007, 0.01940052142068012), (2362, 0.019305653311181035), (463, 0.019270774055312006), (142, 0.01924033807026037), (4088, 0.019228802670990832), (947, 0.01918803569573748), (2469, 0.019146859249126916), (669, 0.019132321637644396), (145, 0.019128060100674707), (4465, 0.019123743707399044), (4380, 0.01909520187198896), (566, 0.019085435302379775), (1202, 0.019084727907330738), (2767, 0.019020439331965705), (2618, 0.01901317620959763), (2736, 0.019008870345464543), (199, 0.018959792932713843), (768, 0.018897801274291616), (3853, 0.01885012676492403), (3111, 0.01884976070242437), (1386, 0.018833157927183344), (2932, 0.01880724873550215), (4203, 0.01875506443394477), (4149, 0.018728310874684195), (4679, 0.018725799861996212), (2760, 0.018712458702392777), (204, 0.018686269670332167), (553, 0.018685764365025587), (3144, 0.018683983409944746), (3403, 0.018660913660548617), (4028, 0.018657044220207194), (2607, 0.018638119416954754), (33, 0.01861232606863544), (2650, 0.018583354119550942), (3284, 0.018580379689813888), (46, 0.01855499596172605), (83, 0.018501078945740608), (2237, 0.01848046943203094), (1937, 0.01843060245413057), (3097, 0.018399578507274316), (968, 0.018377219999664365), (1443, 0.01831419707001223), (1074, 0.018313355636506795), (3000, 0.018313196560767752), (2645, 0.01830642082683205), (160, 0.018298437262288463), (2368, 0.018295323351875652), (2513, 0.01827689787151043), (123, 0.018256088885426403), (3416, 0.018240189933616636), (689, 0.018231244849310154), (757, 0.01817147890581409), (364, 0.018118667495208757), (1872, 0.01809054728158338), (4722, 0.0180897110972239), (3875, 0.018078943775698537), (1226, 0.01807346085546737), (1175, 0.018050829441643254), (3828, 0.017989862890400703), (147, 0.01798970888682872), (4081, 0.017985275912985557), (2795, 0.01796385479440139), (4640, 0.017919357514542884), (808, 0.01788485830207994), (858, 0.017862483039744723), (222, 0.017856013028360415), (2035, 0.01784169487590637), (1112, 0.017814761595896293), (2167, 0.017800731948519916), (2070, 0.01778560253767322), (1365, 0.017784588946112633), (1843, 0.017777435408004364), (1384, 0.017767725898371563), (1129, 0.017757748873229732), (61, 0.01765879545263525), (342, 0.017625924860547256), (1274, 0.01759247947637768), (4349, 0.017587782255816413), (2823, 0.017538691962827594), (106, 0.01751175660174081), (796, 0.017485082104493087), (4012, 0.017483243197011), (4440, 0.017448623973568583), (3085, 0.017441414767477736), (2553, 0.01743749009788074), (1579, 0.017412512530218242), (2093, 0.017353497854371687), (144, 0.01735016450551756), (1245, 0.017337805979707892), (4504, 0.017262945955099834), (1064, 0.01723362178999547), (3129, 0.01715175212683575), (1493, 0.01711361465972392), (3279, 0.01710645888961131), (1403, 0.017089358343226595), (3528, 0.01706437830544422), (409, 0.01705486437084937), (4321, 0.01702852191740664), (3036, 0.01700523802225701), (3766, 0.016963318783005426), (2207, 0.01695941166229125), (173, 0.016957544655049187), (3675, 0.016956370936491695), (2742, 0.016951046211206904), (794, 0.01693869060184897), (2119, 0.016936626721809577), (203, 0.016923915753796284), (916, 0.01691713963929492), (776, 0.016907533747342926), (4399, 0.01690382353828356), (1759, 0.016900019192624616), (2654, 0.01688244803967212), (4637, 0.01687894953209105), (4735, 0.016832454872681257), (3098, 0.016828520885194154), (677, 0.016822470099348855), (1377, 0.016773445546711195), (2110, 0.01675128583620694), (3226, 0.016748323767747708), (2712, 0.01674671125138117), (279, 0.01674439634537899), (212, 0.01673880855230024), (3213, 0.016734398067455608), (795, 0.016724564291810132), (2149, 0.016711990529519688), (2406, 0.01670855612785973), (3228, 0.01664828857203829), (3976, 0.016645328263089863), (2258, 0.016645098924895154), (3275, 0.016625701732328566), (937, 0.01661899895760169), (433, 0.016594829303328437), (3019, 0.016559249698570755), (2161, 0.016494606341200452), (638, 0.01648509407336536), (860, 0.01648121210076868), (2347, 0.016442297909857247), (1275, 0.016413131014958164), (1609, 0.01638052278217862), (218, 0.01632934566099434), (209, 0.016326637209159098), (4244, 0.016296015414201667), (551, 0.01627796017830193), (876, 0.016236183953495645), (1417, 0.016231265772845838), (1184, 0.016227879133609922), (1216, 0.016219260534941975), (3883, 0.01621442671515648), (511, 0.016166552419491668), (280, 0.01613776228166816), (3043, 0.016102860661864705), (853, 0.016077023266484143), (1254, 0.016063876077209337), (1445, 0.01603828875201241), (533, 0.015999131525746606), (586, 0.015989792128490086), (2917, 0.01597938404955991), (1716, 0.01595280716099609), (3012, 0.015947957006243817), (1018, 0.015920831393077692), (4709, 0.015887549483793922), (701, 0.015878620948365185), (1774, 0.015876691830685904), (458, 0.015871922723417132), (3640, 0.015863756083686856), (2275, 0.015828663325572444), (1523, 0.01582603029387077), (2353, 0.015804215693918208), (4246, 0.015799090880616876), (343, 0.015792700017701194), (692, 0.01577967045091189), (3541, 0.015766542718863782), (888, 0.01576518012931865), (4531, 0.01576425025629922), (1045, 0.01574002225933099), (48, 0.015673410180680997), (2290, 0.015664174994228695), (3895, 0.01565752388060252), (2996, 0.01565414109129707), (3661, 0.015645774253423853), (450, 0.015608519656568696), (1361, 0.015592555033603864), (3299, 0.015574789122903311), (85, 0.015565415762667168), (2229, 0.015545140188962477), (896, 0.015539368002936158), (2885, 0.015530662654673113), (4583, 0.015509138101404299), (4669, 0.015492525466058647), (1741, 0.015474293874286438), (481, 0.015469390328392466), (374, 0.015464220140309494), (1512, 0.015450085039927702), (867, 0.01544727569115717), (3642, 0.015425038196230128), (1325, 0.015417810296419086), (1906, 0.015402172315287377), (3694, 0.015394318681617915), (762, 0.015386234332469932), (2376, 0.0153817068352748), (3086, 0.01536640033114927), (4627, 0.015347594022472879), (4134, 0.015345894727775013), (40, 0.015305064222782005), (3306, 0.0152976874344642), (2254, 0.015264388099765314), (358, 0.015243912796223521), (4482, 0.015224543828703427), (3713, 0.015221954853509278), (21, 0.015211614027840471), (296, 0.015204844606541187), (929, 0.015192476876984537), (3407, 0.01518976872226175), (1119, 0.015187159155518683), (287, 0.015182057023698535), (3797, 0.01518071341031898), (4231, 0.015173882829877293), (2522, 0.015160218557647749), (2298, 0.015147423678755942), (2027, 0.015119115703942202), (622, 0.015114877441477752), (1687, 0.015081911122046706), (1115, 0.015076849560100525), (2639, 0.015060665745970911), (1853, 0.01505657749135978), (620, 0.015054170784840129), (2196, 0.015042495092810679), (3580, 0.01503913551909868), (3777, 0.015029275746340404), (4474, 0.014977388808916112), (1880, 0.014966021703830558), (51, 0.014965979411782005), (3253, 0.014939900433374387), (4178, 0.014936139212549819), (429, 0.014907793983901893), (502, 0.014891603243137274), (3437, 0.014891313208532216), (3375, 0.01488073605002588), (1897, 0.014874092588962712), (437, 0.014872318949017258), (3862, 0.014856134944777392), (43, 0.01485128947451649), (1224, 0.014848645936442459), (879, 0.014840329123637929), (543, 0.014815140222086211), (1983, 0.014814705291966627), (4314, 0.014801136061606185), (1290, 0.014782895037111703), (447, 0.01477043861892446), (4379, 0.014738068688333517), (1919, 0.014720185971196651), (584, 0.014718536886619442), (1682, 0.014708572688974), (2919, 0.014694787924982376), (1278, 0.014690118271765456), (2053, 0.01468579094084932), (2334, 0.01464101872741367), (2931, 0.014636190656546156), (2644, 0.014605903574472976), (1779, 0.014605505493867627), (895, 0.014602672301442824), (3421, 0.014570533357246248), (208, 0.014564317291621245), (2939, 0.014557655967115495), (652, 0.01454961180007468), (2784, 0.014539202721422928), (3699, 0.014528971303086509), (1337, 0.014516320014404569), (1740, 0.014510564426729728), (3558, 0.014470291425645935), (470, 0.014468577429467193), (1895, 0.014460083088388847), (1116, 0.014454249635706786), (4068, 0.014451184354152644), (899, 0.014448377276744431), (1114, 0.014436591435942689), (1192, 0.0143731268998252), (1335, 0.01436626555567386), (3210, 0.014348223596401474), (3670, 0.01434623681044903), (1232, 0.0143343580423758), (1058, 0.014326445616965337), (482, 0.014318865406517202), (957, 0.014312073755375087), (2284, 0.014301377390974097), (510, 0.014297192125796509), (842, 0.014292048885850284), (934, 0.014284810246050517), (2695, 0.014242176019135196), (2815, 0.014233614635509397), (1152, 0.014231082791516457), (986, 0.014213770613722879), (1509, 0.014205028339216105), (370, 0.014201587388961136), (3807, 0.014150045430268142), (2988, 0.014148959205037392), (4486, 0.014142096503967725), (988, 0.014128718827695012), (1483, 0.014114297878227614), (4000, 0.0141093375231781), (1252, 0.014093237016036805), (1331, 0.014069567805799927), (2727, 0.014058481372388212), (181, 0.014055923457905324), (534, 0.01404914416124758), (1621, 0.014022952914941236), (2961, 0.014001569133349955), (406, 0.013996421309263717), (989, 0.013990992406489752), (3356, 0.013971822886881386), (3295, 0.013969150929514713), (2045, 0.01394172146967018), (2216, 0.013940899929706329), (1413, 0.013922521675538473), (2910, 0.013917633478282367), (4255, 0.013906645140043451), (1343, 0.013894810017357654), (252, 0.013883632146620807), (1401, 0.013872719544761243), (4387, 0.013870068941198365), (251, 0.01386796645536727), (799, 0.013866844082999446), (3535, 0.013840663151712783), (1035, 0.01381887453098141), (1967, 0.013818817488233139), (3370, 0.013807400089293192), (1876, 0.013797207843950315), (1461, 0.013796549363393393), (676, 0.013790445822426275), (4673, 0.013777217612414589), (231, 0.013776482994224609), (1481, 0.01376749105730235), (1945, 0.013747456665658204), (87, 0.01373171111603307), (317, 0.013724375771018175), (3660, 0.013717303640745986), (2468, 0.013656866052808383), (18, 0.013639824714195078), (1478, 0.013621453691624496), (2024, 0.013621436615674162), (2366, 0.013612976268805012), (52, 0.013600804094978335), (3861, 0.013592128894296429), (1465, 0.013588900862715185), (775, 0.013580167832495795), (4610, 0.013579403390591705), (3741, 0.013577240544232178), (3312, 0.013575887940800115), (753, 0.013549278832237005), (1591, 0.013536957187268663), (1815, 0.013530410151107166), (905, 0.01352101955738616), (4374, 0.013502565967730248), (2224, 0.013497855033642384), (814, 0.013495540125448385), (3708, 0.013495528700764464), (1986, 0.013493449677128452), (545, 0.013484509510887666), (4124, 0.013459664088655683), (4747, 0.013451885684782252), (878, 0.013435345188327827), (3819, 0.013430728987528888), (2805, 0.013422971549413958), (276, 0.01341224303676169), (760, 0.013408755868769412), (2632, 0.013395941670378388), (496, 0.01338153519632825), (2460, 0.013377406312830296), (1128, 0.01336917289326851), (236, 0.013361417399169883), (2486, 0.013345114807622599), (4524, 0.01334410473565314), (2008, 0.013341066428520627), (4576, 0.013324419282033591), (1665, 0.01331864452408986), (4121, 0.013294058510116138), (332, 0.013291392972049707), (3630, 0.01324869338675674), (1107, 0.013234704742594434), (866, 0.013223819809213746), (1183, 0.01320329015011182), (207, 0.013202287890523336), (2177, 0.013196531145282499), (1864, 0.013194620422679212), (3119, 0.013176467645873434), (3958, 0.013163592055294063), (2066, 0.013148930864670519), (3110, 0.013148818620795283), (4617, 0.013145152122535166), (1667, 0.01310952332403104), (1317, 0.013109511838372386), (4512, 0.013096663788746785), (356, 0.01308537921357196), (906, 0.013082769368796992), (604, 0.013082263186631317), (1802, 0.013074188414515003), (829, 0.013067152965588674), (2121, 0.01306012847212727), (1255, 0.01303457708815551), (1239, 0.013018313167508915), (2969, 0.012999702326476785), (2383, 0.01299631104498859), (1796, 0.01297865306000005), (1360, 0.012946114937554584), (1680, 0.012918757443092243), (1237, 0.01291252967933191), (13, 0.012904730427356218), (4227, 0.012903133125254939), (742, 0.012895262349341567), (75, 0.01289274644953283), (1595, 0.012872864495596305), (7, 0.012848827437220958), (1681, 0.012832438035811505), (875, 0.012828620175361183), (900, 0.012826494884294269), (963, 0.012823359786905112), (3318, 0.012820183098572135), (1342, 0.012818109313890118), (125, 0.01280153115862705), (1000, 0.012794194783292075), (4475, 0.012791476247212132), (1739, 0.012790065058483046), (70, 0.012784303893544425), (3325, 0.012773806745111468), (833, 0.01276897933929334), (678, 0.01274236717803005), (3659, 0.012739067427470985), (537, 0.012728576163409104), (2978, 0.012709399900374011), (1519, 0.012685818153036859), (2874, 0.012663043704713342), (1293, 0.012627559394743812), (2252, 0.012593659017289198), (3076, 0.01257842856312464), (407, 0.012576162839507812), (3768, 0.01255985800340293), (844, 0.012547501024285899), (2617, 0.012541240022816237), (1654, 0.012540361812405913), (3750, 0.012526912155733275), (2000, 0.012490298103748573), (2803, 0.012484307978364386), (2963, 0.012480046815579984), (1376, 0.01247493078257638), (1988, 0.01244972542589305), (1787, 0.012443118349372891), (3637, 0.01243969337920028), (609, 0.012436169884984385), (4337, 0.01241614564808369), (527, 0.01240842665711394), (4510, 0.012406120488644512), (1220, 0.012381759539653548), (653, 0.012376187134664488), (4265, 0.012370029362516655), (1005, 0.012367191754578264), (1436, 0.012367187829493916), (418, 0.012363494963790644), (1567, 0.012359315313796793), (2412, 0.012351300951143734), (3387, 0.012348352343140651), (936, 0.012343388786512692), (800, 0.012330546240660198), (654, 0.012319247296879221), (1185, 0.012314336497917706), (3108, 0.012312576591772557), (733, 0.012307534826604473), (1104, 0.012302637341744901), (667, 0.012288709705708507), (648, 0.012277887423853679), (2052, 0.012252144053320252), (1934, 0.012249159605660148), (1799, 0.012247251568054002), (732, 0.01224641375041674), (664, 0.012230253012714354), (635, 0.01220849869170823), (2447, 0.012200094819470354), (928, 0.012197504397565779), (201, 0.012194922563079247), (1047, 0.01217801791383598), (1432, 0.012175283212771792), (1009, 0.012169952798027534), (3849, 0.012140140403992344), (190, 0.012138750265674797), (1949, 0.012117653116043523), (3507, 0.012116777808516593), (2780, 0.012102460227641366), (1542, 0.012101632206248939), (918, 0.012096049309795825), (4095, 0.012071832731641165), (2771, 0.012070015475522526), (1157, 0.01205422217234051), (341, 0.012040276910772649), (2474, 0.012025234810505206), (1714, 0.012011453185764857), (2235, 0.012010628945253022), (4469, 0.012008625600884143), (1812, 0.011945304239266107), (1832, 0.01193753541033045), (1958, 0.011930646176003007), (130, 0.01192686767667918), (1194, 0.011920690598639653), (2788, 0.011899567306988528), (82, 0.011894144332662658), (1407, 0.011883388438677927), (684, 0.01187270882417908), (1310, 0.011857401788079418), (1099, 0.011857342491158735), (3999, 0.011834468356820938), (2005, 0.011813232567949578), (3747, 0.011810499294329865), (452, 0.011805040282430308), (2602, 0.011802879057726746), (4695, 0.011784777485543659), (523, 0.011754752241863661), (149, 0.011746502833415905), (1215, 0.011742448125855624), (1870, 0.011742165690093415), (86, 0.01173384748972156), (4344, 0.011726694019006622), (560, 0.01172379653670664), (1419, 0.011702375166221541), (1396, 0.011694125599156472), (931, 0.011680378019562551), (1455, 0.01167424438890572), (2145, 0.011667846006835809), (3065, 0.011652341121195921), (3317, 0.011650735201311341), (4623, 0.011646241076454062), (2697, 0.011645129052455466), (4148, 0.011642710729146655), (3756, 0.011635471912017536), (2336, 0.011622841866254629), (2913, 0.01160626617783045), (313, 0.011588694147227203), (4596, 0.01157915335776268), (2280, 0.011578581065887973), (1264, 0.011577457331668603), (1090, 0.011525766979697765), (2306, 0.01151959756185731), (809, 0.011480022502538125), (1303, 0.011468723368048096), (244, 0.01143443854593537), (1761, 0.011427305445703436), (1989, 0.01142503399138228), (1406, 0.011423567351703278), (2925, 0.01142089851991689), (1266, 0.011408300040395454), (500, 0.01139692902865105), (2421, 0.011393352490635826), (1249, 0.01138985485035662), (2178, 0.01136910223550675), (825, 0.011336234973378516), (72, 0.011335815706635272), (2057, 0.011335341988602587), (790, 0.011328819098868292), (3957, 0.01130737537328342), (1053, 0.011304684933479211), (4216, 0.011295742026656222), (2688, 0.011271200116927367), (2918, 0.011260910099604489), (3582, 0.011260065662471546), (4543, 0.011258339788766718), (3240, 0.01124934087059656), (915, 0.011247273022572188), (4477, 0.011228675186954685), (1230, 0.011218996224828769), (1873, 0.011193286227882262), (2206, 0.011172300569001002), (4481, 0.011167684757927798), (1262, 0.011152412806465568), (1420, 0.011136701240334803), (2568, 0.011135731584107677), (402, 0.011099556911853733), (1630, 0.011090579239151285), (827, 0.011088505143461765), (2480, 0.011086109421716207), (1012, 0.011077486485627779), (1655, 0.011075509113125725), (3794, 0.011070808538151015), (1019, 0.011046732439510036), (2625, 0.011042436956048847), (1957, 0.011037137447284982), (1054, 0.01103699944625331), (274, 0.011035641459288753), (1852, 0.011027128083942173), (719, 0.0110210698574657), (2555, 0.011014281773315506), (322, 0.01101127421559997), (1551, 0.010990327322037603), (1696, 0.010965269002219375), (1773, 0.010955897824683977), (2346, 0.010927891419824691), (1992, 0.010919745889197363), (4187, 0.010905512014133228), (2759, 0.010896125543937797), (3992, 0.01086432393823145), (417, 0.010857053144102818), (532, 0.010853692109028056), (321, 0.010853546219663458), (273, 0.010851325289581416), (683, 0.010850382331213302), (281, 0.010850110374057987), (3775, 0.0108468683084845), (3118, 0.010846767325738211), (4325, 0.010841428602515578), (538, 0.010837176004175738), (57, 0.01083500847822855), (2429, 0.01083487917790696), (949, 0.01083005059414121), (2062, 0.010827602309256914), (555, 0.010805867563405057), (3993, 0.010799299812975914), (1789, 0.010793270926753161), (304, 0.010776123342338814), (695, 0.010765812704594107), (1858, 0.010754515078436715), (2769, 0.01074689549252221), (4293, 0.010724969879060454), (2680, 0.01071879880329518), (3524, 0.010712545862383622), (4235, 0.01070958900129352), (801, 0.010706865530756117), (1259, 0.010683260447850175), (4164, 0.010674454149190899), (1923, 0.010674188244428694), (291, 0.010654114070260628), (3094, 0.010653611691713995), (4551, 0.01063669190610985), (4032, 0.010624262915911632), (3951, 0.010623974779247283), (148, 0.010606847740924956), (4619, 0.010604411831016968), (3860, 0.01059758769088297), (170, 0.01059041937272097), (1754, 0.010587649198346935), (3924, 0.010565245191918269), (266, 0.010555380119079246), (2739, 0.010547486722511865), (2464, 0.010540963361888974), (1061, 0.010522732972754847), (4048, 0.010521792466705355), (271, 0.0105134991300384), (4366, 0.010509642903648503), (1723, 0.010497387610157081), (501, 0.010495925548300911), (2403, 0.01049403201446366), (468, 0.010463913523735657), (2097, 0.010458940250715922), (847, 0.01044101072550268), (3070, 0.01044100980493831), (3903, 0.010429036686855617), (2992, 0.010426386435022177), (1662, 0.010422019588148998), (3423, 0.010418173494331849), (3426, 0.010402151809410325), (333, 0.010396647172797039), (3099, 0.010396584806118781), (2871, 0.010392979560845669), (1874, 0.010386980241245819), (1694, 0.010377739186490313), (47, 0.010374759033888029), (2051, 0.010344755637093044), (2162, 0.010321303045312513), (2936, 0.010306943195722024), (485, 0.010299890463609938), (737, 0.010269482174020532), (2740, 0.01025165340770671), (354, 0.010233180367455262), (792, 0.010223739969146536), (3822, 0.01022332422881349), (4553, 0.010220370619708466), (3232, 0.010219438024982971), (1339, 0.010215964867203322), (3297, 0.010212639038269281), (206, 0.010195436607244202), (1348, 0.010181205524417283), (1234, 0.010177649958305484), (2436, 0.010176366667920104), (2849, 0.010160919483403277), (483, 0.010147870988533605), (4033, 0.010139571461229513), (2209, 0.010136547687141513), (4605, 0.010113684386539628), (2505, 0.010111741990795406), (99, 0.010108725363944762), (3984, 0.010107881608489588), (1418, 0.010098426231237304), (1658, 0.010080473671488104), (1736, 0.010061615031127952), (270, 0.010051806221174027), (715, 0.010047304304865667), (2049, 0.010037773592981787), (327, 0.010031091446491825), (3382, 0.010028988740987222), (1513, 0.010012053684440077), (4106, 0.010011298899255085), (2546, 0.010005453203518998), (1727, 0.009993058828174554), (2016, 0.00997767205193752), (542, 0.009974966884476081), (2929, 0.00997316401811581), (216, 0.00996431954976376), (1781, 0.00994528192793031), (806, 0.009918568722061226), (120, 0.009912331765059942), (2126, 0.009911946717288973), (2915, 0.009901438303503268), (621, 0.0098894425959586), (979, 0.009887972165231157), (1300, 0.009883442651908877), (2074, 0.00987182120936709), (3674, 0.009866519236776755), (1334, 0.009866451708928598), (2116, 0.009826879593775987), (2494, 0.00981647337327978), (0, 0.009805093506053453), (2489, 0.009794792049552446), (1359, 0.009783798724744837), (3142, 0.009781933944899053), (2820, 0.009780711952702378), (1708, 0.009779232716182912), (1798, 0.009774556470432894), (994, 0.009767338355605823), (4371, 0.009763787259413185), (1440, 0.009759613744201244), (544, 0.009753397860988316), (1092, 0.009742359298906328), (1712, 0.009732335194850537), (2964, 0.009729586930502682), (3949, 0.00972555380507844), (3218, 0.009706867675279642), (1619, 0.009703084106321477), (1922, 0.009702305857966465), (3679, 0.00969563939917761), (2934, 0.009681263395234521), (3155, 0.009676985323238005), (3635, 0.009666279084388135), (1951, 0.009660200117561586), (2565, 0.009658658478430893), (243, 0.009658171853199466), (4435, 0.009657090753751579), (2418, 0.009651250070554156), (5, 0.009639835665946629), (1685, 0.009633240613946497), (4052, 0.009622904531408719), (3612, 0.009614913459816828), (3264, 0.009614029034340893), (4158, 0.009601381761401219), (1075, 0.009591487522932454), (2250, 0.009590492035507887), (1442, 0.009589027181594496), (2633, 0.009558772985519756), (4060, 0.009548933425246275), (2512, 0.00954227147027257), (105, 0.00953209875512927), (2640, 0.0095266684889209), (894, 0.009520951455559387), (1438, 0.009518400966834185), (3919, 0.009518026688365584), (1006, 0.009512410497885452), (3888, 0.009509824437820174), (3599, 0.009506751045859307), (288, 0.009496377944736414), (2601, 0.009495593230104767), (1475, 0.009491808199921728), (2545, 0.00948600870856867), (435, 0.009477836158719865), (2655, 0.00947478163486461), (1048, 0.009461601719983486), (2197, 0.009457720469104737), (1338, 0.009453093408532398), (970, 0.009447726677397602), (3536, 0.009447284878491282), (4025, 0.009445947734436948), (1124, 0.009439593845048236), (2744, 0.009436372522052039), (3689, 0.00941773693384183), (1279, 0.009414733311017304), (78, 0.009399606571884909), (1382, 0.009398048957401737), (2029, 0.009383399674635615), (1494, 0.009379897367766055), (472, 0.009373634695275761), (2075, 0.00936808369325075), (4444, 0.009365545280548903), (2279, 0.009364676134641814), (1860, 0.00936372403435563), (631, 0.009361669401453365), (3215, 0.009351852172126342), (2977, 0.009322674076250257), (4442, 0.009322506640795744), (4192, 0.00930711991890133), (1936, 0.009305710762007566), (1077, 0.009301797749861711), (2789, 0.009294840803167722), (1182, 0.009289577849239707), (2080, 0.009286183430238319), (1688, 0.00928447679177188), (850, 0.009269227266584064), (1087, 0.009256627090253326), (3643, 0.009249751025514884), (353, 0.009247286364833025), (668, 0.009247180014652575), (2798, 0.009245855325792272), (4546, 0.009241565345370469), (396, 0.009236073372609652), (2277, 0.009229634965057291), (1582, 0.009227189264785263), (3386, 0.009225598651981195), (2255, 0.009224149251331642), (2948, 0.009213541283917928), (2752, 0.009192679728709074), (2193, 0.009187834696774064), (2144, 0.009184136725802355), (182, 0.00917761309803168), (1854, 0.009176487834003657), (897, 0.00917425486238189), (2886, 0.009169658422198456), (104, 0.009162490236957822), (2228, 0.009156965667265399), (697, 0.009143071449328688), (3171, 0.009142617878024974), (1160, 0.00912265594299187), (2831, 0.00911547050081377), (3293, 0.009096992545310077), (434, 0.00909271578475179), (3346, 0.009080805971871128), (828, 0.009079231893502366), (79, 0.009076618790839583), (1612, 0.009066688687457698), (939, 0.00906544737876302), (4511, 0.009055944146683145), (346, 0.009047329905670951), (4710, 0.00903722525774957), (3596, 0.009010933192656959), (3941, 0.00900672834789253), (1948, 0.009002170934876054), (464, 0.008999856286562491), (3067, 0.008994762392335237), (3237, 0.008993087333431071), (1620, 0.008987057234226398), (2463, 0.008949838225737732), (4685, 0.008939084683528015), (119, 0.008932839836200662), (1807, 0.00893090097739414), (3046, 0.00893016595043056), (2980, 0.008929695089282262), (111, 0.00892830755196627), (2600, 0.008926105435859566), (3638, 0.008913892551018446), (948, 0.008908360175058829), (2087, 0.008905340302630581), (4612, 0.008900541314353926), (3667, 0.008900171105382567), (3120, 0.008898319654514028), (96, 0.008895438584707135), (1900, 0.008883222611181612), (446, 0.008882006651574383), (2698, 0.008871041588029819), (2103, 0.0088657928079433), (558, 0.008862695499612723), (1096, 0.008857925187504445), (2581, 0.008841135380210335), (1701, 0.008829989975010642), (4660, 0.008816293072121556), (817, 0.008811076124523944), (3521, 0.008807933706918613), (4336, 0.008794656199100886), (651, 0.008790443518269624), (4122, 0.008786711827347367), (19, 0.0087847399486844), (4502, 0.008778213671318655), (3826, 0.008753326924359022), (2363, 0.008743311125802653), (782, 0.008737001055913088), (1020, 0.0087352455702644), (3246, 0.008728646467293669), (2188, 0.00872547504917266), (1446, 0.008725319988941806), (3418, 0.008722324977241057), (3267, 0.00872099401762529), (3123, 0.008720722046885655), (1276, 0.008718177494154981), (2879, 0.008707067714400177), (2143, 0.00870524190616186), (285, 0.008704678727235576), (2459, 0.008702196222149598), (2309, 0.008697601314227643), (1387, 0.008676472959391519), (3151, 0.00867316738563137), (3733, 0.0086716642226203), (2473, 0.008671326295738156), (3784, 0.008666453071715976), (164, 0.008663782994178401), (2778, 0.008645079505384538), (2065, 0.008634933847474486), (962, 0.008633517179123246), (2077, 0.008628455950862963), (2572, 0.008624926760274994), (1710, 0.008624801578607972), (3901, 0.008622386333348416), (197, 0.00859704253241558), (966, 0.008596738901221881), (1429, 0.008595043377298776), (3954, 0.008593121833034326), (2303, 0.008587247057459332), (2812, 0.008580753148387781), (4257, 0.008577179765386037), (3956, 0.00856647521911965), (307, 0.008540452172185267), (2264, 0.00853872494735178), (1793, 0.008533810434469269), (734, 0.008527107655238415), (4664, 0.00851609930001186), (1206, 0.008511491354821002), (3399, 0.008506480833147216), (4603, 0.008493147032227946), (368, 0.008492469988221549), (4490, 0.00847884672726767), (921, 0.008473884306744568), (838, 0.008466382510212332), (1776, 0.008464441636809431), (3829, 0.008463648801411847), (1650, 0.008442906417332424), (1514, 0.008426393019628345), (851, 0.008419793419722108), (1920, 0.008418614385203606), (2089, 0.00840106321112749), (1477, 0.008398088250305705), (1968, 0.008396226262273387), (461, 0.008378393185575848), (4412, 0.008375126016394903), (3389, 0.0083739484217232), (4649, 0.008361680356271672), (1875, 0.00836111919987956), (4232, 0.008355629863574444), (1308, 0.008353487600809643), (183, 0.008350342502147893), (3329, 0.008323855378347709), (2427, 0.008304726949703233), (1730, 0.008300929366563799), (2635, 0.008290017471095085), (4163, 0.00828909244186234), (443, 0.00826944426866319), (2265, 0.008265713268684288), (1540, 0.008264873545767479), (1538, 0.00826452714849783), (2236, 0.00826215385515374), (2158, 0.008249182115915606), (449, 0.00823467413153059), (1690, 0.008203297599856187), (2285, 0.008192880614420483), (1050, 0.008188052484759224), (597, 0.00818469269722307), (1924, 0.0081679744709723), (1971, 0.008146467998911179), (4205, 0.008132594159560462), (1762, 0.00812260055785847), (1539, 0.008118828372420506), (107, 0.00810878589263473), (2076, 0.008106110318529727), (3960, 0.008105392582227868), (1507, 0.008102011472032189), (2881, 0.008097352464452924), (4092, 0.008090895367233295), (38, 0.008085428274959464), (3680, 0.008084768946688053), (2587, 0.008080038098663712), (4494, 0.008076927428852684), (4699, 0.008066732917858165), (705, 0.008060671056134337), (4335, 0.008058701805706187), (1553, 0.008035712147274677), (1489, 0.008033719451971282), (3196, 0.008017179405249623), (3, 0.00800429043895183), (1078, 0.008004074147420883), (3032, 0.008002698145813185), (436, 0.007999143568905943), (2975, 0.00799910472417184), (32, 0.0079845480693677), (1136, 0.007982223371637606), (2840, 0.007974038146102614), (729, 0.007972578233613352), (4593, 0.00795009926001135), (1498, 0.00794853651915882), (4105, 0.00794159514227583), (2854, 0.007940287278032943), (139, 0.007938053419644051), (924, 0.007930889582430519), (4707, 0.007924309197114074), (688, 0.007920082561582203), (1960, 0.007915944589589309), (3096, 0.007914711421243772), (2304, 0.007905045081506133), (1764, 0.007892329915581538), (1260, 0.00789217518720284), (2428, 0.007890164359013142), (4748, 0.007885550521461239), (242, 0.007883152373824124), (2942, 0.007878767821754883), (1371, 0.007859168909794434), (1454, 0.007852871846645279), (4046, 0.007837863472015382), (385, 0.007832134714130213), (1790, 0.007830652807786432), (4601, 0.007825524342012363), (816, 0.007822688625960026), (3192, 0.007816038194544935), (1866, 0.0078067814699025306), (1833, 0.00779650951695839), (4133, 0.0077958126868276235), (445, 0.007794521839692809), (4522, 0.00779142357392963), (60, 0.007788672977779784), (4013, 0.007783966541683049), (350, 0.0077834555221204145), (3453, 0.007781907770548947), (3516, 0.007775657982650568), (3579, 0.0077718523228684465), (162, 0.007770799696963449), (1743, 0.007750090589066047), (3771, 0.007743879506289292), (582, 0.007738614071243573), (2933, 0.007732280496939369), (3704, 0.007726207293318316), (2477, 0.007724564644052245), (1806, 0.007724060987961749), (1674, 0.007717885024911842), (403, 0.007717320665807716), (728, 0.007711282099805772), (4579, 0.007706345424758964), (3899, 0.007704160140244185), (3634, 0.0076982381563141565), (3112, 0.007688011853815087), (1312, 0.007683696684100865), (991, 0.007674540016661659), (3256, 0.007657278393381902), (1140, 0.0076552212321601525), (1537, 0.007654552289488439), (2603, 0.007647101042214019), (4431, 0.0076460344703171874), (4038, 0.007643493182656476), (2949, 0.007639155147339894), (3456, 0.007637110780276211), (3821, 0.007635870656724133), (2104, 0.007635517868026243), (3780, 0.00763376181297933), (1071, 0.007629693880107408), (4118, 0.0076295795284101985), (4656, 0.007629219763180772), (2211, 0.007629219619822575), (3586, 0.007614155228395091), (1014, 0.007610412264289005), (493, 0.0075909925907739146), (930, 0.007588642360831523), (616, 0.0075876048858052715), (4094, 0.007582355866076666), (3618, 0.007578451625313123), (1705, 0.007576217404227395), (2714, 0.007566646462252821), (1282, 0.0075637968823544744), (1484, 0.007562813857263789), (180, 0.007560424083753989), (1918, 0.007551945563332286), (1225, 0.007542388898273973), (10, 0.007539724639541888), (1400, 0.007536440370065783), (4289, 0.007530304372005355), (2563, 0.007530270288055351), (2510, 0.0075299727156301986), (1571, 0.007527686704103849), (441, 0.007524058999258839), (2844, 0.007519917586582682), (1902, 0.007514941436228623), (4757, 0.007508095222102859), (1643, 0.00750602651388331), (4557, 0.0075049104273801175), (1188, 0.007504203984202115), (3464, 0.00749830788075648), (716, 0.0074973043051375496), (4624, 0.007497150714487852), (4233, 0.007493601501957862), (2088, 0.007490653097136642), (843, 0.007487678947366413), (113, 0.007487310843562391), (255, 0.007486787644460759), (4430, 0.007485544625895457), (845, 0.007484940367084546), (3905, 0.007483865068498167), (4045, 0.007474521320913149), (580, 0.0074710138065778725), (660, 0.007468299121380834), (1229, 0.007464115927586654), (3514, 0.007463910276476754), (3259, 0.007461484276829566), (2873, 0.007460728637960149), (2339, 0.007460704288731217), (4629, 0.007458366306468024), (4089, 0.007444294164478699), (34, 0.0074396222674798455), (1083, 0.007438831750066306), (1950, 0.00743712253409768), (474, 0.007434113526945559), (3039, 0.007433241299459786), (3666, 0.007423488483315581), (143, 0.0074218727251426225), (3349, 0.007417544683405594), (1037, 0.007406593398245868), (156, 0.007396517906534802), (980, 0.0073892674550401615), (3018, 0.0073886713281036695), (3945, 0.007385100505287985), (606, 0.0073828155304262386), (4249, 0.007376866463428257), (3623, 0.00737538528924074), (4470, 0.007371133673986453), (1536, 0.007357200882370105), (3233, 0.007355187520740297), (224, 0.007353548211987467), (4390, 0.00735207097581671), (1069, 0.007349470531851641), (743, 0.007346838592574464), (3008, 0.007343589760949153), (509, 0.007332027054368109), (4098, 0.007328628147016926), (3410, 0.0073268780729074355), (3571, 0.007310855744198968), (1174, 0.007309009974723193), (1931, 0.007304840964451408), (2519, 0.007297888997678443), (1735, 0.007296268013052198), (2843, 0.0072944549909146235), (238, 0.007292058096564208), (3653, 0.007288033329822759), (750, 0.007283807541207736), (3303, 0.0072756740838892334), (3501, 0.007267483112732892), (1144, 0.007259122310498271), (869, 0.00725401690235808), (2091, 0.00724908335407164), (63, 0.007246373790482992), (3645, 0.00724440879850767), (309, 0.007241873038964717), (2061, 0.007241444441148377), (4077, 0.0072379352292676405), (4093, 0.007237247574506506), (42, 0.007236825272071698), (1486, 0.007234166049300603), (1472, 0.007232693801577943), (1138, 0.007232291199342739), (908, 0.007227807872197648), (4677, 0.00722629149859136), (2244, 0.0072244784632813485), (636, 0.007220498423054623), (2444, 0.007216822945365926), (3227, 0.00720882098845807), (2606, 0.007198949096365795), (1583, 0.007196604196620226), (696, 0.007196443040031081), (3436, 0.00719553939447874), (4517, 0.00719281811293204), (2101, 0.007188361400101868), (3125, 0.0071848861424403995), (4226, 0.007181301012694179), (256, 0.0071804227055145605), (363, 0.007177918653319795), (1191, 0.007177768471697234), (1223, 0.00717722505421251), (4061, 0.007175096904403548), (4715, 0.007168016491301171), (1488, 0.007167547433373899), (2344, 0.007164432520815708), (4196, 0.007152503548435218), (1179, 0.007148580085663995), (3245, 0.007148416664097888), (3515, 0.007141768857087137), (4581, 0.00714095674579137), (159, 0.007126037020866248), (2994, 0.007120926158170711), (494, 0.007107534761405225), (1388, 0.007105864043348033), (3152, 0.0071050995025277695), (4184, 0.007103928823641513), (1811, 0.007092076580957012), (3727, 0.007088736271485591), (1747, 0.007085757718312184), (3624, 0.00708332047076107), (3435, 0.007080080814085194), (232, 0.007072494943779914), (340, 0.007057789008247635), (769, 0.007055976434269275), (880, 0.007046905349603813), (4351, 0.0070443909453657225), (3195, 0.007035857525779766), (3570, 0.007030792303727618), (2069, 0.007024574301463462), (727, 0.007024317991323225), (3499, 0.007023650271851442), (4284, 0.007015060521553908), (413, 0.007014363525749395), (81, 0.007009943535800456), (1504, 0.007007295859807678), (1737, 0.007007001454081946), (3316, 0.007003850870270374), (3457, 0.007003019585887429), (3185, 0.007000170786572424), (2825, 0.006989309136223861), (50, 0.006986992676753986), (4299, 0.006979491877667861), (4309, 0.006978193744209408), (1653, 0.006972042233695412), (748, 0.006970337504893362), (4652, 0.006959441062191512), (301, 0.006948577664564858), (1330, 0.0069452371243001985), (1044, 0.006925941771792754), (539, 0.006923300446519887), (600, 0.006911988221385435), (4182, 0.006907818896450109), (217, 0.006895954353204596), (3696, 0.006894880242524033), (1421, 0.006892431195663455), (1718, 0.006885352976791464), (923, 0.006885196795129849), (503, 0.0068823714421241316), (3487, 0.0068740778119156035), (752, 0.006874003656088706), (3531, 0.006862294924219215), (4670, 0.006848594424887116), (386, 0.006839997396687534), (4523, 0.006839334010413384), (2691, 0.0068340990537908534), (1841, 0.006832081872064488), (3149, 0.0068243582803357815), (1911, 0.006821537542968091), (3122, 0.0068204751632027355), (1076, 0.00681994376727047), (4008, 0.0068172021824728195), (1001, 0.00681409120174354), (3035, 0.006806335881231588), (1125, 0.0067987645178981225), (2816, 0.006796760437225054), (3648, 0.0067966355837907584), (1375, 0.006795276578803917), (1123, 0.006794885124020776), (644, 0.006791787033115819), (4467, 0.006785277754309837), (671, 0.006782870119665303), (2726, 0.006782846187248174), (1231, 0.006779688354393065), (367, 0.006777740856868494), (3265, 0.006769470229076113), (778, 0.006760120126778055), (2897, 0.006757874820400059), (4388, 0.0067551300225912455), (3734, 0.006743290499240995), (1177, 0.006734917127738773), (2348, 0.00673431186581514), (2962, 0.006732649301460031), (31, 0.006723965537835127), (2899, 0.006720886243817158), (1738, 0.006716538657576399), (3632, 0.006714251426310358), (1111, 0.006712588014078975), (1041, 0.006711122649795383), (2732, 0.006699254917744875), (2708, 0.006695604248962897), (1250, 0.00669513606622662), (56, 0.00668799545079124), (2496, 0.006686100058633568), (422, 0.006684770214378324), (1425, 0.006682409645770869), (3452, 0.006666829518739313), (283, 0.006663066484764483), (4210, 0.006662796250061072), (1819, 0.006660823685789857), (1555, 0.006655728045330869), (131, 0.0066551420395099085), (1433, 0.006651536462062501), (4591, 0.006649489713339692), (2184, 0.0066460697561804795), (311, 0.006640720103355573), (3342, 0.006638970720780705), (868, 0.006638099025230637), (1306, 0.006637417522338034), (2335, 0.006626868445508636), (758, 0.006619783688263927), (744, 0.006611821515269222), (1760, 0.006610240515573116), (1448, 0.006606255011892964), (1908, 0.006603738458379502), (4282, 0.0065812359779165875), (4001, 0.006579886652293796), (3926, 0.006579383573264014), (1172, 0.006576811496944066), (3460, 0.006574404057633163), (1374, 0.006573576658256203), (4099, 0.006567093402415354), (4738, 0.006565847350021075), (3033, 0.006565105720620912), (3876, 0.006562838398218207), (1644, 0.006561402643121728), (1501, 0.0065605129488201285), (1462, 0.006557735573350132), (1345, 0.006554266558119461), (910, 0.006544699287657487), (2324, 0.00654452166028318), (3594, 0.006542877340613764), (745, 0.006541447895988962), (863, 0.006535303034806724), (1065, 0.006534675969037722), (1238, 0.006524049508288306), (22, 0.006522322352622827), (122, 0.006517403480064114), (834, 0.006515346842433375), (2503, 0.006513803988319439), (996, 0.00650992907297042), (1692, 0.006499365798951297), (3474, 0.00649658195092293), (1987, 0.006494419384748071), (1892, 0.006492138216479107), (1867, 0.006487323100488624), (1913, 0.006482404659195531), (1329, 0.006482212817589641), (608, 0.006480886036499978), (3705, 0.006469532567629695), (1849, 0.006466697460137599), (1964, 0.006462905219506746), (4154, 0.006460444818820417), (2031, 0.006451642626205173), (563, 0.006446918984242734), (581, 0.006442908807660051), (3842, 0.006439580046008823), (981, 0.006436594763438925), (804, 0.006430481765266978), (1094, 0.006428490781993141), (3288, 0.006427108303657311), (3066, 0.0064178609702593365), (2424, 0.006412851568886811), (3841, 0.006411621947297273), (2239, 0.0064075663286851355), (230, 0.006397047584259012), (2580, 0.006384813030862253), (1414, 0.006378299226169407), (1816, 0.006377671673092274), (940, 0.00637220150273429), (4367, 0.006365614555669841), (2724, 0.00635309231256632), (1267, 0.006350083320400629), (4217, 0.006344514387184784), (2095, 0.006343994595084171), (4661, 0.0063374866531172944), (2056, 0.006329973382063178), (3998, 0.006328447448942516), (4564, 0.006324868664687003), (521, 0.00632447163326214), (4459, 0.006319462824825346), (200, 0.006317406038489515), (1608, 0.00631080660484277), (4303, 0.006307820224547158), (2833, 0.006306426535276039), (497, 0.00629601813997159), (1552, 0.006280457579137836), (1526, 0.006277220093134098), (3910, 0.006276866044991001), (3309, 0.006272591746028673), (300, 0.006258139455269688), (4432, 0.006257829146207155), (4691, 0.006248887308908623), (1327, 0.006246469827302095), (4666, 0.006245750323282018), (3458, 0.006237886369444206), (2388, 0.0062273930887486294), (1818, 0.006224779631552358), (1664, 0.006221292918029592), (263, 0.006216251561942656), (1213, 0.006215002337363142), (835, 0.006210819751878024), (1797, 0.006202669692847393), (3864, 0.0061989508384039365), (2202, 0.006188384803965122), (1307, 0.006181668255159589), (2160, 0.006181185621205108), (642, 0.006175541244757278), (3566, 0.006170320282172523), (862, 0.006163646870521245), (861, 0.006156676188760679), (2205, 0.00614870893928966), (1903, 0.006144808322546007), (1746, 0.006130600381762397), (3909, 0.006128669375239795), (1939, 0.0061224967707232455), (3721, 0.006120051103397476), (1627, 0.006111510124918706), (568, 0.006092393801123679), (9, 0.00607882290416431), (248, 0.006076898456420153), (4236, 0.006074986995433853), (3114, 0.006072588491821388), (4009, 0.006069496564969901), (2175, 0.00606579020923286), (35, 0.006061232820377419), (4342, 0.006053130571462054), (1356, 0.006051312806701818), (617, 0.006036313815003582), (3244, 0.006017414560259968), (821, 0.006015976066697053), (3975, 0.0060132739833293845), (2203, 0.006010749392625516), (4537, 0.006005299509575736), (958, 0.006004028909589245), (4733, 0.005965512302462513), (2355, 0.005960565575827434), (3331, 0.005959816487740433), (16, 0.0059590789366884955), (583, 0.0059550030484485155), (3715, 0.005953053602272926), (3658, 0.005945222312437101), (1214, 0.005932567568348968), (3825, 0.005930841255515681), (4219, 0.005930755851851497), (2058, 0.005927826803031613), (4055, 0.005924818293621737), (2426, 0.005920751565415965), (1316, 0.005910781285140438), (1981, 0.005908455371472134), (2185, 0.005884693609598021), (1715, 0.005883156475360248), (4646, 0.005882073074407981), (4464, 0.005865917370922849), (3865, 0.005858147278425385), (2156, 0.005849206467237163), (4057, 0.005838723038181405), (2935, 0.005833966818310373), (4047, 0.0058310531983781), (4110, 0.005829926434041167), (3598, 0.005814885873890762), (3844, 0.0057811292968995755), (4208, 0.005772631262084199), (953, 0.005756518916356404), (1684, 0.0057540024368174115), (4674, 0.005742313437079809), (3049, 0.005728143928534588), (1344, 0.005721039864961348), (4385, 0.00571736338454433), (3509, 0.005699119019090607), (3748, 0.0056834901902824584), (1863, 0.005673121301952916), (3588, 0.005668212447753091), (2328, 0.005662324030417309), (3391, 0.005654239730508646), (4653, 0.005640484385845354), (2291, 0.005627749684426435), (3942, 0.0056275672924494405), (2098, 0.005618888882314848), (3744, 0.005614568383030678), (4518, 0.005600386434985414), (177, 0.005599808753936735), (3448, 0.005596474468564588), (3502, 0.005583987359637695), (3752, 0.0055805413727793305), (4514, 0.00558021931038109), (4698, 0.005566055076203873), (3164, 0.0055627503744932), (1941, 0.005521670047666051), (571, 0.00551243089187356), (512, 0.0054832705791418405), (2567, 0.005474566349004074), (2273, 0.005445167150185858), (4642, 0.005444385938077968), (562, 0.005424022281125922), (3940, 0.005415808786037162), (369, 0.0054147171174585024), (4285, 0.005413903372484929), (2665, 0.005408896703823957), (2439, 0.0053930980079915005), (1940, 0.005391940370749307), (3022, 0.005367062238452816), (3440, 0.005360191089565494), (4726, 0.005357462984646267), (2809, 0.005339089482851618), (1695, 0.005316808464005939), (4331, 0.005314131386390756), (4162, 0.005309960252153657), (4527, 0.005304592026024581), (380, 0.005299883695242828), (1381, 0.0052941344423078724), (3117, 0.005288750302616191), (1453, 0.0052852816318829585), (855, 0.005267649046133166), (4261, 0.005249130933861092), (2774, 0.005249022144044436), (477, 0.005239784974437233), (2181, 0.005236538353974074), (425, 0.005233653978455373), (4746, 0.005232586188847019), (2576, 0.0052191298618978746), (4462, 0.005213474094856587), (2022, 0.005209538508579562), (3168, 0.005194831847603899), (666, 0.005191363840721598), (2700, 0.005182671029789314), (4307, 0.005179565875975142), (4630, 0.005173595112168346), (3158, 0.005170714049097464), (2683, 0.0051675037568785385), (168, 0.005162629015437512), (1158, 0.005154276117296021), (1391, 0.005146892045916608), (4120, 0.005142394346497134), (4043, 0.005142156064116708), (2113, 0.005140329245801169), (1332, 0.005140102469137354), (1962, 0.005139410447659316), (4515, 0.0051336282414842765), (3180, 0.005132573372863185), (4119, 0.005127533389383312), (2733, 0.005124706672572312), (687, 0.005118389644317329), (128, 0.005117957196142505), (2231, 0.005098098907837019), (550, 0.005095713449789213), (1554, 0.005079354545010315), (2314, 0.005075043982713094), (595, 0.005073766918951452), (4091, 0.005069099168848593), (3604, 0.005067139324779592), (69, 0.0050655150859636395), (2626, 0.005063211642864689), (1167, 0.005054247756466491), (3802, 0.00505157317002861), (3787, 0.005050684028750155), (802, 0.00504790855259478), (831, 0.00504729347668347), (102, 0.005040189360757848), (4240, 0.005036241334993981), (3263, 0.005025888185502876), (1829, 0.005021692709172186), (3163, 0.005021375235815921), (513, 0.00501502826446355), (303, 0.005006167909413678), (514, 0.005003024616850094), (3938, 0.0050020766548057255), (2136, 0.004999931651805337), (4595, 0.004991963728483641), (2599, 0.004986212320267051), (2084, 0.00497883099639507), (1150, 0.004975946962821241), (3468, 0.004972065267270441), (4090, 0.00497122442224054), (4076, 0.004970043121679034), (1661, 0.004967986400080027), (1952, 0.004967831528029213), (1724, 0.004967362630089574), (6, 0.004963665756185002), (420, 0.004960790573790973), (4312, 0.004956559811046084), (3584, 0.00495460907849746), (4373, 0.0049449377425063975), (3451, 0.004944796113572012), (3782, 0.004941626446775451), (3774, 0.0049401024395021535), (1575, 0.0049396247556743895), (3131, 0.0049357193591814475), (992, 0.004935502243441056), (1614, 0.004935318091384702), (414, 0.004932846527715331), (1732, 0.004930749603787047), (3438, 0.004925075352046845), (1659, 0.004917338400093203), (2283, 0.0049163749376265956), (1280, 0.004912549776270106), (4719, 0.004912020457018882), (1791, 0.004911393510206821), (3997, 0.00491138185917065), (3710, 0.004904565905805377), (2044, 0.004900368156440431), (239, 0.0048934110269985434), (3897, 0.004891332365552052), (2208, 0.004889632665132254), (1426, 0.004887726304196334), (2819, 0.0048871524931050625), (4384, 0.004886360522442935), (3205, 0.00488615611728778), (1904, 0.004878866675051578), (2330, 0.004877726866423948), (220, 0.004877383327231497), (1452, 0.0048762971754376175), (765, 0.004875714723265432), (1531, 0.004874482261891639), (1502, 0.004871803904837502), (1380, 0.004865433624290716), (1859, 0.004864612361744438), (891, 0.004859604317280072), (1975, 0.004859271928670792), (4392, 0.004857891117175142), (1449, 0.004856782191775572), (2959, 0.004856626562989745), (2790, 0.004850603519905102), (561, 0.004843879649288875), (2064, 0.004838341134476462), (320, 0.004836468342738551), (3513, 0.004833569400596493), (4639, 0.004827393660535322), (1881, 0.0048253228826983605), (3769, 0.004823654473202804), (4621, 0.004820847396153737), (1588, 0.00482037197947883), (2015, 0.0048172747860744415), (3134, 0.004815055879995134), (4586, 0.004803874390034195), (27, 0.0047922703978128985), (793, 0.0047911708785747225), (3124, 0.004789723535567621), (3907, 0.004786368378027254), (4275, 0.004783375335158277), (3995, 0.004783012688872664), (4552, 0.0047819144626108975), (189, 0.004777355844485406), (1469, 0.00477597706850557), (3398, 0.004757992723997419), (3191, 0.004749484075312183), (95, 0.004745609331166691), (685, 0.0047391400645060075), (3179, 0.0047371861365497975), (4377, 0.004734497384142149), (118, 0.004733636962274293), (902, 0.00473242978058989), (4376, 0.00472987449563689), (4251, 0.004729825034580443), (2947, 0.004728489945670272), (1901, 0.004728085067675582), (1431, 0.00472403828353127), (1435, 0.004716569576995678), (4678, 0.004715176978610752), (336, 0.004711078991398701), (2960, 0.004705331125110951), (3815, 0.004703487539245397), (1587, 0.004696037086649696), (3404, 0.00469377408637166), (919, 0.00468827488780651), (3576, 0.0046855570241939055), (3833, 0.004685092741441776), (2278, 0.004680281026963686), (3932, 0.004678398488262889), (811, 0.004677175365825213), (2991, 0.0046748260207572076), (3908, 0.004674093092431092), (3520, 0.0046702515861505485), (1998, 0.0046690561382591615), (1930, 0.004663673342829262), (2130, 0.0046634287525844035), (3005, 0.004662843276282043), (30, 0.004648836119227041), (4103, 0.004638354930990021), (4360, 0.004638002055274865), (451, 0.0046333179489901856), (39, 0.004632326320381306), (4383, 0.0046295034337980896), (347, 0.0046290114454663155), (2506, 0.0046283701448103926), (315, 0.004627579160961796), (3367, 0.004620646774560631), (4310, 0.004618064119380746), (1566, 0.004617094549750662), (849, 0.0046103472537448245), (135, 0.004609422560900164), (305, 0.0046089129869793174), (2246, 0.004604721551112667), (389, 0.0045928926555422215), (619, 0.004592008813534647), (460, 0.004591946474043865), (4248, 0.004586070327996085), (3432, 0.004579595707835179), (4708, 0.004578152801117167), (4665, 0.004575605255719265), (375, 0.00455931756577401), (2847, 0.004554869102789387), (233, 0.004553254985288595), (3161, 0.004551187168761801), (3443, 0.004550394474658327), (467, 0.00454767870920759), (4264, 0.004546247226560508), (1573, 0.004544910721244759), (1857, 0.004541703501595062), (1127, 0.004540712375358485), (3602, 0.004536165102704673), (1622, 0.004534966118457995), (634, 0.004532017668175814), (1082, 0.004530923132656161), (4211, 0.0045286228174402626), (927, 0.004525247754470468), (1635, 0.004524414040068004), (633, 0.004519568945057025), (90, 0.004511298820312948), (2232, 0.00450713427041366), (4039, 0.004497181173511471), (1933, 0.004496946860875292), (1846, 0.004494151496336111), (1953, 0.004482532871190865), (152, 0.004480162377431886), (3583, 0.004479553777020867), (3555, 0.004471280542747128), (1347, 0.004456071224498093), (2245, 0.0044559238644446015), (3011, 0.0044548940477405815), (2432, 0.004446831956179276), (3664, 0.004434450523125297), (310, 0.004432460706505274), (3886, 0.004430555543774054), (1632, 0.004423258499538446), (4438, 0.004422951263287812), (93, 0.004418656840322171), (3126, 0.004418094007533675), (3970, 0.00441235901817224), (1633, 0.004408178160738384), (1207, 0.004407380155076316), (1993, 0.004404753943201428), (3824, 0.004403203520833348), (3881, 0.004399498239922741), (4587, 0.004396915493480532), (2711, 0.004389725240886558), (2787, 0.004386794249015825), (4441, 0.004382409607814832), (1631, 0.004376975220158413), (260, 0.004375759434559262), (1428, 0.004373208871986034), (1211, 0.004371438026142519), (3361, 0.004367134773433361), (4071, 0.004365080839408345), (4151, 0.004357507674573639), (3723, 0.004353829586358225), (4292, 0.004346641270334503), (3823, 0.004337632521968427), (3133, 0.004336292620515619), (1914, 0.004335771727140863), (1451, 0.004333419161392224), (2139, 0.004329829930682734), (661, 0.0043277766914817635), (3135, 0.004320968927313893), (974, 0.004318721201428409), (4585, 0.004316825219797293), (426, 0.004315083525299143), (3788, 0.004312418804018252), (810, 0.004310244706102459), (4328, 0.0043097790763090464), (3100, 0.00430939762979256), (2682, 0.0043042439885145395), (3136, 0.004302789301984927), (3966, 0.0043026204392936215), (3338, 0.0042980765239955315), (690, 0.004292327916105058), (2442, 0.004290553298955561), (2660, 0.004289301064415876), (4697, 0.004288320125964996), (1480, 0.004288052651907406), (3143, 0.004284662611376249), (316, 0.00427566853687803), (1562, 0.0042731699418303995), (1623, 0.004272007305661738), (3079, 0.004251719719739137), (306, 0.004250577618359521), (1197, 0.004241742454974192), (94, 0.004236585948952706), (2984, 0.004235521067904495), (4274, 0.004230225814165783), (80, 0.004227109798982705), (4322, 0.004224059410919857), (397, 0.004218130295350772), (4339, 0.004214172565029606), (1281, 0.004210757877745522), (1840, 0.004197512097260954), (4193, 0.004195492760646212), (1784, 0.004189175005907084), (3534, 0.004188386236756716), (4044, 0.004185917988001525), (3247, 0.004172448145238135), (4290, 0.004163826251867192), (893, 0.0041600117443788024), (898, 0.004155926036290059), (997, 0.004149127110904067), (2678, 0.004130445306673907), (323, 0.004126702166598834), (932, 0.0041240318599223), (803, 0.004123319018849688), (191, 0.00411617790201361), (4582, 0.004115089528140448), (1154, 0.004112052748094561), (559, 0.004110087166529762), (3495, 0.004102292524056775), (611, 0.00407474121950208), (4365, 0.004063496237183203), (2299, 0.0040556277552143884), (3160, 0.004052363978554839), (756, 0.004051083609040267), (3619, 0.0040475877803817254), (187, 0.00404662471660528), (4571, 0.00403004995905347), (4468, 0.004028035082793066), (1925, 0.00402731300929992), (1590, 0.004022298707395246), (3178, 0.004009837888876761), (1772, 0.004003333399430371), (1559, 0.003992703732862146), (1699, 0.003991474843652324), (4426, 0.0039806312232610235), (234, 0.003970509617032526), (3339, 0.003970201087966742), (625, 0.003970091952863027), (1546, 0.0039687964989061015), (1753, 0.003965524253339128), (2801, 0.003957482166523576), (3776, 0.00395109019216415), (1309, 0.003948380480033667), (1120, 0.003933222812334196), (3405, 0.00392108833688191), (2541, 0.0039149352811333835), (723, 0.003905451704110581), (1458, 0.003904651594659913), (1910, 0.003897392208484155), (639, 0.0038956299468069287), (3806, 0.003891967785171728), (3512, 0.003889013171202378), (2757, 0.003881814956378416), (314, 0.0038672786460396697), (640, 0.003862120234585781), (3484, 0.0038366239829752654), (4555, 0.003822393043576866), (4513, 0.0038162595268601725), (469, 0.0038125681688557884), (2998, 0.003807469070934452), (738, 0.003800505428240529), (2573, 0.003781641240302068), (3925, 0.0037750382833963004), (290, 0.003764602526997217), (76, 0.0037642771162936244), (295, 0.0037622811700992425), (1164, 0.0037512621307350565), (3944, 0.0037188104894249146), (3989, 0.003716566742122906), (1395, 0.0037135203999899614), (289, 0.0037027062092279866), (1576, 0.003695205136118929), (4607, 0.003682819782953627), (2529, 0.003681546872924424), (294, 0.0036732829549063557), (2078, 0.003669061202462884), (2379, 0.0036601865946633357), (2490, 0.0036554338412872044), (2937, 0.0036418513127225525), (3523, 0.003635675158808224), (4705, 0.00362608174288888), (2326, 0.003622571305140312), (3051, 0.0036177016583611417), (2764, 0.003613273940570898), (3672, 0.003603859110894286), (2858, 0.003594793230747527), (2137, 0.003594592562013581), (3139, 0.003590755164002553), (4082, 0.00358280122205307), (2722, 0.0035603643441040962), (2189, 0.003560127381617647), (4202, 0.0035463057159148726), (3040, 0.003541823977779952), (2989, 0.0035339482019520565), (2251, 0.003528765524922965), (3166, 0.003517983993137304), (2349, 0.0035115697404267793), (1145, 0.003507054526764835), (2407, 0.003505785923314624), (3990, 0.003500660434369241), (2889, 0.0034913155438241164), (2537, 0.003479145804022971), (77, 0.0034769808720954984), (4704, 0.0034647345174586603), (3052, 0.003464159943233295), (735, 0.0034631596343398384), (3055, 0.00345109669377229), (2404, 0.003449565039590501), (2775, 0.0034430225690450424), (4017, 0.0034416299225726275), (2870, 0.0034381012735800014), (3561, 0.0034380523706759865), (3042, 0.0034363661000082167), (3030, 0.0034357627126280015), (627, 0.003434199982561845), (2883, 0.0034320629580592323), (2923, 0.0034171669472219095), (3291, 0.0034081886534521894), (2731, 0.0034043390625112645), (4749, 0.0034036456368132157), (4222, 0.003401382805593409), (4529, 0.003400501052237265), (2310, 0.003390940742016135), (4221, 0.0033908723979946052), (3479, 0.003387007242974126), (4484, 0.0033814476312483688), (4611, 0.0033805137878272673), (3939, 0.003377902592750367), (2673, 0.0033738107663759957), (2861, 0.0033616545852928393), (1210, 0.0033546679070800916), (4172, 0.00335287256990068), (2559, 0.0033339816446641937), (3878, 0.0033333249663985306), (4418, 0.0033309126153688567), (2832, 0.003328358371392943), (4696, 0.003322605743681753), (2628, 0.0033200750239033737), (4407, 0.0033173901935479246), (3219, 0.0033144042482742176), (2448, 0.0033121806284444346), (2392, 0.003311442215763538), (3292, 0.003310777104218693), (3762, 0.003304117574998181), (2199, 0.0033013961329832323), (3892, 0.003296946816248689), (3282, 0.0032890614008540538), (4423, 0.0032887293797678515), (4019, 0.003287714487628035), (2425, 0.0032869830902377425), (2643, 0.0032800529079018326), (2257, 0.0032652889417637654), (3322, 0.0032640971868044587), (889, 0.0032639821409427413), (3262, 0.003263324594002952), (2350, 0.0032589804707992606), (2901, 0.00325622751323716), (4230, 0.0032496256231181186), (4142, 0.0032425169740557275), (2838, 0.003241181830687934), (2286, 0.003241134432765469), (1153, 0.003234628411690891), (1208, 0.0032334025418272053), (4400, 0.0032330609798207196), (4102, 0.00322017641330588), (3848, 0.0032176256582615113), (3015, 0.0032138288529427426), (4606, 0.0032107990543004962), (3239, 0.003197536727176098), (3128, 0.0031970079515146015), (2423, 0.0031962161377439434), (3354, 0.0031930841877435717), (3140, 0.003191775106003641), (526, 0.003189205961226647), (475, 0.0031830170208644714), (1711, 0.0031804287196656516), (1121, 0.0031774370506779245), (3687, 0.003167716046461269), (4692, 0.003165844538685759), (4521, 0.003165624870078883), (4544, 0.0031638437420695442), (3363, 0.003163022311998249), (3616, 0.0031538433185305395), (3357, 0.003152498265952662), (2834, 0.00314646446990567), (3537, 0.003145746384961089), (2557, 0.003145443106586994), (2438, 0.003141434949500873), (3159, 0.0031389054011713865), (3429, 0.003136655334325581), (4306, 0.003135535775568488), (3577, 0.003134300423040642), (4107, 0.0031316484334973907), (3922, 0.003130849387440927), (2857, 0.0031306293625923613), (3613, 0.0031282114428502436), (2266, 0.003122849247270207), (4572, 0.0031126376024216513), (3074, 0.003111619902094145), (4298, 0.003111423665814051), (326, 0.0031059387747140853), (2797, 0.0031042583747342275), (2957, 0.003102757688776685), (3874, 0.003101336326241035), (4723, 0.0031009061546349694), (2488, 0.003099492441122694), (3031, 0.003098080340964135), (3832, 0.0030961468799514855), (2848, 0.0030957310537843004), (3302, 0.0030901029595293804), (3620, 0.0030882893020226336), (4147, 0.0030881294441047133), (3544, 0.003087182481444542), (2966, 0.0030831102067987726), (3358, 0.003079020136582063), (3020, 0.0030788992114505523), (2415, 0.003077478211326259), (1593, 0.0030735361977677128), (3206, 0.0030685213451301942), (2454, 0.0030625130786813572), (2993, 0.003059036294957494), (3257, 0.0030559723754571373), (2619, 0.003054195039715814), (777, 0.0030482065377159654), (3413, 0.003046256938374548), (1168, 0.003045520163266067), (2895, 0.0030357343976949373), (489, 0.0030339076498476585), (2434, 0.003031957879212554), (3911, 0.00303052451245541), (4458, 0.0030247899889488173), (1049, 0.0030073286045681187), (4280, 0.0030057193500140156), (2772, 0.0030042986176780227), (3308, 0.0030025452049455338), (2986, 0.0029999075948067637), (4717, 0.002994680505447409), (2738, 0.0029929611182556606), (431, 0.002990980897218307), (4632, 0.002990015272819319), (3763, 0.0029889620081975953), (3935, 0.0029885096547979943), (2613, 0.0029878336157534648), (4416, 0.002985333577702092), (2570, 0.0029850065270741774), (3081, 0.002984739096348554), (2378, 0.0029847024667109395), (3621, 0.002984345128468935), (3745, 0.0029834165348200594), (4584, 0.0029816502268501877), (4633, 0.002980571206173481), (1792, 0.002980454256720252), (4694, 0.002979939651503315), (1187, 0.002979770691711472), (4145, 0.0029791881546168577), (2707, 0.002976609481874568), (518, 0.0029732402429394856), (2720, 0.002972463807842025), (1748, 0.0029693466541139885), (4030, 0.002968509850789978), (4589, 0.0029684950554232457), (1169, 0.002968248475121234), (4075, 0.0029593107497051714), (3540, 0.002958055113999266), (2142, 0.0029579118169215744), (1547, 0.0029538683671561376), (3359, 0.0029515322197334465), (4126, 0.002951204889263052), (2544, 0.0029509775538051728), (3884, 0.0029508011050974987), (2320, 0.002948368317866605), (2696, 0.002948211964248345), (3072, 0.0029477207530535497), (3307, 0.002946025449744525), (4002, 0.002945363782547396), (1947, 0.0029441683458714544), (2269, 0.0029435278244624215), (2924, 0.0029413139277954083), (3754, 0.00294123732407041), (3729, 0.002939207932414357), (3425, 0.0029386601486688355), (4713, 0.002935920646335536), (3230, 0.002927991904175658), (2987, 0.0029279224859267345), (3364, 0.0029277933783362665), (2884, 0.002927723897692589), (448, 0.002927379117072186), (3419, 0.0029268337374655446), (3337, 0.0029263608551047733), (3396, 0.0029253541966865544), (3506, 0.0029250907731739545), (3866, 0.0029234354102327343), (4650, 0.0029227923349272288), (2872, 0.002919385177617543), (4369, 0.0029178234754435903), (3355, 0.0029177922097563735), (925, 0.0029161833874092376), (508, 0.0029161753848960135), (4507, 0.002913088748170219), (3165, 0.0029129982157773647), (4267, 0.002912222038245148), (2478, 0.0029114611772438712), (614, 0.0029098979225331504), (3952, 0.0029084527399929477), (4516, 0.0029082392469185234), (1656, 0.0029077079992601354), (3639, 0.002902584346526088), (2796, 0.002902421975777824), (3651, 0.0029012906726482673), (985, 0.0029012034398200413), (2702, 0.002898675239881087), (4295, 0.002895647625898037), (4117, 0.002895105709173998), (1497, 0.00289446576555683), (739, 0.002894012255446743), (4753, 0.0028919487884017663), (4243, 0.0028872437447467303), (3772, 0.002886166507773771), (3296, 0.0028845687282931277), (2223, 0.0028836577395574144), (3611, 0.002881671319418458), (2302, 0.0028806560860410685), (2629, 0.002878982788947104), (2437, 0.002878688806085793), (1909, 0.0028786576539522103), (3186, 0.002875686598671847), (998, 0.0028750966104490855), (1887, 0.0028740961062598642), (999, 0.002872743544256604), (2411, 0.0028718128480025207), (3148, 0.002871502296407598), (2623, 0.002871145222542298), (478, 0.00287030905466654), (2400, 0.002868555501625777), (2914, 0.0028682523519447806), (235, 0.002862603765501166), (3013, 0.002861016573119358), (576, 0.0028589991183695833), (1349, 0.0028576281102513806), (3274, 0.002857575305783021), (3587, 0.002856932498632551), (419, 0.0028564076731825024), (4368, 0.002854344086319595), (4333, 0.0028538356132755452), (3560, 0.002849634449849319), (813, 0.002848492341463615), (3962, 0.0028483911122045955), (2974, 0.002847448826702877), (922, 0.0028454319081892806), (4718, 0.0028444087831727806), (596, 0.002841667503161745), (2916, 0.0028408048332358568), (1862, 0.002840419532515051), (1594, 0.002839568084275876), (3414, 0.002838985773331459), (4535, 0.0028386710230197294), (2134, 0.00283682288295139), (308, 0.002836039428752784), (2356, 0.0028351679094693293), (4401, 0.002833596125018068), (3737, 0.002831959461557706), (3593, 0.0028311413543016003), (4051, 0.0028294868139303216), (3804, 0.0028291372709332873), (1474, 0.002828379070645111), (444, 0.0028258587746824724), (3877, 0.0028237663915901524), (3273, 0.0028235332757005805), (2585, 0.0028233189149995163), (2830, 0.0028226149209496683), (4397, 0.0028225842511361257), (41, 0.002822061251368253), (4706, 0.00281767098412393), (3003, 0.0028173739938220366), (4259, 0.0028171123677211895), (4113, 0.002816959072990225), (2108, 0.0028149681631918447), (1890, 0.002814173123132308), (1109, 0.0028122536400759317), (3062, 0.002811765663735291), (4138, 0.002811175665091937), (2535, 0.0028109713012137647), (2592, 0.002807715950437281), (3967, 0.0028036445992062004), (3026, 0.002802065432959627), (3101, 0.0028019752526481814), (4042, 0.0028011681307968457), (857, 0.0028006579787448844), (2176, 0.0027997386524467593), (1580, 0.0027985796143798237), (2890, 0.0027985606578063227), (2159, 0.002796642519650156), (4263, 0.0027933745595439814), (3417, 0.002793308661435089), (587, 0.0027892462176755946), (3116, 0.0027869581898004835), (476, 0.0027839829553150115), (3677, 0.0027839214224453152), (2410, 0.0027822668653526743), (4446, 0.002782149984041176), (1479, 0.0027816518653624054), (4308, 0.0027812821125682), (1733, 0.00278081968063316), (2390, 0.0027802930826692804), (3183, 0.002777237875199438), (2624, 0.0027751302727880463), (253, 0.002772861905660795), (3234, 0.0027721883281203114), (3714, 0.002772130097690375), (4130, 0.002772030138020013), (318, 0.002771621399239436), (4140, 0.0027710741765924695), (3497, 0.002771044725530212), (4101, 0.002768111461896002), (3813, 0.0027672354263009982), (4732, 0.002766230114419228), (3749, 0.0027652807534091156), (1905, 0.002765022738371266), (3044, 0.0027645517635581586), (2293, 0.0027644911596349923), (1805, 0.0027632161822077734), (499, 0.00276004299098267), (3064, 0.00275966997783602), (2748, 0.0027578844179992276), (3258, 0.0027578268313340057), (887, 0.002757674922454598), (4087, 0.0027570148922926073), (2882, 0.002755972005584389), (2507, 0.0027550508572586328), (3915, 0.002754726020960518), (8, 0.0027543335470164667), (4528, 0.0027542947624417113), (2595, 0.0027508174308408457), (3889, 0.0027505286173344066), (2888, 0.0027472806692475427), (2705, 0.0027461280207631174), (4545, 0.0027445443902041006), (1959, 0.0027434360138272667), (3269, 0.0027434131677741983), (192, 0.002743055956303319), (4734, 0.0027408297226725648), (3449, 0.0027405863645363804), (3271, 0.0027403415978842337), (3893, 0.0027398348303490174), (4024, 0.002738817823037397), (3757, 0.0027358120658869957), (2190, 0.0027337675859246575), (2776, 0.0027315257028121924), (1518, 0.00273147075556491), (1848, 0.0027301751429851437), (1907, 0.0027299453987985325), (4132, 0.002729915146874504), (4161, 0.002728429570225236), (4657, 0.0027276694223573304), (2475, 0.002727438673721665), (1995, 0.002727110649679419), (4540, 0.0027251255860746932), (4245, 0.002724901673319483), (791, 0.0027245490827624776), (3184, 0.0027240379933447614), (2661, 0.0027225967815229855), (3496, 0.002722348105245073), (395, 0.0027210652124724606), (1637, 0.002720463657139302), (4269, 0.0027203946975308483), (3781, 0.002717402025763326), (4495, 0.002716533945847962), (2786, 0.002715966686361918), (4574, 0.002715543513395254), (872, 0.0027151279537172817), (4111, 0.0027150310497208027), (1683, 0.0027139443671448764), (1409, 0.0027132641602936663), (2260, 0.002713062173204411), (2725, 0.002712359055125161), (3873, 0.00271189350840195), (4680, 0.002711671174492814), (2940, 0.002710772343352202), (3007, 0.0027094277754945184), (2391, 0.00270877751637532), (12, 0.0027083403549614574), (2393, 0.0027065538121768627), (1324, 0.0027053582349253753), (2609, 0.002705146017436059), (826, 0.002704815148187846), (3601, 0.002704796924602712), (2664, 0.002703826942826442), (3235, 0.0027036651130922895), (4357, 0.0027034679302635808), (2970, 0.0027032949511497564), (4355, 0.0027018875230114077), (4169, 0.0027015747367255608), (3987, 0.002701211892488908), (2105, 0.002700658222522971), (3434, 0.0026981585993175548), (3678, 0.0026980940701351206), (74, 0.002697321222497817), (680, 0.002697185414224174), (246, 0.0026971635638096143), (3590, 0.0026940584214214624), (623, 0.002693625705453473), (612, 0.0026927305201672825), (2821, 0.002692429842320299), (1896, 0.0026905206917478513), (2361, 0.002690128238753355), (3084, 0.002689900140730751), (4489, 0.0026898571212910427), (3314, 0.0026898098056917486), (4471, 0.002689451482618859), (4054, 0.002689240504457996), (456, 0.002687049016489072), (2792, 0.0026869471767721692), (4505, 0.002684540711662958), (2953, 0.002684490889512162), (4575, 0.002683455745897461), (2288, 0.002682616857696323), (2755, 0.0026817901026760537), (4286, 0.0026814309883877183), (2610, 0.0026802854429516187), (4318, 0.0026799528252094704), (1822, 0.0026772468878810953), (3037, 0.0026770809629725915), (3406, 0.0026765700485092483), (4, 0.0026759665928032302), (1893, 0.002674980291477653), (4420, 0.002674280774418094), (4566, 0.0026735546109579985), (2878, 0.0026734722698293838), (1916, 0.0026726151622681778), (3388, 0.002672146305255844), (783, 0.002671657768184265), (2385, 0.00267123620628355), (1007, 0.0026699680308093048), (1670, 0.002669356145188007), (3882, 0.0026692254727586633), (3187, 0.0026688975569496213), (178, 0.0026679650494889234), (3654, 0.002667297611504451), (1570, 0.0026672319410395466), (2419, 0.002664517725272707), (262, 0.002664335955514705), (3372, 0.0026635908403475645), (3242, 0.0026627240239371097), (4225, 0.002662303167849778), (1402, 0.002659466738009274), (564, 0.002657027849458249), (4363, 0.002656280498809686), (1439, 0.0026554823490857376), (4497, 0.002655261120508835), (3493, 0.0026545144823408597), (2083, 0.0026541513520933206), (3150, 0.002653530209421674), (20, 0.0026527570934446066), (2926, 0.0026523761741113687), (3770, 0.0026521310442793435), (211, 0.0026509436265181466), (1660, 0.002649882201961702), (4448, 0.0026486240455653193), (4083, 0.002647802731253027), (2561, 0.00264593995292727), (3241, 0.0026458927031980627), (3845, 0.00264536067742802), (890, 0.0026450709873933557), (717, 0.0026448136161407753), (4419, 0.0026439719893291574), (2531, 0.002643156888826267), (23, 0.0026429172195160198), (2370, 0.002642265734795532), (4136, 0.0026420257284279123), (3224, 0.002640477416532266), (1851, 0.0026403793617911795), (2911, 0.0026395262476918485), (3902, 0.0026388324543919197), (884, 0.002638659493160795), (4361, 0.0026386334816726476), (2904, 0.0026379051786142274), (2405, 0.0026377860013835817), (3353, 0.0026367027726778495), (588, 0.0026354138296516647), (2319, 0.0026346960439084625), (1364, 0.0026334624526359895), (4625, 0.0026333505042846904), (4262, 0.0026330476415983117), (4756, 0.002632461050300673), (987, 0.002630563204847358), (4079, 0.0026291170110588594), (2148, 0.0026287367207624723), (2072, 0.0026280155284696), (3920, 0.0026269850198830528), (11, 0.0026263170118314915), (3517, 0.0026259815785324952), (1703, 0.002624080641588584), (1765, 0.0026230801215001583), (4340, 0.0026230583862476187), (3527, 0.0026216332494819416), (4334, 0.0026212769553910806), (4422, 0.002620883442152452), (4287, 0.002620191446121034), (3198, 0.0026199745298642594), (2863, 0.002614997779838142), (3636, 0.0026136381292832115), (377, 0.002613134236024629), (1717, 0.002611987036217893), (1516, 0.0026119169121049373), (3290, 0.0026100030058059257), (4643, 0.0026087964121890832), (1768, 0.0026075507565416424), (1946, 0.0026061546823441585), (871, 0.0026058791087421596), (2466, 0.0026046209947012903), (2230, 0.0026046209600846023), (865, 0.0026041473034027983), (3016, 0.0026036229481642107), (1294, 0.0026035681087027305), (2894, 0.0026026276553647375), (4563, 0.0026006699960084098), (3289, 0.0025991464854026964), (3225, 0.002598945361261664), (3809, 0.002598493390633651), (71, 0.002598233031967091), (3445, 0.0025973749235322155), (1355, 0.0025971791308945567), (3526, 0.002595503472085825), (4273, 0.0025953107452440388), (3542, 0.002594891823392815), (115, 0.0025933002005932644), (2386, 0.0025929474899069405), (933, 0.0025901424197287398), (1176, 0.0025888535739499907), (969, 0.0025886358479461327), (3113, 0.0025867747290768866), (3606, 0.0025858958517718123), (4197, 0.0025854969931686654), (2073, 0.002584790940607842), (3182, 0.002583558004693464), (3283, 0.0025832882921760806), (2292, 0.002583082507131753), (1122, 0.002582060742118795), (3707, 0.0025812562026774183), (2397, 0.0025793747195195214), (3792, 0.00257917156307823), (2746, 0.0025787071567579885), (2313, 0.002574911454680032), (4049, 0.0025739499721083815), (198, 0.0025732563219333354), (1204, 0.0025732065841903313), (2430, 0.0025731521208091812), (1533, 0.0025726575647058076), (4135, 0.0025721544003564087), (579, 0.0025709274312358285), (1476, 0.002569492630955095), (4014, 0.002566107194359398), (3739, 0.0025640637911042356), (2652, 0.002563989720311715), (1410, 0.0025632853630778354), (4391, 0.0025630593883972366), (3335, 0.002562498848059044), (4501, 0.0025623314809338047), (1722, 0.0025610950655021386), (3551, 0.0025597255630833856), (1574, 0.0025593435180176335), (1706, 0.0025592802656095133), (2396, 0.0025592317330554275), (4266, 0.002559182443926289), (2554, 0.002558519538702846), (848, 0.0025577444283759222), (993, 0.0025548338994164986), (2192, 0.0025540715080322423), (2169, 0.0025525752827928266), (2783, 0.0025523400942677943), (2492, 0.002552054444300246), (4686, 0.0025516433396604223), (504, 0.0025515084152291085), (2067, 0.002551429514355935), (2533, 0.002550824512247658), (4604, 0.0025498804584698246), (2826, 0.002549723716021327), (378, 0.0025470432429252456), (3491, 0.002546138032500976), (3564, 0.002546021075884705), (1131, 0.0025446452170364256), (3341, 0.0025432834702508117), (2340, 0.0025424641138803356), (1170, 0.002539030797647179), (2354, 0.002538709830463113), (114, 0.002538593432573124), (749, 0.002537705888891391), (4330, 0.00253759563114658), (1304, 0.0025370239986737347), (3478, 0.0025361871902406415), (2495, 0.002535957077383429), (226, 0.002535833594602342), (1378, 0.002534027305302708), (4427, 0.002533334775450861), (1163, 0.002531711260276244), (66, 0.0025312341363153933), (2387, 0.0025306660961036333), (4320, 0.0025297404552931542), (2195, 0.002529494013120003), (2900, 0.002528116234955643), (2943, 0.0025270661897384182), (3673, 0.0025259098893481075), (3216, 0.0025238101626349585), (2853, 0.0025234742839204253), (4056, 0.002522476728047455), (1298, 0.0025221305830124743), (2999, 0.0025217999584430033), (4409, 0.0025211780579558235), (2289, 0.002518618771412099), (4394, 0.002516685249546862), (3441, 0.0025153505923608717), (3477, 0.002514868609303398), (1891, 0.0025141756377858905), (400, 0.0025128954646050504), (1072, 0.002511969113336023), (490, 0.0025114046023391725), (4520, 0.0025106563620273807), (348, 0.002510604930984473), (2060, 0.0025104283919120114), (3565, 0.0025099886574085723), (1831, 0.002507649517352609), (247, 0.002507649315273456), (466, 0.002507384990996102), (1411, 0.0025061728502699713), (2569, 0.0025060501697395116), (3381, 0.0025058973578958132), (4228, 0.002505610963151872), (1598, 0.0025035780137042654), (1666, 0.0025010320929579662), (1550, 0.0025008431493619386), (2416, 0.0024995988683299913), (1313, 0.0024991701666688348), (973, 0.002498682974922026), (4487, 0.002498674942563265), (3173, 0.0024976685366919467), (3093, 0.002495957880230708), (2946, 0.0024959286076673094), (3906, 0.0024952876605332792), (3647, 0.0024952762541183417), (1100, 0.002494207439481666), (1110, 0.002492903556142449), (169, 0.0024917837504511062), (215, 0.0024916105012742816), (1026, 0.0024886894329191793), (1319, 0.0024882460941023266), (4020, 0.0024881089755816057), (3557, 0.002487046708104953), (3827, 0.002486666559187951), (3379, 0.0024864932425056924), (1286, 0.0024863444285309457), (1084, 0.0024851270070419744), (1882, 0.0024849159474963373), (2111, 0.002484294204794003), (98, 0.0024834093817619105), (2945, 0.0024825994654153038), (26, 0.0024815199490618), (4530, 0.002480367673515684), (2226, 0.002479938581585672), (4687, 0.0024798705471827005), (3220, 0.0024786990760609223), (4036, 0.0024780774227247024), (3069, 0.0024767080275248632), (1617, 0.002475975690192023), (3719, 0.0024754549920114216), (3706, 0.0024751333238974306), (4743, 0.0024746031040856907), (3412, 0.0024735000721670024), (2909, 0.002473493900684702), (3402, 0.002471455859944226), (1350, 0.002470461927847056), (1408, 0.0024700615971213528), (127, 0.0024694587388694603), (1422, 0.0024693633273359873), (1284, 0.002468849236494781), (2401, 0.0024648293362693734), (755, 0.0024647317404651358), (3765, 0.0024636042749015424), (4693, 0.0024635743266324837), (959, 0.002463402893606119), (3075, 0.0024631511126581686), (1813, 0.0024622434788397667), (2422, 0.0024618756983895), (4183, 0.0024598501729012853), (349, 0.0024597751017132285), (2461, 0.0024590433491334038), (4381, 0.002458728622652153), (4550, 0.00245867485009386), (4573, 0.002458614741936614), (4129, 0.0024548456995279735), (3348, 0.002454413673103588), (3890, 0.0024536526556442157), (541, 0.0024531262551875307), (488, 0.0024531249664626526), (4472, 0.0024516055231321734), (2571, 0.0024503212988856386), (1645, 0.0024501016352676042), (3298, 0.002449889141972864), (4069, 0.0024496794215734174), (1247, 0.002449604610534502), (2612, 0.0024494145037263775), (2268, 0.002449391524423003), (3641, 0.0024493907161684263), (4139, 0.0024490787046745617), (1969, 0.0024475444749093773), (1463, 0.002445280715608024), (2642, 0.0024435014093075946), (1597, 0.0024430773578123536), (4461, 0.0024415519508728923), (3917, 0.0024396790123713276), (646, 0.0024389251045113143), (3900, 0.0024387712171574766), (1117, 0.002436394872188748), (2131, 0.002436356653510952), (4729, 0.002436136228931941), (2117, 0.0024327389263131276), (3503, 0.0024319481504375285), (1034, 0.002428788548445367), (487, 0.0024278315922302163), (2367, 0.002427701738116989), (731, 0.002426041885645131), (1027, 0.0024251785301193946), (2141, 0.00242412156867798), (4567, 0.0024239308498221444), (1416, 0.00242360821964544), (4536, 0.0024230497488252263), (4155, 0.0024229225872662036), (883, 0.002422689099820759), (3214, 0.0024212685427485426), (2779, 0.0024210805376161204), (3268, 0.0024206147492601745), (854, 0.0024204130433707048), (798, 0.0024202791549872184), (1877, 0.0024201305065912836), (1744, 0.0024194666478152232), (1929, 0.002417798731242781), (1002, 0.0024164625079969525), (3390, 0.0024164444715753866), (157, 0.0024154394861414467), (4085, 0.002413872752453439), (1273, 0.00241372964489964), (3691, 0.002413294151246662), (3170, 0.0024127694654795177), (984, 0.0024124304913493468), (4213, 0.002411633257182007), (221, 0.0024113614902875756), (2765, 0.002410741070728475), (2242, 0.0024106327127107353), (2068, 0.0024099656054347007), (505, 0.002409323202911005), (2965, 0.002409187210510178), (4206, 0.0024090792775228157), (4428, 0.0024082352367095087), (2892, 0.0024074500325428783), (3898, 0.0024067454994173855), (767, 0.002405830891505594), (4345, 0.0024056806139171995), (3799, 0.0024040976357289317), (373, 0.0024035937816996485), (2679, 0.002399906962190324), (698, 0.002399544762154424), (2651, 0.002399527090955675), (3646, 0.0023981258846872276), (1742, 0.002398036686183952), (1404, 0.002397366483284294), (2997, 0.0023971601065590838), (325, 0.0023966071369795313), (2800, 0.002396136918108817), (1032, 0.0023954401496635793), (3014, 0.0023942259924392586), (388, 0.0023942044323020653), (3194, 0.002393826048162591), (1036, 0.002391995314691646), (3811, 0.0023908909837663888), (1663, 0.0023892673771611765), (2166, 0.0023885315719300087), (3615, 0.002388296766524122), (2525, 0.0023881792409710723), (2004, 0.0023836845211184176), (3300, 0.0023833694605941177), (4011, 0.0023818585917991975), (507, 0.0023814032611240723), (4254, 0.0023813558699458046), (1693, 0.0023812582628834804), (154, 0.002380610004741567), (3057, 0.0023791981149129493), (1372, 0.002379092284915241), (886, 0.0023776858160629247), (140, 0.002375714381583937), (3071, 0.002375524856170654), (941, 0.0023753858347316313), (3243, 0.0023753766953138553), (975, 0.0023742544854066395), (4059, 0.0023717520410445306), (2552, 0.0023711683412701526), (2099, 0.0023705148642880736), (1884, 0.0023704895535816193), (2634, 0.0023697651035010894), (471, 0.002368427181806095), (655, 0.0023683578516378546), (4634, 0.0023665371862373764), (229, 0.002364464894441411), (2862, 0.00236358722606658), (372, 0.0023630726175345195), (598, 0.002363017019179979), (944, 0.002362909437140335), (659, 0.0023624315239011307), (3725, 0.0023614834077740256), (3147, 0.0023610495805435113), (410, 0.0023595146802160606), (2201, 0.0023592728404303784), (4356, 0.0023586709927771476), (1558, 0.0023575804558839345), (2446, 0.0023555939250982988), (2528, 0.0023552329351234197), (1456, 0.00235405416458593), (3500, 0.002352966728399302), (2907, 0.0023521461999904793), (1641, 0.002351853169564637), (2556, 0.0023516975035823683), (589, 0.002350459610419985), (2129, 0.002350041367477207), (399, 0.0023500375059201137), (1642, 0.002347271044462082), (2317, 0.002346650633681952), (3627, 0.0023466132651486036), (805, 0.002345272830088757), (4616, 0.0023428090596489324), (136, 0.0023420536635438975), (2735, 0.0023416543354241154), (2399, 0.0023410933373043154), (2593, 0.002339930796183013), (3369, 0.0023393798748198896), (355, 0.002338600461277963), (2482, 0.0023377306593093767), (324, 0.0023375564513999506), (1357, 0.0023372106844995522), (1543, 0.0023366207244844297), (4479, 0.0023358563951205434), (1814, 0.0023351957135587156), (2674, 0.002334618638576613), (4174, 0.0023343493902812707), (2845, 0.0023343307734320145), (4348, 0.0023323300386728536), (907, 0.0023323006017659173), (1079, 0.0023322559654003526), (2453, 0.002330973019391162), (121, 0.0023309647694089563), (3455, 0.002328708998375963), (457, 0.002327732812904547), (359, 0.0023274681266520665), (524, 0.002326628494390853), (4326, 0.002325224684454586), (416, 0.002324088327746965), (3050, 0.0023236180324524933), (4277, 0.0023230286175405807), (1672, 0.002321722396026475), (1628, 0.0023205936685129587), (624, 0.0023197786136598814), (1782, 0.002319619744996233), (4620, 0.0023172719562090504), (3742, 0.0023166044562877935), (2954, 0.002315748814608356), (1434, 0.002315527367297578), (4359, 0.002315457705635693), (4638, 0.0023135084446129625), (3563, 0.002311499623348645), (759, 0.0023091179068573924), (2728, 0.0023085003156347404), (3953, 0.0023075672917894077), (3278, 0.0023061090609036313), (1528, 0.002303568038250878), (1503, 0.0022994734248893804), (2402, 0.0022968220881025465), (3304, 0.0022964795595691884), (1869, 0.0022962581361569965), (3614, 0.002295596338649645), (473, 0.0022945038896853647), (3311, 0.0022941875363447282), (1827, 0.002293422535226092), (1826, 0.0022933726714825576), (2338, 0.0022913946207671343), (1605, 0.0022912512467324424), (1161, 0.0022893898458985064), (1719, 0.0022888904388658864), (2323, 0.002288710033556969), (1366, 0.0022877468313852664), (4350, 0.00228597005386794), (4712, 0.002284689699683904), (2741, 0.002283548881816105), (1080, 0.002283153078480931), (3336, 0.0022827623066486316), (4074, 0.002282385064502933), (3027, 0.0022822077528129765), (3986, 0.0022819497828374434), (2457, 0.002281400117753307), (1625, 0.0022805657073798956), (4143, 0.0022797552107130963), (3863, 0.0022790086794717717), (722, 0.002278862164489498), (4304, 0.002276243083383022), (2591, 0.002275344532719518), (1219, 0.0022752191158049344), (158, 0.002274967685727569), (3327, 0.002274866668351808), (1980, 0.00227477464899649), (1808, 0.0022745282789540036), (4080, 0.002274010786165699), (1004, 0.0022732257076968922), (2976, 0.0022719244680200154), (3795, 0.0022686851808269076), (594, 0.0022668822325154735), (1921, 0.0022665867771187306), (815, 0.0022658102075283266), (856, 0.0022638347872648936), (2163, 0.002262996563982751), (268, 0.0022620244651643815), (1318, 0.0022618699066821774), (2213, 0.0022616680757847948), (1392, 0.0022549171667648254), (703, 0.002252830558764676), (3380, 0.0022513613222782006), (1423, 0.002250838550875257), (132, 0.0022485035909542398), (1830, 0.002247218249834535), (1394, 0.0022470021552231235), (1954, 0.0022466176603640644), (1251, 0.0022442547715836978), (4343, 0.002243294059099312), (495, 0.0022431563403783133), (3755, 0.002241461077547313), (2047, 0.002241134126322357), (712, 0.0022406993971376544), (2502, 0.00223764903510972), (4220, 0.0022373580615292327), (1199, 0.002237279405744827), (2753, 0.0022342808694140515), (184, 0.0022333195719391554), (92, 0.002231938202318901), (605, 0.0022316315763223375), (4247, 0.002229109657702569), (1616, 0.0022287724411460988), (4066, 0.002227252098130379), (97, 0.0022256720396511935), (2240, 0.0022256256462686408), (480, 0.002225493785794768), (647, 0.0022252480933714737), (3894, 0.0022242858410916593), (249, 0.0022242181571218047), (1301, 0.0022157326279519385), (4296, 0.0022091218180194496), (4473, 0.0022088482857684994), (1943, 0.0022075058990114124), (2721, 0.0022037253425713542), (4429, 0.002202062550120158), (1217, 0.0022018181096331805), (2520, 0.0021985696707984242), (2747, 0.0021975775185931763), (103, 0.002196696924815654), (3211, 0.0021958742889033934), (165, 0.0021924308432048874), (2270, 0.00219130592332667), (357, 0.0021885661052920605), (1828, 0.002188375397088414), (4386, 0.00218734688146368), (1370, 0.0021868135313336924), (1450, 0.0021855787670099175), (278, 0.0021843202599993138), (3238, 0.0021825937843072797), (2527, 0.0021813091911791218), (3393, 0.002181253369120151), (286, 0.0021763451606793827), (2611, 0.002175815881279172), (3569, 0.002174456030263495), (2743, 0.0021744283783759373), (4411, 0.002172750642469467), (2382, 0.002172550292225871), (4476, 0.002170214823496106), (1088, 0.0021680283963311565), (1565, 0.00216783239418901), (2146, 0.0021674057808973805), (1691, 0.002164018010334086), (432, 0.002157573346153142), (3200, 0.0021549128346638855), (1352, 0.0021543285954857753), (2758, 0.002153957079075249), (1340, 0.0021538351318456717), (3855, 0.002151981507583706), (626, 0.0021492988165263674), (3669, 0.0021492957787100806), (267, 0.0021492676003019005), (3668, 0.002146676808987418), (951, 0.0021410138183139585), (3657, 0.0021402453501994092), (4636, 0.0021387597745254486), (2039, 0.0021333513682361698), (707, 0.0021331859766897036), (195, 0.0021317422811621754), (196, 0.0021302417886199295), (1801, 0.0021299122361676443), (2127, 0.0021291085789020402), (3347, 0.0021286521604270314), (2132, 0.002118807318914566), (3928, 0.002118505549736894), (1042, 0.0021181778347175257), (2359, 0.002116836884908641), (2287, 0.002115909997010881), (1209, 0.0021134636228278118), (3252, 0.002113286442481704), (3056, 0.002101035489155866), (901, 0.0021006570803087372), (3024, 0.002098006477285881), (4200, 0.002096886599853674), (1305, 0.002096690938261902), (4015, 0.0020921059156520354), (2034, 0.002089491496826586), (3548, 0.0020856240241655002), (2509, 0.0020841748846264375), (1427, 0.002079006180481084), (1415, 0.002077914644244706), (2526, 0.002075083200627539), (645, 0.00207140504665391), (1624, 0.0020638114682631757), (4311, 0.00206051039801924), (4744, 0.002055966077073321), (2441, 0.002053736643431966), (4626, 0.002050481727273585), (3575, 0.00204892542434744), (3431, 0.0020366287014385314), (194, 0.002034839745506438), (3538, 0.0020222667751278976), (2766, 0.0020124065471371724), (2010, 0.0020028590070789534), (1677, 0.001995311917545588), (4598, 0.001989708285475718), (3301, 0.001986042001116353), (1040, 0.0019808664673990114), (3199, 0.001964000627408032), (607, 0.00195429012036482), (3626, 0.0019457778288461563), (453, 0.0019393347333000763), (351, 0.001934949810470641), (228, 0.0019207863172057056), (2636, 0.001904071921963219), (4445, 0.0019039356006044577), (1277, 0.0018965691925550336), (3546, 0.0018921856768456726), (4301, 0.0018816480208664048), (2902, 0.0018652926953995985), (4752, 0.0018166836686154624), (293, 0.0018032932320903583), (4171, 0.0017924201375203223), (3365, 0.0017885245766340774), (129, 0.0017710145837505121), (740, 0.001701373849080024), (3392, 0.0016851661424786921), (202, 0.0016641723699352558), (24, 0.001656448263643531), (1780, 0.0016544448680672222), (3608, 0.0016519407502508057), (2534, 0.0011313649045941105), (1, 0.0), (2, 0.0), (14, 0.0), (17, 0.0), (28, 0.0), (36, 0.0), (37, 0.0), (49, 0.0), (53, 0.0), (54, 0.0), (55, 0.0), (58, 0.0), (59, 0.0), (64, 0.0), (73, 0.0), (91, 0.0), (100, 0.0), (101, 0.0), (117, 0.0), (133, 0.0), (134, 0.0), (141, 0.0), (146, 0.0), (150, 0.0), (151, 0.0), (153, 0.0), (163, 0.0), (171, 0.0), (186, 0.0), (188, 0.0), (205, 0.0), (214, 0.0), (219, 0.0), (223, 0.0), (225, 0.0), (237, 0.0), (245, 0.0), (258, 0.0), (259, 0.0), (264, 0.0), (265, 0.0), (272, 0.0), (275, 0.0), (297, 0.0), (298, 0.0), (299, 0.0), (302, 0.0), (312, 0.0), (319, 0.0), (331, 0.0), (335, 0.0), (337, 0.0), (338, 0.0), (339, 0.0), (344, 0.0), (352, 0.0), (361, 0.0), (362, 0.0), (365, 0.0), (366, 0.0), (376, 0.0), (379, 0.0), (382, 0.0), (390, 0.0), (391, 0.0), (392, 0.0), (393, 0.0), (394, 0.0), (401, 0.0), (404, 0.0), (405, 0.0), (411, 0.0), (415, 0.0), (423, 0.0), (427, 0.0), (439, 0.0), (440, 0.0), (454, 0.0), (484, 0.0), (486, 0.0), (491, 0.0), (492, 0.0), (498, 0.0), (506, 0.0), (516, 0.0), (517, 0.0), (520, 0.0), (525, 0.0), (528, 0.0), (529, 0.0), (531, 0.0), (535, 0.0), (536, 0.0), (546, 0.0), (548, 0.0), (549, 0.0), (552, 0.0), (554, 0.0), (556, 0.0), (557, 0.0), (565, 0.0), (567, 0.0), (569, 0.0), (570, 0.0), (572, 0.0), (573, 0.0), (574, 0.0), (575, 0.0), (577, 0.0), (585, 0.0), (591, 0.0), (592, 0.0), (599, 0.0), (601, 0.0), (602, 0.0), (603, 0.0), (610, 0.0), (630, 0.0), (649, 0.0), (650, 0.0), (656, 0.0), (658, 0.0), (662, 0.0), (663, 0.0), (665, 0.0), (674, 0.0), (679, 0.0), (681, 0.0), (686, 0.0), (699, 0.0), (700, 0.0), (702, 0.0), (704, 0.0), (708, 0.0), (709, 0.0), (711, 0.0), (713, 0.0), (714, 0.0), (718, 0.0), (720, 0.0), (724, 0.0), (725, 0.0), (726, 0.0), (730, 0.0), (736, 0.0), (741, 0.0), (746, 0.0), (747, 0.0), (751, 0.0), (754, 0.0), (764, 0.0), (770, 0.0), (771, 0.0), (772, 0.0), (773, 0.0), (780, 0.0), (781, 0.0), (784, 0.0), (785, 0.0), (786, 0.0), (789, 0.0), (797, 0.0), (807, 0.0), (819, 0.0), (820, 0.0), (822, 0.0), (837, 0.0), (839, 0.0), (840, 0.0), (841, 0.0), (846, 0.0), (859, 0.0), (881, 0.0), (882, 0.0), (892, 0.0), (909, 0.0), (912, 0.0), (913, 0.0), (914, 0.0), (920, 0.0), (926, 0.0), (938, 0.0), (943, 0.0), (945, 0.0), (946, 0.0), (950, 0.0), (954, 0.0), (955, 0.0), (956, 0.0), (960, 0.0), (961, 0.0), (964, 0.0), (965, 0.0), (971, 0.0), (972, 0.0), (977, 0.0), (978, 0.0), (982, 0.0), (983, 0.0), (990, 0.0), (995, 0.0), (1008, 0.0), (1010, 0.0), (1011, 0.0), (1013, 0.0), (1016, 0.0), (1022, 0.0), (1025, 0.0), (1028, 0.0), (1029, 0.0), (1031, 0.0), (1038, 0.0), (1039, 0.0), (1051, 0.0), (1055, 0.0), (1056, 0.0), (1062, 0.0), (1066, 0.0), (1067, 0.0), (1073, 0.0), (1081, 0.0), (1086, 0.0), (1089, 0.0), (1091, 0.0), (1093, 0.0), (1097, 0.0), (1101, 0.0), (1103, 0.0), (1105, 0.0), (1106, 0.0), (1108, 0.0), (1113, 0.0), (1126, 0.0), (1130, 0.0), (1133, 0.0), (1135, 0.0), (1139, 0.0), (1142, 0.0), (1143, 0.0), (1147, 0.0), (1149, 0.0), (1151, 0.0), (1155, 0.0), (1156, 0.0), (1159, 0.0), (1165, 0.0), (1166, 0.0), (1171, 0.0), (1178, 0.0), (1180, 0.0), (1189, 0.0), (1190, 0.0), (1193, 0.0), (1196, 0.0), (1198, 0.0), (1200, 0.0), (1201, 0.0), (1212, 0.0), (1218, 0.0), (1221, 0.0), (1222, 0.0), (1227, 0.0), (1228, 0.0), (1233, 0.0), (1235, 0.0), (1240, 0.0), (1242, 0.0), (1244, 0.0), (1246, 0.0), (1253, 0.0), (1256, 0.0), (1258, 0.0), (1263, 0.0), (1265, 0.0), (1268, 0.0), (1269, 0.0), (1271, 0.0), (1285, 0.0), (1287, 0.0), (1288, 0.0), (1289, 0.0), (1291, 0.0), (1295, 0.0), (1296, 0.0), (1297, 0.0), (1299, 0.0), (1315, 0.0), (1321, 0.0), (1322, 0.0), (1323, 0.0), (1326, 0.0), (1328, 0.0), (1333, 0.0), (1336, 0.0), (1346, 0.0), (1353, 0.0), (1354, 0.0), (1368, 0.0), (1373, 0.0), (1390, 0.0), (1399, 0.0), (1424, 0.0), (1437, 0.0), (1441, 0.0), (1444, 0.0), (1447, 0.0), (1457, 0.0), (1459, 0.0), (1460, 0.0), (1466, 0.0), (1467, 0.0), (1468, 0.0), (1470, 0.0), (1473, 0.0), (1485, 0.0), (1487, 0.0), (1490, 0.0), (1491, 0.0), (1495, 0.0), (1496, 0.0), (1508, 0.0), (1511, 0.0), (1517, 0.0), (1520, 0.0), (1521, 0.0), (1522, 0.0), (1524, 0.0), (1525, 0.0), (1529, 0.0), (1532, 0.0), (1534, 0.0), (1535, 0.0), (1541, 0.0), (1545, 0.0), (1548, 0.0), (1549, 0.0), (1556, 0.0), (1557, 0.0), (1561, 0.0), (1563, 0.0), (1564, 0.0), (1569, 0.0), (1577, 0.0), (1578, 0.0), (1581, 0.0), (1584, 0.0), (1586, 0.0), (1589, 0.0), (1592, 0.0), (1596, 0.0), (1599, 0.0), (1600, 0.0), (1601, 0.0), (1602, 0.0), (1603, 0.0), (1604, 0.0), (1606, 0.0), (1607, 0.0), (1610, 0.0), (1611, 0.0), (1613, 0.0), (1615, 0.0), (1618, 0.0), (1626, 0.0), (1636, 0.0), (1638, 0.0), (1639, 0.0), (1640, 0.0), (1646, 0.0), (1649, 0.0), (1651, 0.0), (1668, 0.0), (1669, 0.0), (1673, 0.0), (1679, 0.0), (1686, 0.0), (1689, 0.0), (1697, 0.0), (1698, 0.0), (1700, 0.0), (1704, 0.0), (1709, 0.0), (1725, 0.0), (1726, 0.0), (1728, 0.0), (1729, 0.0), (1731, 0.0), (1734, 0.0), (1745, 0.0), (1751, 0.0), (1755, 0.0), (1756, 0.0), (1758, 0.0), (1766, 0.0), (1767, 0.0), (1769, 0.0), (1771, 0.0), (1775, 0.0), (1777, 0.0), (1778, 0.0), (1783, 0.0), (1785, 0.0), (1786, 0.0), (1794, 0.0), (1800, 0.0), (1803, 0.0), (1804, 0.0), (1810, 0.0), (1820, 0.0), (1823, 0.0), (1824, 0.0), (1825, 0.0), (1834, 0.0), (1835, 0.0), (1836, 0.0), (1839, 0.0), (1842, 0.0), (1844, 0.0), (1855, 0.0), (1856, 0.0), (1879, 0.0), (1883, 0.0), (1888, 0.0), (1889, 0.0), (1894, 0.0), (1898, 0.0), (1899, 0.0), (1912, 0.0), (1915, 0.0), (1917, 0.0), (1926, 0.0), (1928, 0.0), (1932, 0.0), (1938, 0.0), (1944, 0.0), (1955, 0.0), (1956, 0.0), (1961, 0.0), (1963, 0.0), (1965, 0.0), (1966, 0.0), (1972, 0.0), (1974, 0.0), (1978, 0.0), (1979, 0.0), (1984, 0.0), (2001, 0.0), (2002, 0.0), (2003, 0.0), (2006, 0.0), (2007, 0.0), (2009, 0.0), (2017, 0.0), (2019, 0.0), (2021, 0.0), (2025, 0.0), (2028, 0.0), (2030, 0.0), (2032, 0.0), (2033, 0.0), (2036, 0.0), (2038, 0.0), (2041, 0.0), (2042, 0.0), (2043, 0.0), (2046, 0.0), (2050, 0.0), (2054, 0.0), (2059, 0.0), (2063, 0.0), (2071, 0.0), (2079, 0.0), (2081, 0.0), (2085, 0.0), (2086, 0.0), (2090, 0.0), (2092, 0.0), (2106, 0.0), (2107, 0.0), (2115, 0.0), (2118, 0.0), (2120, 0.0), (2124, 0.0), (2125, 0.0), (2128, 0.0), (2135, 0.0), (2138, 0.0), (2140, 0.0), (2150, 0.0), (2152, 0.0), (2153, 0.0), (2164, 0.0), (2165, 0.0), (2168, 0.0), (2170, 0.0), (2171, 0.0), (2172, 0.0), (2179, 0.0), (2180, 0.0), (2182, 0.0), (2183, 0.0), (2186, 0.0), (2194, 0.0), (2200, 0.0), (2204, 0.0), (2215, 0.0), (2217, 0.0), (2218, 0.0), (2219, 0.0), (2220, 0.0), (2222, 0.0), (2225, 0.0), (2227, 0.0), (2233, 0.0), (2234, 0.0), (2238, 0.0), (2241, 0.0), (2243, 0.0), (2247, 0.0), (2249, 0.0), (2253, 0.0), (2256, 0.0), (2259, 0.0), (2261, 0.0), (2262, 0.0), (2263, 0.0), (2267, 0.0), (2271, 0.0), (2272, 0.0), (2274, 0.0), (2281, 0.0), (2282, 0.0), (2296, 0.0), (2297, 0.0), (2300, 0.0), (2305, 0.0), (2307, 0.0), (2311, 0.0), (2312, 0.0), (2315, 0.0), (2322, 0.0), (2325, 0.0), (2327, 0.0), (2329, 0.0), (2331, 0.0), (2332, 0.0), (2333, 0.0), (2337, 0.0), (2341, 0.0), (2342, 0.0), (2345, 0.0), (2351, 0.0), (2352, 0.0), (2357, 0.0), (2360, 0.0), (2364, 0.0), (2369, 0.0), (2372, 0.0), (2373, 0.0), (2377, 0.0), (2380, 0.0), (2381, 0.0), (2384, 0.0), (2389, 0.0), (2395, 0.0), (2398, 0.0), (2409, 0.0), (2414, 0.0), (2420, 0.0), (2431, 0.0), (2433, 0.0), (2435, 0.0), (2445, 0.0), (2450, 0.0), (2451, 0.0), (2452, 0.0), (2455, 0.0), (2456, 0.0), (2458, 0.0), (2462, 0.0), (2465, 0.0), (2470, 0.0), (2471, 0.0), (2472, 0.0), (2479, 0.0), (2483, 0.0), (2485, 0.0), (2491, 0.0), (2493, 0.0), (2497, 0.0), (2498, 0.0), (2499, 0.0), (2500, 0.0), (2504, 0.0), (2508, 0.0), (2511, 0.0), (2514, 0.0), (2515, 0.0), (2516, 0.0), (2518, 0.0), (2521, 0.0), (2523, 0.0), (2532, 0.0), (2536, 0.0), (2539, 0.0), (2542, 0.0), (2543, 0.0), (2547, 0.0), (2548, 0.0), (2549, 0.0), (2551, 0.0), (2562, 0.0), (2564, 0.0), (2566, 0.0), (2574, 0.0), (2575, 0.0), (2577, 0.0), (2578, 0.0), (2583, 0.0), (2584, 0.0), (2586, 0.0), (2588, 0.0), (2589, 0.0), (2590, 0.0), (2594, 0.0), (2596, 0.0), (2597, 0.0), (2604, 0.0), (2605, 0.0), (2608, 0.0), (2615, 0.0), (2616, 0.0), (2620, 0.0), (2627, 0.0), (2631, 0.0), (2637, 0.0), (2641, 0.0), (2648, 0.0), (2656, 0.0), (2657, 0.0), (2658, 0.0), (2659, 0.0), (2662, 0.0), (2663, 0.0), (2666, 0.0), (2667, 0.0), (2669, 0.0), (2670, 0.0), (2671, 0.0), (2672, 0.0), (2675, 0.0), (2676, 0.0), (2677, 0.0), (2681, 0.0), (2684, 0.0), (2685, 0.0), (2686, 0.0), (2690, 0.0), (2693, 0.0), (2701, 0.0), (2703, 0.0), (2704, 0.0), (2709, 0.0), (2715, 0.0), (2717, 0.0), (2719, 0.0), (2729, 0.0), (2730, 0.0), (2734, 0.0), (2737, 0.0), (2749, 0.0), (2750, 0.0), (2754, 0.0), (2756, 0.0), (2763, 0.0), (2770, 0.0), (2773, 0.0), (2781, 0.0), (2785, 0.0), (2793, 0.0), (2794, 0.0), (2799, 0.0), (2804, 0.0), (2806, 0.0), (2810, 0.0), (2811, 0.0), (2813, 0.0), (2814, 0.0), (2817, 0.0), (2818, 0.0), (2824, 0.0), (2827, 0.0), (2828, 0.0), (2829, 0.0), (2835, 0.0), (2836, 0.0), (2837, 0.0), (2839, 0.0), (2842, 0.0), (2850, 0.0), (2851, 0.0), (2852, 0.0), (2855, 0.0), (2856, 0.0), (2860, 0.0), (2864, 0.0), (2865, 0.0), (2866, 0.0), (2875, 0.0), (2877, 0.0), (2880, 0.0), (2891, 0.0), (2896, 0.0), (2898, 0.0), (2905, 0.0), (2906, 0.0), (2921, 0.0), (2922, 0.0), (2927, 0.0), (2928, 0.0), (2930, 0.0), (2938, 0.0), (2941, 0.0), (2951, 0.0), (2952, 0.0), (2955, 0.0), (2956, 0.0), (2958, 0.0), (2967, 0.0), (2968, 0.0), (2973, 0.0), (2979, 0.0), (2982, 0.0), (2983, 0.0), (2990, 0.0), (3001, 0.0), (3002, 0.0), (3006, 0.0), (3009, 0.0), (3021, 0.0), (3025, 0.0), (3029, 0.0), (3034, 0.0), (3038, 0.0), (3041, 0.0), (3047, 0.0), (3048, 0.0), (3054, 0.0), (3058, 0.0), (3059, 0.0), (3060, 0.0), (3061, 0.0), (3063, 0.0), (3073, 0.0), (3077, 0.0), (3078, 0.0), (3080, 0.0), (3082, 0.0), (3087, 0.0), (3088, 0.0), (3089, 0.0), (3090, 0.0), (3092, 0.0), (3103, 0.0), (3104, 0.0), (3105, 0.0), (3106, 0.0), (3107, 0.0), (3109, 0.0), (3115, 0.0), (3121, 0.0), (3130, 0.0), (3132, 0.0), (3138, 0.0), (3141, 0.0), (3145, 0.0), (3162, 0.0), (3169, 0.0), (3172, 0.0), (3175, 0.0), (3176, 0.0), (3177, 0.0), (3181, 0.0), (3188, 0.0), (3189, 0.0), (3190, 0.0), (3193, 0.0), (3197, 0.0), (3201, 0.0), (3202, 0.0), (3204, 0.0), (3207, 0.0), (3208, 0.0), (3212, 0.0), (3217, 0.0), (3221, 0.0), (3223, 0.0), (3229, 0.0), (3231, 0.0), (3236, 0.0), (3250, 0.0), (3251, 0.0), (3261, 0.0), (3266, 0.0), (3270, 0.0), (3272, 0.0), (3277, 0.0), (3281, 0.0), (3286, 0.0), (3287, 0.0), (3305, 0.0), (3310, 0.0), (3320, 0.0), (3321, 0.0), (3323, 0.0), (3324, 0.0), (3332, 0.0), (3333, 0.0), (3340, 0.0), (3343, 0.0), (3350, 0.0), (3366, 0.0), (3368, 0.0), (3371, 0.0), (3378, 0.0), (3383, 0.0), (3394, 0.0), (3397, 0.0), (3400, 0.0), (3401, 0.0), (3411, 0.0), (3415, 0.0), (3422, 0.0), (3424, 0.0), (3439, 0.0), (3442, 0.0), (3444, 0.0), (3454, 0.0), (3459, 0.0), (3461, 0.0), (3467, 0.0), (3472, 0.0), (3473, 0.0), (3475, 0.0), (3476, 0.0), (3481, 0.0), (3482, 0.0), (3485, 0.0), (3489, 0.0), (3490, 0.0), (3494, 0.0), (3505, 0.0), (3510, 0.0), (3519, 0.0), (3522, 0.0), (3525, 0.0), (3529, 0.0), (3530, 0.0), (3532, 0.0), (3533, 0.0), (3539, 0.0), (3543, 0.0), (3545, 0.0), (3547, 0.0), (3549, 0.0), (3550, 0.0), (3554, 0.0), (3562, 0.0), (3567, 0.0), (3568, 0.0), (3578, 0.0), (3581, 0.0), (3585, 0.0), (3589, 0.0), (3591, 0.0), (3592, 0.0), (3595, 0.0), (3600, 0.0), (3603, 0.0), (3607, 0.0), (3609, 0.0), (3610, 0.0), (3617, 0.0), (3622, 0.0), (3625, 0.0), (3628, 0.0), (3631, 0.0), (3633, 0.0), (3644, 0.0), (3649, 0.0), (3650, 0.0), (3662, 0.0), (3663, 0.0), (3671, 0.0), (3676, 0.0), (3681, 0.0), (3682, 0.0), (3683, 0.0), (3685, 0.0), (3686, 0.0), (3690, 0.0), (3693, 0.0), (3695, 0.0), (3697, 0.0), (3698, 0.0), (3700, 0.0), (3702, 0.0), (3703, 0.0), (3709, 0.0), (3712, 0.0), (3716, 0.0), (3717, 0.0), (3718, 0.0), (3722, 0.0), (3724, 0.0), (3726, 0.0), (3730, 0.0), (3732, 0.0), (3735, 0.0), (3736, 0.0), (3738, 0.0), (3740, 0.0), (3743, 0.0), (3758, 0.0), (3759, 0.0), (3760, 0.0), (3761, 0.0), (3764, 0.0), (3783, 0.0), (3785, 0.0), (3786, 0.0), (3789, 0.0), (3790, 0.0), (3791, 0.0), (3796, 0.0), (3798, 0.0), (3800, 0.0), (3803, 0.0), (3805, 0.0), (3808, 0.0), (3812, 0.0), (3816, 0.0), (3817, 0.0), (3818, 0.0), (3820, 0.0), (3830, 0.0), (3831, 0.0), (3834, 0.0), (3836, 0.0), (3837, 0.0), (3838, 0.0), (3840, 0.0), (3843, 0.0), (3846, 0.0), (3847, 0.0), (3851, 0.0), (3856, 0.0), (3858, 0.0), (3859, 0.0), (3869, 0.0), (3870, 0.0), (3879, 0.0), (3885, 0.0), (3887, 0.0), (3896, 0.0), (3912, 0.0), (3914, 0.0), (3918, 0.0), (3921, 0.0), (3929, 0.0), (3930, 0.0), (3931, 0.0), (3933, 0.0), (3936, 0.0), (3937, 0.0), (3943, 0.0), (3948, 0.0), (3950, 0.0), (3964, 0.0), (3965, 0.0), (3968, 0.0), (3969, 0.0), (3971, 0.0), (3972, 0.0), (3977, 0.0), (3979, 0.0), (3980, 0.0), (3981, 0.0), (3982, 0.0), (3985, 0.0), (3988, 0.0), (3991, 0.0), (3994, 0.0), (3996, 0.0), (4003, 0.0), (4006, 0.0), (4010, 0.0), (4018, 0.0), (4021, 0.0), (4022, 0.0), (4026, 0.0), (4027, 0.0), (4029, 0.0), (4031, 0.0), (4034, 0.0), (4037, 0.0), (4040, 0.0), (4041, 0.0), (4058, 0.0), (4063, 0.0), (4065, 0.0), (4067, 0.0), (4070, 0.0), (4072, 0.0), (4073, 0.0), (4078, 0.0), (4084, 0.0), (4086, 0.0), (4097, 0.0), (4100, 0.0), (4108, 0.0), (4109, 0.0), (4112, 0.0), (4114, 0.0), (4115, 0.0), (4125, 0.0), (4127, 0.0), (4131, 0.0), (4144, 0.0), (4146, 0.0), (4150, 0.0), (4153, 0.0), (4157, 0.0), (4159, 0.0), (4166, 0.0), (4167, 0.0), (4168, 0.0), (4170, 0.0), (4173, 0.0), (4179, 0.0), (4180, 0.0), (4181, 0.0), (4185, 0.0), (4186, 0.0), (4188, 0.0), (4190, 0.0), (4191, 0.0), (4194, 0.0), (4198, 0.0), (4199, 0.0), (4201, 0.0), (4204, 0.0), (4207, 0.0), (4212, 0.0), (4214, 0.0), (4215, 0.0), (4218, 0.0), (4223, 0.0), (4224, 0.0), (4229, 0.0), (4234, 0.0), (4237, 0.0), (4238, 0.0), (4239, 0.0), (4241, 0.0), (4250, 0.0), (4253, 0.0), (4256, 0.0), (4258, 0.0), (4260, 0.0), (4270, 0.0), (4271, 0.0), (4276, 0.0), (4278, 0.0), (4279, 0.0), (4291, 0.0), (4297, 0.0), (4300, 0.0), (4302, 0.0), (4305, 0.0), (4313, 0.0), (4315, 0.0), (4316, 0.0), (4317, 0.0), (4319, 0.0), (4323, 0.0), (4324, 0.0), (4327, 0.0), (4329, 0.0), (4332, 0.0), (4338, 0.0), (4341, 0.0), (4346, 0.0), (4347, 0.0), (4352, 0.0), (4353, 0.0), (4358, 0.0), (4364, 0.0), (4370, 0.0), (4372, 0.0), (4393, 0.0), (4404, 0.0), (4405, 0.0), (4406, 0.0), (4408, 0.0), (4410, 0.0), (4413, 0.0), (4414, 0.0), (4415, 0.0), (4417, 0.0), (4421, 0.0), (4424, 0.0), (4425, 0.0), (4433, 0.0), (4434, 0.0), (4437, 0.0), (4439, 0.0), (4447, 0.0), (4449, 0.0), (4451, 0.0), (4453, 0.0), (4454, 0.0), (4455, 0.0), (4457, 0.0), (4460, 0.0), (4463, 0.0), (4478, 0.0), (4480, 0.0), (4483, 0.0), (4485, 0.0), (4491, 0.0), (4493, 0.0), (4496, 0.0), (4498, 0.0), (4499, 0.0), (4500, 0.0), (4506, 0.0), (4508, 0.0), (4509, 0.0), (4519, 0.0), (4525, 0.0), (4526, 0.0), (4532, 0.0), (4539, 0.0), (4541, 0.0), (4542, 0.0), (4547, 0.0), (4549, 0.0), (4556, 0.0), (4558, 0.0), (4559, 0.0), (4560, 0.0), (4561, 0.0), (4562, 0.0), (4565, 0.0), (4568, 0.0), (4569, 0.0), (4570, 0.0), (4577, 0.0), (4578, 0.0), (4580, 0.0), (4592, 0.0), (4597, 0.0), (4599, 0.0), (4600, 0.0), (4609, 0.0), (4613, 0.0), (4615, 0.0), (4618, 0.0), (4622, 0.0), (4628, 0.0), (4631, 0.0), (4635, 0.0), (4644, 0.0), (4647, 0.0), (4648, 0.0), (4651, 0.0), (4654, 0.0), (4655, 0.0), (4662, 0.0), (4667, 0.0), (4671, 0.0), (4672, 0.0), (4675, 0.0), (4676, 0.0), (4681, 0.0), (4683, 0.0), (4688, 0.0), (4690, 0.0), (4700, 0.0), (4702, 0.0), (4711, 0.0), (4714, 0.0), (4716, 0.0), (4720, 0.0), (4725, 0.0), (4728, 0.0), (4730, 0.0), (4736, 0.0), (4737, 0.0), (4740, 0.0), (4741, 0.0), (4742, 0.0), (4745, 0.0), (4750, 0.0), (4751, 0.0), (4754, 0.0), (4755, 0.0), (4758, 0.0), (4759, 0.0)]\n"
          ]
        }
      ]
    },
    {
      "cell_type": "code",
      "source": [
        "#print the name similar movies based on the index\n",
        "print('Top 30 Movied Suggested For You: \\n')\n",
        "i=1\n",
        "\n",
        "for movie in Sorted_Similar_Movies:\n",
        "  index=movie[0]\n",
        "  title_from_index=df[df.index==index]['Movie_Title'].values[0]\n",
        "  if(i<31):\n",
        "    print(i, '.',title_from_index)\n",
        "    i+=1"
      ],
      "metadata": {
        "colab": {
          "base_uri": "https://localhost:8080/"
        },
        "id": "DCbCw7__qSxB",
        "outputId": "61db2e27-ee0a-4dfa-bd59-d276c56ec123"
      },
      "execution_count": null,
      "outputs": [
        {
          "output_type": "stream",
          "name": "stdout",
          "text": [
            "Top 30 Movied Suggested For You: \n",
            "\n",
            "1 . Niagara\n",
            "2 . Caravans\n",
            "3 . My Week with Marilyn\n",
            "4 . Brokeback Mountain\n",
            "5 . Harry Brown\n",
            "6 . Night of the Living Dead\n",
            "7 . The Curse of Downers Grove\n",
            "8 . The Boy Next Door\n",
            "9 . Back to the Future\n",
            "10 . The Juror\n",
            "11 . Some Like It Hot\n",
            "12 . Enough\n",
            "13 . The Kentucky Fried Movie\n",
            "14 . Eye for an Eye\n",
            "15 . Welcome to the Sticks\n",
            "16 . Alice Through the Looking Glass\n",
            "17 . Superman III\n",
            "18 . The Misfits\n",
            "19 . Premium Rush\n",
            "20 . Duel in the Sun\n",
            "21 . Sabotage\n",
            "22 . Small Soldiers\n",
            "23 . All That Jazz\n",
            "24 . Camping Sauvage\n",
            "25 . The Raid\n",
            "26 . Beyond the Black Rainbow\n",
            "27 . To Kill a Mockingbird\n",
            "28 . World Trade Center\n",
            "29 . The Dark Knight Rises\n",
            "30 . Tora! Tora! Tora!\n"
          ]
        }
      ]
    },
    {
      "cell_type": "markdown",
      "source": [
        "**Top 10 movie recommendation system**"
      ],
      "metadata": {
        "id": "llHkaZnlt5Q1"
      }
    },
    {
      "cell_type": "code",
      "source": [
        "Movie_name=input('Enter your favourite movie name: ')\n",
        "list_of_all_titles=df['Movie_Title'].tolist()\n",
        "Find_Close_Match=difflib.get_close_matches(Movie_name,list_of_all_titles)\n",
        "Close_Match=Find_Close_Match[0]\n",
        "Index_of_close_movie=df[df.Movie_Title==Close_Match]['Movie_ID'].values[0]\n",
        "Recommendation_Score=list(enumerate(Similarity_Score[Index_of_close_movie]))\n",
        "Sorted_Similar_Movies=sorted(Recommendation_Score,key = lambda x:x[1],reverse=True)\n",
        "print('Top 10 Movied Suggested For You: \\n')\n",
        "i=1\n",
        "\n",
        "for movie in Sorted_Similar_Movies:\n",
        "  index=movie[0]\n",
        "  title_from_index=df[df.index==index]['Movie_Title'].values[0]\n",
        "  if(i<11):\n",
        "    print(i, '.',title_from_index)\n",
        "    i+=1\n",
        "\n"
      ],
      "metadata": {
        "colab": {
          "base_uri": "https://localhost:8080/"
        },
        "id": "nylM6OjEuYfK",
        "outputId": "12a13fb7-df15-4d78-e3f9-c263776e6212"
      },
      "execution_count": null,
      "outputs": [
        {
          "output_type": "stream",
          "name": "stdout",
          "text": [
            "Enter your favourite movie name: Avengers\n",
            "Top 10 Movied Suggested For You: \n",
            "\n",
            "1 . Doogal\n",
            "2 . Cats & Dogs\n",
            "3 . The Color Purple\n",
            "4 . Fever Pitch\n",
            "5 . Shorts\n",
            "6 . Superbabies: Baby Geniuses 2\n",
            "7 . Brooklyn Rules\n",
            "8 . Elf\n",
            "9 . The Rugrats Movie\n",
            "10 . Bogus\n"
          ]
        }
      ]
    }
  ]
}